{
  "nbformat": 4,
  "nbformat_minor": 0,
  "metadata": {
    "colab": {
      "provenance": [],
      "gpuType": "T4",
      "include_colab_link": true
    },
    "kernelspec": {
      "name": "python3",
      "display_name": "Python 3"
    },
    "language_info": {
      "name": "python"
    },
    "accelerator": "GPU",
    "widgets": {
      "application/vnd.jupyter.widget-state+json": {
        "84dc104362c3485bb8bf36529f67f20c": {
          "model_module": "@jupyter-widgets/controls",
          "model_name": "HBoxModel",
          "model_module_version": "1.5.0",
          "state": {
            "_dom_classes": [],
            "_model_module": "@jupyter-widgets/controls",
            "_model_module_version": "1.5.0",
            "_model_name": "HBoxModel",
            "_view_count": null,
            "_view_module": "@jupyter-widgets/controls",
            "_view_module_version": "1.5.0",
            "_view_name": "HBoxView",
            "box_style": "",
            "children": [
              "IPY_MODEL_c3174b057c21426ab1cba8e5da4e83cf",
              "IPY_MODEL_c0866e48eaec4026bcbe280a0618a5f9",
              "IPY_MODEL_35adb157f9f645ab95f173e740f43009"
            ],
            "layout": "IPY_MODEL_cbf5fc97cfc84d48b5bdbe077f3c7223"
          }
        },
        "c3174b057c21426ab1cba8e5da4e83cf": {
          "model_module": "@jupyter-widgets/controls",
          "model_name": "HTMLModel",
          "model_module_version": "1.5.0",
          "state": {
            "_dom_classes": [],
            "_model_module": "@jupyter-widgets/controls",
            "_model_module_version": "1.5.0",
            "_model_name": "HTMLModel",
            "_view_count": null,
            "_view_module": "@jupyter-widgets/controls",
            "_view_module_version": "1.5.0",
            "_view_name": "HTMLView",
            "description": "",
            "description_tooltip": null,
            "layout": "IPY_MODEL_f9a1c811e974455386cb7cd063254795",
            "placeholder": "​",
            "style": "IPY_MODEL_561273fb264543c3a18b125bcac7b17c",
            "value": "Downloading (…)solve/main/vocab.txt: 100%"
          }
        },
        "c0866e48eaec4026bcbe280a0618a5f9": {
          "model_module": "@jupyter-widgets/controls",
          "model_name": "FloatProgressModel",
          "model_module_version": "1.5.0",
          "state": {
            "_dom_classes": [],
            "_model_module": "@jupyter-widgets/controls",
            "_model_module_version": "1.5.0",
            "_model_name": "FloatProgressModel",
            "_view_count": null,
            "_view_module": "@jupyter-widgets/controls",
            "_view_module_version": "1.5.0",
            "_view_name": "ProgressView",
            "bar_style": "success",
            "description": "",
            "description_tooltip": null,
            "layout": "IPY_MODEL_8e11df3e2de048b3823ad34fac7f6fe3",
            "max": 213450,
            "min": 0,
            "orientation": "horizontal",
            "style": "IPY_MODEL_687864974d3a413ab3a86a378d1391b3",
            "value": 213450
          }
        },
        "35adb157f9f645ab95f173e740f43009": {
          "model_module": "@jupyter-widgets/controls",
          "model_name": "HTMLModel",
          "model_module_version": "1.5.0",
          "state": {
            "_dom_classes": [],
            "_model_module": "@jupyter-widgets/controls",
            "_model_module_version": "1.5.0",
            "_model_name": "HTMLModel",
            "_view_count": null,
            "_view_module": "@jupyter-widgets/controls",
            "_view_module_version": "1.5.0",
            "_view_name": "HTMLView",
            "description": "",
            "description_tooltip": null,
            "layout": "IPY_MODEL_8e98f27b4be743a18cc6c0c770348e14",
            "placeholder": "​",
            "style": "IPY_MODEL_7d5935f6d50c48d3b10fdedb0cc8df79",
            "value": " 213k/213k [00:00&lt;00:00, 2.69MB/s]"
          }
        },
        "cbf5fc97cfc84d48b5bdbe077f3c7223": {
          "model_module": "@jupyter-widgets/base",
          "model_name": "LayoutModel",
          "model_module_version": "1.2.0",
          "state": {
            "_model_module": "@jupyter-widgets/base",
            "_model_module_version": "1.2.0",
            "_model_name": "LayoutModel",
            "_view_count": null,
            "_view_module": "@jupyter-widgets/base",
            "_view_module_version": "1.2.0",
            "_view_name": "LayoutView",
            "align_content": null,
            "align_items": null,
            "align_self": null,
            "border": null,
            "bottom": null,
            "display": null,
            "flex": null,
            "flex_flow": null,
            "grid_area": null,
            "grid_auto_columns": null,
            "grid_auto_flow": null,
            "grid_auto_rows": null,
            "grid_column": null,
            "grid_gap": null,
            "grid_row": null,
            "grid_template_areas": null,
            "grid_template_columns": null,
            "grid_template_rows": null,
            "height": null,
            "justify_content": null,
            "justify_items": null,
            "left": null,
            "margin": null,
            "max_height": null,
            "max_width": null,
            "min_height": null,
            "min_width": null,
            "object_fit": null,
            "object_position": null,
            "order": null,
            "overflow": null,
            "overflow_x": null,
            "overflow_y": null,
            "padding": null,
            "right": null,
            "top": null,
            "visibility": null,
            "width": null
          }
        },
        "f9a1c811e974455386cb7cd063254795": {
          "model_module": "@jupyter-widgets/base",
          "model_name": "LayoutModel",
          "model_module_version": "1.2.0",
          "state": {
            "_model_module": "@jupyter-widgets/base",
            "_model_module_version": "1.2.0",
            "_model_name": "LayoutModel",
            "_view_count": null,
            "_view_module": "@jupyter-widgets/base",
            "_view_module_version": "1.2.0",
            "_view_name": "LayoutView",
            "align_content": null,
            "align_items": null,
            "align_self": null,
            "border": null,
            "bottom": null,
            "display": null,
            "flex": null,
            "flex_flow": null,
            "grid_area": null,
            "grid_auto_columns": null,
            "grid_auto_flow": null,
            "grid_auto_rows": null,
            "grid_column": null,
            "grid_gap": null,
            "grid_row": null,
            "grid_template_areas": null,
            "grid_template_columns": null,
            "grid_template_rows": null,
            "height": null,
            "justify_content": null,
            "justify_items": null,
            "left": null,
            "margin": null,
            "max_height": null,
            "max_width": null,
            "min_height": null,
            "min_width": null,
            "object_fit": null,
            "object_position": null,
            "order": null,
            "overflow": null,
            "overflow_x": null,
            "overflow_y": null,
            "padding": null,
            "right": null,
            "top": null,
            "visibility": null,
            "width": null
          }
        },
        "561273fb264543c3a18b125bcac7b17c": {
          "model_module": "@jupyter-widgets/controls",
          "model_name": "DescriptionStyleModel",
          "model_module_version": "1.5.0",
          "state": {
            "_model_module": "@jupyter-widgets/controls",
            "_model_module_version": "1.5.0",
            "_model_name": "DescriptionStyleModel",
            "_view_count": null,
            "_view_module": "@jupyter-widgets/base",
            "_view_module_version": "1.2.0",
            "_view_name": "StyleView",
            "description_width": ""
          }
        },
        "8e11df3e2de048b3823ad34fac7f6fe3": {
          "model_module": "@jupyter-widgets/base",
          "model_name": "LayoutModel",
          "model_module_version": "1.2.0",
          "state": {
            "_model_module": "@jupyter-widgets/base",
            "_model_module_version": "1.2.0",
            "_model_name": "LayoutModel",
            "_view_count": null,
            "_view_module": "@jupyter-widgets/base",
            "_view_module_version": "1.2.0",
            "_view_name": "LayoutView",
            "align_content": null,
            "align_items": null,
            "align_self": null,
            "border": null,
            "bottom": null,
            "display": null,
            "flex": null,
            "flex_flow": null,
            "grid_area": null,
            "grid_auto_columns": null,
            "grid_auto_flow": null,
            "grid_auto_rows": null,
            "grid_column": null,
            "grid_gap": null,
            "grid_row": null,
            "grid_template_areas": null,
            "grid_template_columns": null,
            "grid_template_rows": null,
            "height": null,
            "justify_content": null,
            "justify_items": null,
            "left": null,
            "margin": null,
            "max_height": null,
            "max_width": null,
            "min_height": null,
            "min_width": null,
            "object_fit": null,
            "object_position": null,
            "order": null,
            "overflow": null,
            "overflow_x": null,
            "overflow_y": null,
            "padding": null,
            "right": null,
            "top": null,
            "visibility": null,
            "width": null
          }
        },
        "687864974d3a413ab3a86a378d1391b3": {
          "model_module": "@jupyter-widgets/controls",
          "model_name": "ProgressStyleModel",
          "model_module_version": "1.5.0",
          "state": {
            "_model_module": "@jupyter-widgets/controls",
            "_model_module_version": "1.5.0",
            "_model_name": "ProgressStyleModel",
            "_view_count": null,
            "_view_module": "@jupyter-widgets/base",
            "_view_module_version": "1.2.0",
            "_view_name": "StyleView",
            "bar_color": null,
            "description_width": ""
          }
        },
        "8e98f27b4be743a18cc6c0c770348e14": {
          "model_module": "@jupyter-widgets/base",
          "model_name": "LayoutModel",
          "model_module_version": "1.2.0",
          "state": {
            "_model_module": "@jupyter-widgets/base",
            "_model_module_version": "1.2.0",
            "_model_name": "LayoutModel",
            "_view_count": null,
            "_view_module": "@jupyter-widgets/base",
            "_view_module_version": "1.2.0",
            "_view_name": "LayoutView",
            "align_content": null,
            "align_items": null,
            "align_self": null,
            "border": null,
            "bottom": null,
            "display": null,
            "flex": null,
            "flex_flow": null,
            "grid_area": null,
            "grid_auto_columns": null,
            "grid_auto_flow": null,
            "grid_auto_rows": null,
            "grid_column": null,
            "grid_gap": null,
            "grid_row": null,
            "grid_template_areas": null,
            "grid_template_columns": null,
            "grid_template_rows": null,
            "height": null,
            "justify_content": null,
            "justify_items": null,
            "left": null,
            "margin": null,
            "max_height": null,
            "max_width": null,
            "min_height": null,
            "min_width": null,
            "object_fit": null,
            "object_position": null,
            "order": null,
            "overflow": null,
            "overflow_x": null,
            "overflow_y": null,
            "padding": null,
            "right": null,
            "top": null,
            "visibility": null,
            "width": null
          }
        },
        "7d5935f6d50c48d3b10fdedb0cc8df79": {
          "model_module": "@jupyter-widgets/controls",
          "model_name": "DescriptionStyleModel",
          "model_module_version": "1.5.0",
          "state": {
            "_model_module": "@jupyter-widgets/controls",
            "_model_module_version": "1.5.0",
            "_model_name": "DescriptionStyleModel",
            "_view_count": null,
            "_view_module": "@jupyter-widgets/base",
            "_view_module_version": "1.2.0",
            "_view_name": "StyleView",
            "description_width": ""
          }
        },
        "50fb9f8b719b4db3972662e3e39b7c3c": {
          "model_module": "@jupyter-widgets/controls",
          "model_name": "HBoxModel",
          "model_module_version": "1.5.0",
          "state": {
            "_dom_classes": [],
            "_model_module": "@jupyter-widgets/controls",
            "_model_module_version": "1.5.0",
            "_model_name": "HBoxModel",
            "_view_count": null,
            "_view_module": "@jupyter-widgets/controls",
            "_view_module_version": "1.5.0",
            "_view_name": "HBoxView",
            "box_style": "",
            "children": [
              "IPY_MODEL_d23405f7f16e442aaa78525185fb9ab5",
              "IPY_MODEL_27aa1063a692437e90db74599d1aeaa1",
              "IPY_MODEL_f350e88eb09142f093902523f27acbef"
            ],
            "layout": "IPY_MODEL_9ea67f02eda4407a82ac698d1d7e33c2"
          }
        },
        "d23405f7f16e442aaa78525185fb9ab5": {
          "model_module": "@jupyter-widgets/controls",
          "model_name": "HTMLModel",
          "model_module_version": "1.5.0",
          "state": {
            "_dom_classes": [],
            "_model_module": "@jupyter-widgets/controls",
            "_model_module_version": "1.5.0",
            "_model_name": "HTMLModel",
            "_view_count": null,
            "_view_module": "@jupyter-widgets/controls",
            "_view_module_version": "1.5.0",
            "_view_name": "HTMLView",
            "description": "",
            "description_tooltip": null,
            "layout": "IPY_MODEL_95eaa5f3d65a4b7fa3befc264d34e65a",
            "placeholder": "​",
            "style": "IPY_MODEL_ccce767fde494078a9c1248fb593ac2f",
            "value": "Downloading (…)okenizer_config.json: 100%"
          }
        },
        "27aa1063a692437e90db74599d1aeaa1": {
          "model_module": "@jupyter-widgets/controls",
          "model_name": "FloatProgressModel",
          "model_module_version": "1.5.0",
          "state": {
            "_dom_classes": [],
            "_model_module": "@jupyter-widgets/controls",
            "_model_module_version": "1.5.0",
            "_model_name": "FloatProgressModel",
            "_view_count": null,
            "_view_module": "@jupyter-widgets/controls",
            "_view_module_version": "1.5.0",
            "_view_name": "ProgressView",
            "bar_style": "success",
            "description": "",
            "description_tooltip": null,
            "layout": "IPY_MODEL_b5eeab9a48cc4e04b6a71166561842ec",
            "max": 29,
            "min": 0,
            "orientation": "horizontal",
            "style": "IPY_MODEL_56bd0c3ae64f47219d35719f2df4e698",
            "value": 29
          }
        },
        "f350e88eb09142f093902523f27acbef": {
          "model_module": "@jupyter-widgets/controls",
          "model_name": "HTMLModel",
          "model_module_version": "1.5.0",
          "state": {
            "_dom_classes": [],
            "_model_module": "@jupyter-widgets/controls",
            "_model_module_version": "1.5.0",
            "_model_name": "HTMLModel",
            "_view_count": null,
            "_view_module": "@jupyter-widgets/controls",
            "_view_module_version": "1.5.0",
            "_view_name": "HTMLView",
            "description": "",
            "description_tooltip": null,
            "layout": "IPY_MODEL_fcdc0bdb070743908a31a8e2e31c1507",
            "placeholder": "​",
            "style": "IPY_MODEL_e81d6a3e029f4b0da706e470fd2ab6b2",
            "value": " 29.0/29.0 [00:00&lt;00:00, 637B/s]"
          }
        },
        "9ea67f02eda4407a82ac698d1d7e33c2": {
          "model_module": "@jupyter-widgets/base",
          "model_name": "LayoutModel",
          "model_module_version": "1.2.0",
          "state": {
            "_model_module": "@jupyter-widgets/base",
            "_model_module_version": "1.2.0",
            "_model_name": "LayoutModel",
            "_view_count": null,
            "_view_module": "@jupyter-widgets/base",
            "_view_module_version": "1.2.0",
            "_view_name": "LayoutView",
            "align_content": null,
            "align_items": null,
            "align_self": null,
            "border": null,
            "bottom": null,
            "display": null,
            "flex": null,
            "flex_flow": null,
            "grid_area": null,
            "grid_auto_columns": null,
            "grid_auto_flow": null,
            "grid_auto_rows": null,
            "grid_column": null,
            "grid_gap": null,
            "grid_row": null,
            "grid_template_areas": null,
            "grid_template_columns": null,
            "grid_template_rows": null,
            "height": null,
            "justify_content": null,
            "justify_items": null,
            "left": null,
            "margin": null,
            "max_height": null,
            "max_width": null,
            "min_height": null,
            "min_width": null,
            "object_fit": null,
            "object_position": null,
            "order": null,
            "overflow": null,
            "overflow_x": null,
            "overflow_y": null,
            "padding": null,
            "right": null,
            "top": null,
            "visibility": null,
            "width": null
          }
        },
        "95eaa5f3d65a4b7fa3befc264d34e65a": {
          "model_module": "@jupyter-widgets/base",
          "model_name": "LayoutModel",
          "model_module_version": "1.2.0",
          "state": {
            "_model_module": "@jupyter-widgets/base",
            "_model_module_version": "1.2.0",
            "_model_name": "LayoutModel",
            "_view_count": null,
            "_view_module": "@jupyter-widgets/base",
            "_view_module_version": "1.2.0",
            "_view_name": "LayoutView",
            "align_content": null,
            "align_items": null,
            "align_self": null,
            "border": null,
            "bottom": null,
            "display": null,
            "flex": null,
            "flex_flow": null,
            "grid_area": null,
            "grid_auto_columns": null,
            "grid_auto_flow": null,
            "grid_auto_rows": null,
            "grid_column": null,
            "grid_gap": null,
            "grid_row": null,
            "grid_template_areas": null,
            "grid_template_columns": null,
            "grid_template_rows": null,
            "height": null,
            "justify_content": null,
            "justify_items": null,
            "left": null,
            "margin": null,
            "max_height": null,
            "max_width": null,
            "min_height": null,
            "min_width": null,
            "object_fit": null,
            "object_position": null,
            "order": null,
            "overflow": null,
            "overflow_x": null,
            "overflow_y": null,
            "padding": null,
            "right": null,
            "top": null,
            "visibility": null,
            "width": null
          }
        },
        "ccce767fde494078a9c1248fb593ac2f": {
          "model_module": "@jupyter-widgets/controls",
          "model_name": "DescriptionStyleModel",
          "model_module_version": "1.5.0",
          "state": {
            "_model_module": "@jupyter-widgets/controls",
            "_model_module_version": "1.5.0",
            "_model_name": "DescriptionStyleModel",
            "_view_count": null,
            "_view_module": "@jupyter-widgets/base",
            "_view_module_version": "1.2.0",
            "_view_name": "StyleView",
            "description_width": ""
          }
        },
        "b5eeab9a48cc4e04b6a71166561842ec": {
          "model_module": "@jupyter-widgets/base",
          "model_name": "LayoutModel",
          "model_module_version": "1.2.0",
          "state": {
            "_model_module": "@jupyter-widgets/base",
            "_model_module_version": "1.2.0",
            "_model_name": "LayoutModel",
            "_view_count": null,
            "_view_module": "@jupyter-widgets/base",
            "_view_module_version": "1.2.0",
            "_view_name": "LayoutView",
            "align_content": null,
            "align_items": null,
            "align_self": null,
            "border": null,
            "bottom": null,
            "display": null,
            "flex": null,
            "flex_flow": null,
            "grid_area": null,
            "grid_auto_columns": null,
            "grid_auto_flow": null,
            "grid_auto_rows": null,
            "grid_column": null,
            "grid_gap": null,
            "grid_row": null,
            "grid_template_areas": null,
            "grid_template_columns": null,
            "grid_template_rows": null,
            "height": null,
            "justify_content": null,
            "justify_items": null,
            "left": null,
            "margin": null,
            "max_height": null,
            "max_width": null,
            "min_height": null,
            "min_width": null,
            "object_fit": null,
            "object_position": null,
            "order": null,
            "overflow": null,
            "overflow_x": null,
            "overflow_y": null,
            "padding": null,
            "right": null,
            "top": null,
            "visibility": null,
            "width": null
          }
        },
        "56bd0c3ae64f47219d35719f2df4e698": {
          "model_module": "@jupyter-widgets/controls",
          "model_name": "ProgressStyleModel",
          "model_module_version": "1.5.0",
          "state": {
            "_model_module": "@jupyter-widgets/controls",
            "_model_module_version": "1.5.0",
            "_model_name": "ProgressStyleModel",
            "_view_count": null,
            "_view_module": "@jupyter-widgets/base",
            "_view_module_version": "1.2.0",
            "_view_name": "StyleView",
            "bar_color": null,
            "description_width": ""
          }
        },
        "fcdc0bdb070743908a31a8e2e31c1507": {
          "model_module": "@jupyter-widgets/base",
          "model_name": "LayoutModel",
          "model_module_version": "1.2.0",
          "state": {
            "_model_module": "@jupyter-widgets/base",
            "_model_module_version": "1.2.0",
            "_model_name": "LayoutModel",
            "_view_count": null,
            "_view_module": "@jupyter-widgets/base",
            "_view_module_version": "1.2.0",
            "_view_name": "LayoutView",
            "align_content": null,
            "align_items": null,
            "align_self": null,
            "border": null,
            "bottom": null,
            "display": null,
            "flex": null,
            "flex_flow": null,
            "grid_area": null,
            "grid_auto_columns": null,
            "grid_auto_flow": null,
            "grid_auto_rows": null,
            "grid_column": null,
            "grid_gap": null,
            "grid_row": null,
            "grid_template_areas": null,
            "grid_template_columns": null,
            "grid_template_rows": null,
            "height": null,
            "justify_content": null,
            "justify_items": null,
            "left": null,
            "margin": null,
            "max_height": null,
            "max_width": null,
            "min_height": null,
            "min_width": null,
            "object_fit": null,
            "object_position": null,
            "order": null,
            "overflow": null,
            "overflow_x": null,
            "overflow_y": null,
            "padding": null,
            "right": null,
            "top": null,
            "visibility": null,
            "width": null
          }
        },
        "e81d6a3e029f4b0da706e470fd2ab6b2": {
          "model_module": "@jupyter-widgets/controls",
          "model_name": "DescriptionStyleModel",
          "model_module_version": "1.5.0",
          "state": {
            "_model_module": "@jupyter-widgets/controls",
            "_model_module_version": "1.5.0",
            "_model_name": "DescriptionStyleModel",
            "_view_count": null,
            "_view_module": "@jupyter-widgets/base",
            "_view_module_version": "1.2.0",
            "_view_name": "StyleView",
            "description_width": ""
          }
        },
        "248b153e2ddc44588df481ecafd88bb1": {
          "model_module": "@jupyter-widgets/controls",
          "model_name": "HBoxModel",
          "model_module_version": "1.5.0",
          "state": {
            "_dom_classes": [],
            "_model_module": "@jupyter-widgets/controls",
            "_model_module_version": "1.5.0",
            "_model_name": "HBoxModel",
            "_view_count": null,
            "_view_module": "@jupyter-widgets/controls",
            "_view_module_version": "1.5.0",
            "_view_name": "HBoxView",
            "box_style": "",
            "children": [
              "IPY_MODEL_2eb2304a60fc47a5927b4a23eedec676",
              "IPY_MODEL_3d1a270d5f314db1919bced7bf5369ee",
              "IPY_MODEL_83d5db8812784b0bb6619b5ead8e9201"
            ],
            "layout": "IPY_MODEL_4373e0df591e410dbc29753fcf17e3db"
          }
        },
        "2eb2304a60fc47a5927b4a23eedec676": {
          "model_module": "@jupyter-widgets/controls",
          "model_name": "HTMLModel",
          "model_module_version": "1.5.0",
          "state": {
            "_dom_classes": [],
            "_model_module": "@jupyter-widgets/controls",
            "_model_module_version": "1.5.0",
            "_model_name": "HTMLModel",
            "_view_count": null,
            "_view_module": "@jupyter-widgets/controls",
            "_view_module_version": "1.5.0",
            "_view_name": "HTMLView",
            "description": "",
            "description_tooltip": null,
            "layout": "IPY_MODEL_05e32aacfb9b45c49d4e35c9fd4fbbd0",
            "placeholder": "​",
            "style": "IPY_MODEL_c53d04e905c84ad3b0083037ffabe50e",
            "value": "Downloading (…)lve/main/config.json: 100%"
          }
        },
        "3d1a270d5f314db1919bced7bf5369ee": {
          "model_module": "@jupyter-widgets/controls",
          "model_name": "FloatProgressModel",
          "model_module_version": "1.5.0",
          "state": {
            "_dom_classes": [],
            "_model_module": "@jupyter-widgets/controls",
            "_model_module_version": "1.5.0",
            "_model_name": "FloatProgressModel",
            "_view_count": null,
            "_view_module": "@jupyter-widgets/controls",
            "_view_module_version": "1.5.0",
            "_view_name": "ProgressView",
            "bar_style": "success",
            "description": "",
            "description_tooltip": null,
            "layout": "IPY_MODEL_d092b47daa5f4f37b84e74d7ddbb4e96",
            "max": 411,
            "min": 0,
            "orientation": "horizontal",
            "style": "IPY_MODEL_2ec1155975434923a04039b30188625b",
            "value": 411
          }
        },
        "83d5db8812784b0bb6619b5ead8e9201": {
          "model_module": "@jupyter-widgets/controls",
          "model_name": "HTMLModel",
          "model_module_version": "1.5.0",
          "state": {
            "_dom_classes": [],
            "_model_module": "@jupyter-widgets/controls",
            "_model_module_version": "1.5.0",
            "_model_name": "HTMLModel",
            "_view_count": null,
            "_view_module": "@jupyter-widgets/controls",
            "_view_module_version": "1.5.0",
            "_view_name": "HTMLView",
            "description": "",
            "description_tooltip": null,
            "layout": "IPY_MODEL_49016f67e60f43a9b2ef68a895d04c2b",
            "placeholder": "​",
            "style": "IPY_MODEL_9a2e1f1c9c024d99bd48851b4f12a175",
            "value": " 411/411 [00:00&lt;00:00, 9.82kB/s]"
          }
        },
        "4373e0df591e410dbc29753fcf17e3db": {
          "model_module": "@jupyter-widgets/base",
          "model_name": "LayoutModel",
          "model_module_version": "1.2.0",
          "state": {
            "_model_module": "@jupyter-widgets/base",
            "_model_module_version": "1.2.0",
            "_model_name": "LayoutModel",
            "_view_count": null,
            "_view_module": "@jupyter-widgets/base",
            "_view_module_version": "1.2.0",
            "_view_name": "LayoutView",
            "align_content": null,
            "align_items": null,
            "align_self": null,
            "border": null,
            "bottom": null,
            "display": null,
            "flex": null,
            "flex_flow": null,
            "grid_area": null,
            "grid_auto_columns": null,
            "grid_auto_flow": null,
            "grid_auto_rows": null,
            "grid_column": null,
            "grid_gap": null,
            "grid_row": null,
            "grid_template_areas": null,
            "grid_template_columns": null,
            "grid_template_rows": null,
            "height": null,
            "justify_content": null,
            "justify_items": null,
            "left": null,
            "margin": null,
            "max_height": null,
            "max_width": null,
            "min_height": null,
            "min_width": null,
            "object_fit": null,
            "object_position": null,
            "order": null,
            "overflow": null,
            "overflow_x": null,
            "overflow_y": null,
            "padding": null,
            "right": null,
            "top": null,
            "visibility": null,
            "width": null
          }
        },
        "05e32aacfb9b45c49d4e35c9fd4fbbd0": {
          "model_module": "@jupyter-widgets/base",
          "model_name": "LayoutModel",
          "model_module_version": "1.2.0",
          "state": {
            "_model_module": "@jupyter-widgets/base",
            "_model_module_version": "1.2.0",
            "_model_name": "LayoutModel",
            "_view_count": null,
            "_view_module": "@jupyter-widgets/base",
            "_view_module_version": "1.2.0",
            "_view_name": "LayoutView",
            "align_content": null,
            "align_items": null,
            "align_self": null,
            "border": null,
            "bottom": null,
            "display": null,
            "flex": null,
            "flex_flow": null,
            "grid_area": null,
            "grid_auto_columns": null,
            "grid_auto_flow": null,
            "grid_auto_rows": null,
            "grid_column": null,
            "grid_gap": null,
            "grid_row": null,
            "grid_template_areas": null,
            "grid_template_columns": null,
            "grid_template_rows": null,
            "height": null,
            "justify_content": null,
            "justify_items": null,
            "left": null,
            "margin": null,
            "max_height": null,
            "max_width": null,
            "min_height": null,
            "min_width": null,
            "object_fit": null,
            "object_position": null,
            "order": null,
            "overflow": null,
            "overflow_x": null,
            "overflow_y": null,
            "padding": null,
            "right": null,
            "top": null,
            "visibility": null,
            "width": null
          }
        },
        "c53d04e905c84ad3b0083037ffabe50e": {
          "model_module": "@jupyter-widgets/controls",
          "model_name": "DescriptionStyleModel",
          "model_module_version": "1.5.0",
          "state": {
            "_model_module": "@jupyter-widgets/controls",
            "_model_module_version": "1.5.0",
            "_model_name": "DescriptionStyleModel",
            "_view_count": null,
            "_view_module": "@jupyter-widgets/base",
            "_view_module_version": "1.2.0",
            "_view_name": "StyleView",
            "description_width": ""
          }
        },
        "d092b47daa5f4f37b84e74d7ddbb4e96": {
          "model_module": "@jupyter-widgets/base",
          "model_name": "LayoutModel",
          "model_module_version": "1.2.0",
          "state": {
            "_model_module": "@jupyter-widgets/base",
            "_model_module_version": "1.2.0",
            "_model_name": "LayoutModel",
            "_view_count": null,
            "_view_module": "@jupyter-widgets/base",
            "_view_module_version": "1.2.0",
            "_view_name": "LayoutView",
            "align_content": null,
            "align_items": null,
            "align_self": null,
            "border": null,
            "bottom": null,
            "display": null,
            "flex": null,
            "flex_flow": null,
            "grid_area": null,
            "grid_auto_columns": null,
            "grid_auto_flow": null,
            "grid_auto_rows": null,
            "grid_column": null,
            "grid_gap": null,
            "grid_row": null,
            "grid_template_areas": null,
            "grid_template_columns": null,
            "grid_template_rows": null,
            "height": null,
            "justify_content": null,
            "justify_items": null,
            "left": null,
            "margin": null,
            "max_height": null,
            "max_width": null,
            "min_height": null,
            "min_width": null,
            "object_fit": null,
            "object_position": null,
            "order": null,
            "overflow": null,
            "overflow_x": null,
            "overflow_y": null,
            "padding": null,
            "right": null,
            "top": null,
            "visibility": null,
            "width": null
          }
        },
        "2ec1155975434923a04039b30188625b": {
          "model_module": "@jupyter-widgets/controls",
          "model_name": "ProgressStyleModel",
          "model_module_version": "1.5.0",
          "state": {
            "_model_module": "@jupyter-widgets/controls",
            "_model_module_version": "1.5.0",
            "_model_name": "ProgressStyleModel",
            "_view_count": null,
            "_view_module": "@jupyter-widgets/base",
            "_view_module_version": "1.2.0",
            "_view_name": "StyleView",
            "bar_color": null,
            "description_width": ""
          }
        },
        "49016f67e60f43a9b2ef68a895d04c2b": {
          "model_module": "@jupyter-widgets/base",
          "model_name": "LayoutModel",
          "model_module_version": "1.2.0",
          "state": {
            "_model_module": "@jupyter-widgets/base",
            "_model_module_version": "1.2.0",
            "_model_name": "LayoutModel",
            "_view_count": null,
            "_view_module": "@jupyter-widgets/base",
            "_view_module_version": "1.2.0",
            "_view_name": "LayoutView",
            "align_content": null,
            "align_items": null,
            "align_self": null,
            "border": null,
            "bottom": null,
            "display": null,
            "flex": null,
            "flex_flow": null,
            "grid_area": null,
            "grid_auto_columns": null,
            "grid_auto_flow": null,
            "grid_auto_rows": null,
            "grid_column": null,
            "grid_gap": null,
            "grid_row": null,
            "grid_template_areas": null,
            "grid_template_columns": null,
            "grid_template_rows": null,
            "height": null,
            "justify_content": null,
            "justify_items": null,
            "left": null,
            "margin": null,
            "max_height": null,
            "max_width": null,
            "min_height": null,
            "min_width": null,
            "object_fit": null,
            "object_position": null,
            "order": null,
            "overflow": null,
            "overflow_x": null,
            "overflow_y": null,
            "padding": null,
            "right": null,
            "top": null,
            "visibility": null,
            "width": null
          }
        },
        "9a2e1f1c9c024d99bd48851b4f12a175": {
          "model_module": "@jupyter-widgets/controls",
          "model_name": "DescriptionStyleModel",
          "model_module_version": "1.5.0",
          "state": {
            "_model_module": "@jupyter-widgets/controls",
            "_model_module_version": "1.5.0",
            "_model_name": "DescriptionStyleModel",
            "_view_count": null,
            "_view_module": "@jupyter-widgets/base",
            "_view_module_version": "1.2.0",
            "_view_name": "StyleView",
            "description_width": ""
          }
        },
        "a061257b0ef54377a4bf8c060aa4576b": {
          "model_module": "@jupyter-widgets/controls",
          "model_name": "HBoxModel",
          "model_module_version": "1.5.0",
          "state": {
            "_dom_classes": [],
            "_model_module": "@jupyter-widgets/controls",
            "_model_module_version": "1.5.0",
            "_model_name": "HBoxModel",
            "_view_count": null,
            "_view_module": "@jupyter-widgets/controls",
            "_view_module_version": "1.5.0",
            "_view_name": "HBoxView",
            "box_style": "",
            "children": [
              "IPY_MODEL_c3f5d6e80bfd415a8cee2cf510e8eda3",
              "IPY_MODEL_5cad77c2d1f8440e9b79dfd5a966ca19",
              "IPY_MODEL_b4e1ba48747147158dce65e8172ca2fa"
            ],
            "layout": "IPY_MODEL_cb59fc62886d4d5d86ab185e545ab570"
          }
        },
        "c3f5d6e80bfd415a8cee2cf510e8eda3": {
          "model_module": "@jupyter-widgets/controls",
          "model_name": "HTMLModel",
          "model_module_version": "1.5.0",
          "state": {
            "_dom_classes": [],
            "_model_module": "@jupyter-widgets/controls",
            "_model_module_version": "1.5.0",
            "_model_name": "HTMLModel",
            "_view_count": null,
            "_view_module": "@jupyter-widgets/controls",
            "_view_module_version": "1.5.0",
            "_view_name": "HTMLView",
            "description": "",
            "description_tooltip": null,
            "layout": "IPY_MODEL_c936b571399d4364bb204135e7084881",
            "placeholder": "​",
            "style": "IPY_MODEL_46d1310c8d0046efa044f1e3ff760bc8",
            "value": "Downloading pytorch_model.bin: 100%"
          }
        },
        "5cad77c2d1f8440e9b79dfd5a966ca19": {
          "model_module": "@jupyter-widgets/controls",
          "model_name": "FloatProgressModel",
          "model_module_version": "1.5.0",
          "state": {
            "_dom_classes": [],
            "_model_module": "@jupyter-widgets/controls",
            "_model_module_version": "1.5.0",
            "_model_name": "FloatProgressModel",
            "_view_count": null,
            "_view_module": "@jupyter-widgets/controls",
            "_view_module_version": "1.5.0",
            "_view_name": "ProgressView",
            "bar_style": "success",
            "description": "",
            "description_tooltip": null,
            "layout": "IPY_MODEL_043ff2434e7147ae8793ef869b76bcad",
            "max": 263273408,
            "min": 0,
            "orientation": "horizontal",
            "style": "IPY_MODEL_35274b0baabf4f60924b23803f0c0493",
            "value": 263273408
          }
        },
        "b4e1ba48747147158dce65e8172ca2fa": {
          "model_module": "@jupyter-widgets/controls",
          "model_name": "HTMLModel",
          "model_module_version": "1.5.0",
          "state": {
            "_dom_classes": [],
            "_model_module": "@jupyter-widgets/controls",
            "_model_module_version": "1.5.0",
            "_model_name": "HTMLModel",
            "_view_count": null,
            "_view_module": "@jupyter-widgets/controls",
            "_view_module_version": "1.5.0",
            "_view_name": "HTMLView",
            "description": "",
            "description_tooltip": null,
            "layout": "IPY_MODEL_f54e6aa732fe41388acbaa6177652128",
            "placeholder": "​",
            "style": "IPY_MODEL_e59681b436af45f59bb8669c080afd2d",
            "value": " 263M/263M [00:02&lt;00:00, 132MB/s]"
          }
        },
        "cb59fc62886d4d5d86ab185e545ab570": {
          "model_module": "@jupyter-widgets/base",
          "model_name": "LayoutModel",
          "model_module_version": "1.2.0",
          "state": {
            "_model_module": "@jupyter-widgets/base",
            "_model_module_version": "1.2.0",
            "_model_name": "LayoutModel",
            "_view_count": null,
            "_view_module": "@jupyter-widgets/base",
            "_view_module_version": "1.2.0",
            "_view_name": "LayoutView",
            "align_content": null,
            "align_items": null,
            "align_self": null,
            "border": null,
            "bottom": null,
            "display": null,
            "flex": null,
            "flex_flow": null,
            "grid_area": null,
            "grid_auto_columns": null,
            "grid_auto_flow": null,
            "grid_auto_rows": null,
            "grid_column": null,
            "grid_gap": null,
            "grid_row": null,
            "grid_template_areas": null,
            "grid_template_columns": null,
            "grid_template_rows": null,
            "height": null,
            "justify_content": null,
            "justify_items": null,
            "left": null,
            "margin": null,
            "max_height": null,
            "max_width": null,
            "min_height": null,
            "min_width": null,
            "object_fit": null,
            "object_position": null,
            "order": null,
            "overflow": null,
            "overflow_x": null,
            "overflow_y": null,
            "padding": null,
            "right": null,
            "top": null,
            "visibility": null,
            "width": null
          }
        },
        "c936b571399d4364bb204135e7084881": {
          "model_module": "@jupyter-widgets/base",
          "model_name": "LayoutModel",
          "model_module_version": "1.2.0",
          "state": {
            "_model_module": "@jupyter-widgets/base",
            "_model_module_version": "1.2.0",
            "_model_name": "LayoutModel",
            "_view_count": null,
            "_view_module": "@jupyter-widgets/base",
            "_view_module_version": "1.2.0",
            "_view_name": "LayoutView",
            "align_content": null,
            "align_items": null,
            "align_self": null,
            "border": null,
            "bottom": null,
            "display": null,
            "flex": null,
            "flex_flow": null,
            "grid_area": null,
            "grid_auto_columns": null,
            "grid_auto_flow": null,
            "grid_auto_rows": null,
            "grid_column": null,
            "grid_gap": null,
            "grid_row": null,
            "grid_template_areas": null,
            "grid_template_columns": null,
            "grid_template_rows": null,
            "height": null,
            "justify_content": null,
            "justify_items": null,
            "left": null,
            "margin": null,
            "max_height": null,
            "max_width": null,
            "min_height": null,
            "min_width": null,
            "object_fit": null,
            "object_position": null,
            "order": null,
            "overflow": null,
            "overflow_x": null,
            "overflow_y": null,
            "padding": null,
            "right": null,
            "top": null,
            "visibility": null,
            "width": null
          }
        },
        "46d1310c8d0046efa044f1e3ff760bc8": {
          "model_module": "@jupyter-widgets/controls",
          "model_name": "DescriptionStyleModel",
          "model_module_version": "1.5.0",
          "state": {
            "_model_module": "@jupyter-widgets/controls",
            "_model_module_version": "1.5.0",
            "_model_name": "DescriptionStyleModel",
            "_view_count": null,
            "_view_module": "@jupyter-widgets/base",
            "_view_module_version": "1.2.0",
            "_view_name": "StyleView",
            "description_width": ""
          }
        },
        "043ff2434e7147ae8793ef869b76bcad": {
          "model_module": "@jupyter-widgets/base",
          "model_name": "LayoutModel",
          "model_module_version": "1.2.0",
          "state": {
            "_model_module": "@jupyter-widgets/base",
            "_model_module_version": "1.2.0",
            "_model_name": "LayoutModel",
            "_view_count": null,
            "_view_module": "@jupyter-widgets/base",
            "_view_module_version": "1.2.0",
            "_view_name": "LayoutView",
            "align_content": null,
            "align_items": null,
            "align_self": null,
            "border": null,
            "bottom": null,
            "display": null,
            "flex": null,
            "flex_flow": null,
            "grid_area": null,
            "grid_auto_columns": null,
            "grid_auto_flow": null,
            "grid_auto_rows": null,
            "grid_column": null,
            "grid_gap": null,
            "grid_row": null,
            "grid_template_areas": null,
            "grid_template_columns": null,
            "grid_template_rows": null,
            "height": null,
            "justify_content": null,
            "justify_items": null,
            "left": null,
            "margin": null,
            "max_height": null,
            "max_width": null,
            "min_height": null,
            "min_width": null,
            "object_fit": null,
            "object_position": null,
            "order": null,
            "overflow": null,
            "overflow_x": null,
            "overflow_y": null,
            "padding": null,
            "right": null,
            "top": null,
            "visibility": null,
            "width": null
          }
        },
        "35274b0baabf4f60924b23803f0c0493": {
          "model_module": "@jupyter-widgets/controls",
          "model_name": "ProgressStyleModel",
          "model_module_version": "1.5.0",
          "state": {
            "_model_module": "@jupyter-widgets/controls",
            "_model_module_version": "1.5.0",
            "_model_name": "ProgressStyleModel",
            "_view_count": null,
            "_view_module": "@jupyter-widgets/base",
            "_view_module_version": "1.2.0",
            "_view_name": "StyleView",
            "bar_color": null,
            "description_width": ""
          }
        },
        "f54e6aa732fe41388acbaa6177652128": {
          "model_module": "@jupyter-widgets/base",
          "model_name": "LayoutModel",
          "model_module_version": "1.2.0",
          "state": {
            "_model_module": "@jupyter-widgets/base",
            "_model_module_version": "1.2.0",
            "_model_name": "LayoutModel",
            "_view_count": null,
            "_view_module": "@jupyter-widgets/base",
            "_view_module_version": "1.2.0",
            "_view_name": "LayoutView",
            "align_content": null,
            "align_items": null,
            "align_self": null,
            "border": null,
            "bottom": null,
            "display": null,
            "flex": null,
            "flex_flow": null,
            "grid_area": null,
            "grid_auto_columns": null,
            "grid_auto_flow": null,
            "grid_auto_rows": null,
            "grid_column": null,
            "grid_gap": null,
            "grid_row": null,
            "grid_template_areas": null,
            "grid_template_columns": null,
            "grid_template_rows": null,
            "height": null,
            "justify_content": null,
            "justify_items": null,
            "left": null,
            "margin": null,
            "max_height": null,
            "max_width": null,
            "min_height": null,
            "min_width": null,
            "object_fit": null,
            "object_position": null,
            "order": null,
            "overflow": null,
            "overflow_x": null,
            "overflow_y": null,
            "padding": null,
            "right": null,
            "top": null,
            "visibility": null,
            "width": null
          }
        },
        "e59681b436af45f59bb8669c080afd2d": {
          "model_module": "@jupyter-widgets/controls",
          "model_name": "DescriptionStyleModel",
          "model_module_version": "1.5.0",
          "state": {
            "_model_module": "@jupyter-widgets/controls",
            "_model_module_version": "1.5.0",
            "_model_name": "DescriptionStyleModel",
            "_view_count": null,
            "_view_module": "@jupyter-widgets/base",
            "_view_module_version": "1.2.0",
            "_view_name": "StyleView",
            "description_width": ""
          }
        }
      }
    }
  },
  "cells": [
    {
      "cell_type": "markdown",
      "metadata": {
        "id": "view-in-github",
        "colab_type": "text"
      },
      "source": [
        "<a href=\"https://colab.research.google.com/github/DFwJZ/Real-time_Bot_Detection/blob/main/Cresci2017_AutoEncoder.ipynb\" target=\"_parent\"><img src=\"https://colab.research.google.com/assets/colab-badge.svg\" alt=\"Open In Colab\"/></a>"
      ]
    },
    {
      "cell_type": "code",
      "source": [
        "!pip install -q tensorflow"
      ],
      "metadata": {
        "id": "img2TwbLzxuS"
      },
      "execution_count": null,
      "outputs": []
    },
    {
      "cell_type": "code",
      "execution_count": null,
      "metadata": {
        "id": "_uzhLjclzOWf"
      },
      "outputs": [],
      "source": [
        "import os\n",
        "import pickle\n",
        "import numpy as np\n",
        "import pandas as pd"
      ]
    },
    {
      "cell_type": "code",
      "source": [
        "from google.colab import drive\n",
        "drive.mount('/content/drive', force_remount=True)"
      ],
      "metadata": {
        "colab": {
          "base_uri": "https://localhost:8080/"
        },
        "id": "Wykzqi2Yerm5",
        "outputId": "5fd56622-9088-47d2-a699-cd18da47a8cf"
      },
      "execution_count": null,
      "outputs": [
        {
          "output_type": "stream",
          "name": "stdout",
          "text": [
            "Mounted at /content/drive\n"
          ]
        }
      ]
    },
    {
      "cell_type": "code",
      "source": [
        "# Meagan's file path\n",
        "root_path = \"/content/drive/MyDrive/Bot_detection/cresci tweets/cresci 2017\""
      ],
      "metadata": {
        "id": "FNoTSPJcesRG"
      },
      "execution_count": null,
      "outputs": []
    },
    {
      "cell_type": "code",
      "source": [
        "# Jason's file path\n",
        "root_path = \"/content/drive/MyDrive/Colab Notebooks/Summer_Camp/Bot_detection/cresci tweets/cresci 2017\"\n",
        "# Jason's school email file path\n",
        "# root_path = \"/content/drive/MyDrive/Bot_detection/cresci tweets/cresci 2017\"\n"
      ],
      "metadata": {
        "id": "6vdNk2vSetwj"
      },
      "execution_count": null,
      "outputs": []
    },
    {
      "cell_type": "code",
      "source": [
        "tf.compat.v1.disable_eager_execution()"
      ],
      "metadata": {
        "id": "kY1Gnqavzc1z"
      },
      "execution_count": null,
      "outputs": []
    },
    {
      "cell_type": "code",
      "source": [
        "# Genuine Data Read in\n",
        "try:\n",
        "    df_genuine_data = pd.read_csv(f'{root_path}/genuine_tweets.csv',encoding = 'latin_1')\n",
        "    print(\"Data loaded successfully with 'latin_1' encoding.\")\n",
        "except Exception as e:\n",
        "    print(\"Error while reading the CSV file:\", e)"
      ],
      "metadata": {
        "colab": {
          "base_uri": "https://localhost:8080/"
        },
        "id": "yzG5WdmveDz7",
        "outputId": "104aa6ee-76b3-4ddc-8d15-3312eedc40a0"
      },
      "execution_count": null,
      "outputs": [
        {
          "output_type": "stream",
          "name": "stderr",
          "text": [
            "<ipython-input-20-6460d800ed46>:3: DtypeWarning: Columns (0) have mixed types. Specify dtype option on import or set low_memory=False.\n",
            "  df_genuine_data = pd.read_csv(f'{root_path}/genuine_tweets.csv',encoding = 'latin_1')\n"
          ]
        },
        {
          "output_type": "stream",
          "name": "stdout",
          "text": [
            "Data loaded successfully with 'latin_1' encoding.\n"
          ]
        }
      ]
    },
    {
      "cell_type": "code",
      "source": [
        "df_genuine_data = df_genuine_data.iloc[:, :-2]"
      ],
      "metadata": {
        "id": "K0St0qsCgTiy"
      },
      "execution_count": null,
      "outputs": []
    },
    {
      "cell_type": "code",
      "source": [
        "df_genuine_data.shape"
      ],
      "metadata": {
        "colab": {
          "base_uri": "https://localhost:8080/"
        },
        "id": "QEQCYStQhdXl",
        "outputId": "96c63b93-888b-42cf-e3c4-637173fe223b"
      },
      "execution_count": null,
      "outputs": [
        {
          "output_type": "execute_result",
          "data": {
            "text/plain": [
              "(2839362, 23)"
            ]
          },
          "metadata": {},
          "execution_count": 22
        }
      ]
    },
    {
      "cell_type": "code",
      "source": [
        "expected_columns_genuine = df_genuine_data.columns.tolist()\n",
        "expected_columns_genuine"
      ],
      "metadata": {
        "colab": {
          "base_uri": "https://localhost:8080/"
        },
        "id": "hRS6-gBngxT8",
        "outputId": "a2fdb5d2-2432-4b24-fe98-6708ff753e1b"
      },
      "execution_count": null,
      "outputs": [
        {
          "output_type": "execute_result",
          "data": {
            "text/plain": [
              "['id',\n",
              " 'text',\n",
              " 'source',\n",
              " 'user_id',\n",
              " 'truncated',\n",
              " 'in_reply_to_status_id',\n",
              " 'in_reply_to_user_id',\n",
              " 'in_reply_to_screen_name',\n",
              " 'retweeted_status_id',\n",
              " 'geo',\n",
              " 'place',\n",
              " 'contributors',\n",
              " 'retweet_count',\n",
              " 'reply_count',\n",
              " 'favorite_count',\n",
              " 'favorited',\n",
              " 'retweeted',\n",
              " 'possibly_sensitive',\n",
              " 'num_hashtags',\n",
              " 'num_urls',\n",
              " 'num_mentions',\n",
              " 'created_at',\n",
              " 'timestamp']"
            ]
          },
          "metadata": {},
          "execution_count": 23
        }
      ]
    },
    {
      "cell_type": "code",
      "source": [
        "# Read fake data\n",
        "fake_data_file =['2017_fake_followers_tweets.csv', '2017_spam1_tweets.csv', '2017_social1_tweets.csv', '2017_social2_tweets.csv', '2017_social3_tweets.csv']\n",
        "\n",
        "df_fake_combined = pd.DataFrame()\n",
        "common_columns = None\n",
        "\n",
        "# Load the fake data\n",
        "for file in fake_data_file:\n",
        "    try:\n",
        "        df = pd.read_csv(f'{root_path}/{file}', encoding='latin_1', low_memory=False)\n",
        "\n",
        "        if df_fake_combined.empty:\n",
        "            # This is the first file - initialize df_combined and common_columns\n",
        "            df_fake_combined = df\n",
        "            common_columns = set(df.columns)\n",
        "        else:\n",
        "            # This is a subsequent file - update common_columns and append only common columns to df_combined\n",
        "            common_columns &= set(df.columns)\n",
        "            df_fake_combined = pd.concat([df_fake_combined, df[list(common_columns)]])\n",
        "\n",
        "        print(f\"{file} loaded successfully with 'latin_1' encoding.\")\n",
        "    except Exception as e:\n",
        "        print(f\"Error while reading the {file} CSV file:\", e)"
      ],
      "metadata": {
        "colab": {
          "base_uri": "https://localhost:8080/"
        },
        "id": "4o7ho_N-gz43",
        "outputId": "85d1f0a6-a506-4aa0-d275-fd49617d7d44"
      },
      "execution_count": null,
      "outputs": [
        {
          "output_type": "stream",
          "name": "stdout",
          "text": [
            "2017_fake_followers_tweets.csv loaded successfully with 'latin_1' encoding.\n",
            "2017_spam1_tweets.csv loaded successfully with 'latin_1' encoding.\n",
            "2017_social1_tweets.csv loaded successfully with 'latin_1' encoding.\n",
            "2017_social2_tweets.csv loaded successfully with 'latin_1' encoding.\n",
            "2017_social3_tweets.csv loaded successfully with 'latin_1' encoding.\n"
          ]
        }
      ]
    },
    {
      "cell_type": "code",
      "source": [
        "df_fake_combined.shape"
      ],
      "metadata": {
        "colab": {
          "base_uri": "https://localhost:8080/"
        },
        "id": "EScK2V_xhftM",
        "outputId": "bf672423-2043-4a31-df2f-f75891e8c2d4"
      },
      "execution_count": null,
      "outputs": [
        {
          "output_type": "execute_result",
          "data": {
            "text/plain": [
              "(3798254, 23)"
            ]
          },
          "metadata": {},
          "execution_count": 25
        }
      ]
    },
    {
      "cell_type": "code",
      "source": [
        "from sklearn.model_selection import train_test_split\n",
        "# Train_fake_df will be used to train VAE to get baseline model\n",
        "train_fake_df, test_fake_df = train_test_split(df_fake_combined, test_size=0.1, random_state=719)\n",
        "_, test_genuine_df = train_test_split(df_genuine_data, test_size=0.1, random_state=719)"
      ],
      "metadata": {
        "id": "qxIaJ68rg4uT"
      },
      "execution_count": null,
      "outputs": []
    },
    {
      "cell_type": "code",
      "source": [
        "# test_fake_df['bot'] = 1\n",
        "# test_genuine_df['bot'] = 0"
      ],
      "metadata": {
        "id": "62sDJ2Jt20v_"
      },
      "execution_count": null,
      "outputs": []
    },
    {
      "cell_type": "code",
      "source": [
        "# df_test_combined = pd.concat([test_fake_df, test_genuine_df])"
      ],
      "metadata": {
        "id": "xxc17fzOhoAy"
      },
      "execution_count": null,
      "outputs": []
    },
    {
      "cell_type": "code",
      "source": [
        "# df_test_combined.head()"
      ],
      "metadata": {
        "id": "2xVY0ItY3Imn"
      },
      "execution_count": null,
      "outputs": []
    },
    {
      "cell_type": "code",
      "source": [
        "# roughly 85% to 15%\n",
        "train_fake_df.shape, test_fake_df.shape, test_genuine_df.shape"
      ],
      "metadata": {
        "colab": {
          "base_uri": "https://localhost:8080/"
        },
        "id": "KELLhimOkKWg",
        "outputId": "5c0013e0-326b-4d16-e58f-83625b53acae"
      },
      "execution_count": null,
      "outputs": [
        {
          "output_type": "execute_result",
          "data": {
            "text/plain": [
              "((3418428, 23), (379826, 23), (283937, 23))"
            ]
          },
          "metadata": {},
          "execution_count": 28
        }
      ]
    },
    {
      "cell_type": "markdown",
      "source": [
        "### Generate training data-DistilBERT\n"
      ],
      "metadata": {
        "id": "u3ZcRCg3z4xh"
      }
    },
    {
      "cell_type": "code",
      "source": [
        "!pip install -q transformers"
      ],
      "metadata": {
        "colab": {
          "base_uri": "https://localhost:8080/"
        },
        "id": "VMMFtv3V0GR_",
        "outputId": "5c31a6af-6040-4bfb-b771-e892915ec65a"
      },
      "execution_count": null,
      "outputs": [
        {
          "output_type": "stream",
          "name": "stdout",
          "text": [
            "\u001b[2K     \u001b[90m━━━━━━━━━━━━━━━━━━━━━━━━━━━━━━━━━━━━━━━━\u001b[0m \u001b[32m7.4/7.4 MB\u001b[0m \u001b[31m16.2 MB/s\u001b[0m eta \u001b[36m0:00:00\u001b[0m\n",
            "\u001b[2K     \u001b[90m━━━━━━━━━━━━━━━━━━━━━━━━━━━━━━━━━━━━━━\u001b[0m \u001b[32m268.8/268.8 kB\u001b[0m \u001b[31m29.3 MB/s\u001b[0m eta \u001b[36m0:00:00\u001b[0m\n",
            "\u001b[2K     \u001b[90m━━━━━━━━━━━━━━━━━━━━━━━━━━━━━━━━━━━━━━━━\u001b[0m \u001b[32m7.8/7.8 MB\u001b[0m \u001b[31m43.1 MB/s\u001b[0m eta \u001b[36m0:00:00\u001b[0m\n",
            "\u001b[2K     \u001b[90m━━━━━━━━━━━━━━━━━━━━━━━━━━━━━━━━━━━━━━━━\u001b[0m \u001b[32m1.3/1.3 MB\u001b[0m \u001b[31m50.3 MB/s\u001b[0m eta \u001b[36m0:00:00\u001b[0m\n",
            "\u001b[?25h"
          ]
        }
      ]
    },
    {
      "cell_type": "code",
      "source": [
        "import torch\n",
        "import numpy as np\n",
        "import tqdm\n",
        "from transformers import DistilBertModel, DistilBertTokenizer"
      ],
      "metadata": {
        "id": "k3cSKpLY0Alc"
      },
      "execution_count": null,
      "outputs": []
    },
    {
      "cell_type": "code",
      "source": [
        "class DistilBERT:\n",
        "    def __init__(self, batch_size=32):\n",
        "        \"\"\" Initialize Distil-BERT model \"\"\"\n",
        "        self.model_name = 'distilbert-base-cased'\n",
        "        self.model_class = DistilBertModel\n",
        "        self.tokenizer_class = DistilBertTokenizer\n",
        "\n",
        "        self.tokenizer = self.tokenizer_class.from_pretrained(self.model_name)\n",
        "        self.model = self.model_class.from_pretrained(self.model_name)\n",
        "        self.device = torch.device('cuda' if torch.cuda.is_available() else 'cpu')\n",
        "        self.model = self.model.to(self.device)\n",
        "\n",
        "        self.batch_size=batch_size\n",
        "\n",
        "    def embed(self, samples):\n",
        "        n = len(samples)\n",
        "        features = []\n",
        "\n",
        "        for i in range(0, n, self.batch_size):\n",
        "            batch = samples[i:i+self.batch_size]\n",
        "            encoded_input = self.tokenizer(batch, padding=True, truncation=True, return_tensors='pt')\n",
        "            encoded_input = {key: value.to(self.device) for key, value in encoded_input.items()}\n",
        "\n",
        "            with torch.no_grad():\n",
        "                last_hidden_states = self.model(**encoded_input)\n",
        "\n",
        "            batch_features = last_hidden_states.last_hidden_state[:, 0, :].cpu().numpy()\n",
        "            features.extend(batch_features)\n",
        "\n",
        "        return np.array(features)"
      ],
      "metadata": {
        "id": "lPM4KTEJ0EbN"
      },
      "execution_count": null,
      "outputs": []
    },
    {
      "cell_type": "code",
      "source": [
        "distil_bert = DistilBERT(batch_size=512)\n",
        "print(\"Success!\") if distil_bert else print(\"Fail!\")"
      ],
      "metadata": {
        "colab": {
          "base_uri": "https://localhost:8080/",
          "height": 163,
          "referenced_widgets": [
            "84dc104362c3485bb8bf36529f67f20c",
            "c3174b057c21426ab1cba8e5da4e83cf",
            "c0866e48eaec4026bcbe280a0618a5f9",
            "35adb157f9f645ab95f173e740f43009",
            "cbf5fc97cfc84d48b5bdbe077f3c7223",
            "f9a1c811e974455386cb7cd063254795",
            "561273fb264543c3a18b125bcac7b17c",
            "8e11df3e2de048b3823ad34fac7f6fe3",
            "687864974d3a413ab3a86a378d1391b3",
            "8e98f27b4be743a18cc6c0c770348e14",
            "7d5935f6d50c48d3b10fdedb0cc8df79",
            "50fb9f8b719b4db3972662e3e39b7c3c",
            "d23405f7f16e442aaa78525185fb9ab5",
            "27aa1063a692437e90db74599d1aeaa1",
            "f350e88eb09142f093902523f27acbef",
            "9ea67f02eda4407a82ac698d1d7e33c2",
            "95eaa5f3d65a4b7fa3befc264d34e65a",
            "ccce767fde494078a9c1248fb593ac2f",
            "b5eeab9a48cc4e04b6a71166561842ec",
            "56bd0c3ae64f47219d35719f2df4e698",
            "fcdc0bdb070743908a31a8e2e31c1507",
            "e81d6a3e029f4b0da706e470fd2ab6b2",
            "248b153e2ddc44588df481ecafd88bb1",
            "2eb2304a60fc47a5927b4a23eedec676",
            "3d1a270d5f314db1919bced7bf5369ee",
            "83d5db8812784b0bb6619b5ead8e9201",
            "4373e0df591e410dbc29753fcf17e3db",
            "05e32aacfb9b45c49d4e35c9fd4fbbd0",
            "c53d04e905c84ad3b0083037ffabe50e",
            "d092b47daa5f4f37b84e74d7ddbb4e96",
            "2ec1155975434923a04039b30188625b",
            "49016f67e60f43a9b2ef68a895d04c2b",
            "9a2e1f1c9c024d99bd48851b4f12a175",
            "a061257b0ef54377a4bf8c060aa4576b",
            "c3f5d6e80bfd415a8cee2cf510e8eda3",
            "5cad77c2d1f8440e9b79dfd5a966ca19",
            "b4e1ba48747147158dce65e8172ca2fa",
            "cb59fc62886d4d5d86ab185e545ab570",
            "c936b571399d4364bb204135e7084881",
            "46d1310c8d0046efa044f1e3ff760bc8",
            "043ff2434e7147ae8793ef869b76bcad",
            "35274b0baabf4f60924b23803f0c0493",
            "f54e6aa732fe41388acbaa6177652128",
            "e59681b436af45f59bb8669c080afd2d"
          ]
        },
        "id": "MAvTdTlsRKbe",
        "outputId": "14bfc44c-f8ec-4214-978c-90a798fc0966"
      },
      "execution_count": null,
      "outputs": [
        {
          "output_type": "display_data",
          "data": {
            "text/plain": [
              "Downloading (…)solve/main/vocab.txt:   0%|          | 0.00/213k [00:00<?, ?B/s]"
            ],
            "application/vnd.jupyter.widget-view+json": {
              "version_major": 2,
              "version_minor": 0,
              "model_id": "84dc104362c3485bb8bf36529f67f20c"
            }
          },
          "metadata": {}
        },
        {
          "output_type": "display_data",
          "data": {
            "text/plain": [
              "Downloading (…)okenizer_config.json:   0%|          | 0.00/29.0 [00:00<?, ?B/s]"
            ],
            "application/vnd.jupyter.widget-view+json": {
              "version_major": 2,
              "version_minor": 0,
              "model_id": "50fb9f8b719b4db3972662e3e39b7c3c"
            }
          },
          "metadata": {}
        },
        {
          "output_type": "display_data",
          "data": {
            "text/plain": [
              "Downloading (…)lve/main/config.json:   0%|          | 0.00/411 [00:00<?, ?B/s]"
            ],
            "application/vnd.jupyter.widget-view+json": {
              "version_major": 2,
              "version_minor": 0,
              "model_id": "248b153e2ddc44588df481ecafd88bb1"
            }
          },
          "metadata": {}
        },
        {
          "output_type": "display_data",
          "data": {
            "text/plain": [
              "Downloading pytorch_model.bin:   0%|          | 0.00/263M [00:00<?, ?B/s]"
            ],
            "application/vnd.jupyter.widget-view+json": {
              "version_major": 2,
              "version_minor": 0,
              "model_id": "a061257b0ef54377a4bf8c060aa4576b"
            }
          },
          "metadata": {}
        },
        {
          "output_type": "stream",
          "name": "stdout",
          "text": [
            "Success!\n"
          ]
        }
      ]
    },
    {
      "cell_type": "code",
      "source": [
        "# tqdm library is used to display the process bar (1s interval), easy to track the process when running in backgroud,\n",
        "tqdm.tqdm.pandas(mininterval=1)"
      ],
      "metadata": {
        "id": "Gzz7SC1sz4XR"
      },
      "execution_count": null,
      "outputs": []
    },
    {
      "cell_type": "code",
      "source": [
        "data_training_text= train_fake_df.dropna(subset=['text'])\n",
        "data_training_text.shape"
      ],
      "metadata": {
        "colab": {
          "base_uri": "https://localhost:8080/"
        },
        "id": "PEh8AHME0WeN",
        "outputId": "2b9851bd-2768-4e52-a670-8b462d23dde5"
      },
      "execution_count": null,
      "outputs": [
        {
          "output_type": "execute_result",
          "data": {
            "text/plain": [
              "(3418039, 23)"
            ]
          },
          "metadata": {},
          "execution_count": 29
        }
      ]
    },
    {
      "cell_type": "code",
      "source": [
        "test_fake_df = test_fake_df.dropna(subset=['text'])\n",
        "test_fake_df.shape"
      ],
      "metadata": {
        "colab": {
          "base_uri": "https://localhost:8080/"
        },
        "id": "3EK_suuvMl3u",
        "outputId": "88ca3c74-bc72-4712-823d-948afd2b5f15"
      },
      "execution_count": null,
      "outputs": [
        {
          "output_type": "execute_result",
          "data": {
            "text/plain": [
              "(379780, 23)"
            ]
          },
          "metadata": {},
          "execution_count": 30
        }
      ]
    },
    {
      "cell_type": "code",
      "source": [
        "test_genuine_df = test_genuine_df.dropna(subset=['text'])\n",
        "test_genuine_df.shape"
      ],
      "metadata": {
        "colab": {
          "base_uri": "https://localhost:8080/"
        },
        "id": "jlT8WNDjMl7T",
        "outputId": "d57db358-9da8-4579-fb04-620977904a89"
      },
      "execution_count": null,
      "outputs": [
        {
          "output_type": "execute_result",
          "data": {
            "text/plain": [
              "(282663, 23)"
            ]
          },
          "metadata": {},
          "execution_count": 31
        }
      ]
    },
    {
      "cell_type": "code",
      "source": [
        "# df_test_combined = df_test_combined.dropna(subset=['text'])\n",
        "\n",
        "# data_test_text= df_test_combined[['text']]\n",
        "# data_test_label = df_test_combined[['bot']]\n",
        "# data_test_text.shape, data_test_label.shape"
      ],
      "metadata": {
        "colab": {
          "base_uri": "https://localhost:8080/"
        },
        "id": "BY0N_qiR0neM",
        "outputId": "712c84ee-b1dc-4a3e-fd4b-b489a0b4bf4c"
      },
      "execution_count": null,
      "outputs": [
        {
          "output_type": "execute_result",
          "data": {
            "text/plain": [
              "((662443, 1), (662443, 1))"
            ]
          },
          "metadata": {},
          "execution_count": 27
        }
      ]
    },
    {
      "cell_type": "code",
      "source": [
        "if os.path.exists(f'{root_path}/Autoencoder'):\n",
        "    print('yes')"
      ],
      "metadata": {
        "colab": {
          "base_uri": "https://localhost:8080/"
        },
        "id": "dee32jvy1pgr",
        "outputId": "5c82dcb6-aaf1-4b00-fdd4-d691795b3ef6"
      },
      "execution_count": null,
      "outputs": [
        {
          "output_type": "stream",
          "name": "stdout",
          "text": [
            "yes\n"
          ]
        }
      ]
    },
    {
      "cell_type": "code",
      "source": [
        "data_training_text_only_full = data_training_text['text']\n",
        "data_test_fake_df_full = test_fake_df['text']\n",
        "data_test_genuine_df_full = test_genuine_df['text']\n",
        "data_training_text_only_full.shape, data_test_fake_df_full.shape, data_test_genuine_df_full.shape"
      ],
      "metadata": {
        "colab": {
          "base_uri": "https://localhost:8080/"
        },
        "id": "yWE6rbjD35D4",
        "outputId": "f7a1589f-aa31-4456-8008-bddae169a28a"
      },
      "execution_count": null,
      "outputs": [
        {
          "output_type": "execute_result",
          "data": {
            "text/plain": [
              "((3418039,), (379780,), (282663,))"
            ]
          },
          "metadata": {},
          "execution_count": 58
        }
      ]
    },
    {
      "cell_type": "code",
      "source": [
        "data_training_text_only_full.to_csv(f'{root_path}/Autoencoder/data_training_text_only_full.csv', index=False)\n",
        "data_test_fake_df_full.to_csv(f'{root_path}/Autoencoder/data_test_fake_df_full.csv', index=False)\n",
        "data_test_genuine_df_full.to_csv(f'{root_path}/Autoencoder/data_test_genuine_df_full.csv', index=False)"
      ],
      "metadata": {
        "id": "KPiualuENwt-"
      },
      "execution_count": null,
      "outputs": []
    },
    {
      "cell_type": "code",
      "source": [
        "data_training_text_only_full = pd.read_csv(f'{root_path}/Autoencoder/data_training_text_only_full.csv', encoding = 'latin_1')\n",
        "# data_test_fake_df_full = pd.read_csv(f'{root_path}/Autoencoder/data_test_fake_df_full.csv', encoding = 'latin_1')\n",
        "# data_test_genuine_df_full = pd.read_csv(f'{root_path}/Autoencoder/data_test_genuine_df_full.csv', encoding = 'latin_1')"
      ],
      "metadata": {
        "id": "pSMSuBJjN9PY"
      },
      "execution_count": null,
      "outputs": []
    },
    {
      "cell_type": "code",
      "source": [
        "data_training_text_only_full.shape, data_test_fake_df_full.shape, data_test_genuine_df_full.shape"
      ],
      "metadata": {
        "id": "LG7_1RPxS1BA"
      },
      "execution_count": null,
      "outputs": []
    },
    {
      "cell_type": "code",
      "source": [
        "# Shuffle the data\n",
        "data_training_text_only_full = data_training_text_only_full.sample(frac=1, random_state=720)"
      ],
      "metadata": {
        "id": "XzlqxUxGBkL0"
      },
      "execution_count": null,
      "outputs": []
    },
    {
      "cell_type": "code",
      "source": [
        "data_training_text_only_400k = data_training_text_only_full[:400000]\n",
        "data_training_text_only_400k"
      ],
      "metadata": {
        "colab": {
          "base_uri": "https://localhost:8080/",
          "height": 423
        },
        "id": "FSdXC_4PSJYP",
        "outputId": "f0db4231-0dc9-4992-ca7b-0d62d30ef78e"
      },
      "execution_count": null,
      "outputs": [
        {
          "output_type": "execute_result",
          "data": {
            "text/plain": [
              "                                                     text\n",
              "0       Se non avete mai rischiato di soffocare tentan...\n",
              "1       Check out these awesome ping pong &amp; table ...\n",
              "2       TIP: Trash containers should always be covered...\n",
              "3       MAMMA MAMMA E' ARRIVATO IL SALUMIERE CON LA SP...\n",
              "4       Tutti che continua a regalarmi libri e nessuno...\n",
              "...                                                   ...\n",
              "399995  RITWITTA Se anche anche a te ÃÂ¨ capitato di ...\n",
              "399996  Le persone che quando dicono una barzelletta n...\n",
              "399997  La vera felicitÃÂ  ÃÂ¨ la pace con se stessi...\n",
              "399998  L'AMORE TI FA' FARE COSE PAZZE, AD ESEMPIO IO....\n",
              "399999  Colui che crede in se stesso vive coi piedi fo...\n",
              "\n",
              "[400000 rows x 1 columns]"
            ],
            "text/html": [
              "\n",
              "\n",
              "  <div id=\"df-f3a3d223-a074-4d42-90bc-e04f8846aee7\">\n",
              "    <div class=\"colab-df-container\">\n",
              "      <div>\n",
              "<style scoped>\n",
              "    .dataframe tbody tr th:only-of-type {\n",
              "        vertical-align: middle;\n",
              "    }\n",
              "\n",
              "    .dataframe tbody tr th {\n",
              "        vertical-align: top;\n",
              "    }\n",
              "\n",
              "    .dataframe thead th {\n",
              "        text-align: right;\n",
              "    }\n",
              "</style>\n",
              "<table border=\"1\" class=\"dataframe\">\n",
              "  <thead>\n",
              "    <tr style=\"text-align: right;\">\n",
              "      <th></th>\n",
              "      <th>text</th>\n",
              "    </tr>\n",
              "  </thead>\n",
              "  <tbody>\n",
              "    <tr>\n",
              "      <th>0</th>\n",
              "      <td>Se non avete mai rischiato di soffocare tentan...</td>\n",
              "    </tr>\n",
              "    <tr>\n",
              "      <th>1</th>\n",
              "      <td>Check out these awesome ping pong &amp;amp; table ...</td>\n",
              "    </tr>\n",
              "    <tr>\n",
              "      <th>2</th>\n",
              "      <td>TIP: Trash containers should always be covered...</td>\n",
              "    </tr>\n",
              "    <tr>\n",
              "      <th>3</th>\n",
              "      <td>MAMMA MAMMA E' ARRIVATO IL SALUMIERE CON LA SP...</td>\n",
              "    </tr>\n",
              "    <tr>\n",
              "      <th>4</th>\n",
              "      <td>Tutti che continua a regalarmi libri e nessuno...</td>\n",
              "    </tr>\n",
              "    <tr>\n",
              "      <th>...</th>\n",
              "      <td>...</td>\n",
              "    </tr>\n",
              "    <tr>\n",
              "      <th>399995</th>\n",
              "      <td>RITWITTA Se anche anche a te ÃÂ¨ capitato di ...</td>\n",
              "    </tr>\n",
              "    <tr>\n",
              "      <th>399996</th>\n",
              "      <td>Le persone che quando dicono una barzelletta n...</td>\n",
              "    </tr>\n",
              "    <tr>\n",
              "      <th>399997</th>\n",
              "      <td>La vera felicitÃÂ  ÃÂ¨ la pace con se stessi...</td>\n",
              "    </tr>\n",
              "    <tr>\n",
              "      <th>399998</th>\n",
              "      <td>L'AMORE TI FA' FARE COSE PAZZE, AD ESEMPIO IO....</td>\n",
              "    </tr>\n",
              "    <tr>\n",
              "      <th>399999</th>\n",
              "      <td>Colui che crede in se stesso vive coi piedi fo...</td>\n",
              "    </tr>\n",
              "  </tbody>\n",
              "</table>\n",
              "<p>400000 rows × 1 columns</p>\n",
              "</div>\n",
              "      <button class=\"colab-df-convert\" onclick=\"convertToInteractive('df-f3a3d223-a074-4d42-90bc-e04f8846aee7')\"\n",
              "              title=\"Convert this dataframe to an interactive table.\"\n",
              "              style=\"display:none;\">\n",
              "\n",
              "  <svg xmlns=\"http://www.w3.org/2000/svg\" height=\"24px\"viewBox=\"0 0 24 24\"\n",
              "       width=\"24px\">\n",
              "    <path d=\"M0 0h24v24H0V0z\" fill=\"none\"/>\n",
              "    <path d=\"M18.56 5.44l.94 2.06.94-2.06 2.06-.94-2.06-.94-.94-2.06-.94 2.06-2.06.94zm-11 1L8.5 8.5l.94-2.06 2.06-.94-2.06-.94L8.5 2.5l-.94 2.06-2.06.94zm10 10l.94 2.06.94-2.06 2.06-.94-2.06-.94-.94-2.06-.94 2.06-2.06.94z\"/><path d=\"M17.41 7.96l-1.37-1.37c-.4-.4-.92-.59-1.43-.59-.52 0-1.04.2-1.43.59L10.3 9.45l-7.72 7.72c-.78.78-.78 2.05 0 2.83L4 21.41c.39.39.9.59 1.41.59.51 0 1.02-.2 1.41-.59l7.78-7.78 2.81-2.81c.8-.78.8-2.07 0-2.86zM5.41 20L4 18.59l7.72-7.72 1.47 1.35L5.41 20z\"/>\n",
              "  </svg>\n",
              "      </button>\n",
              "\n",
              "\n",
              "\n",
              "    <div id=\"df-e17d0982-d71d-4c7f-aad8-41a3192f6d7c\">\n",
              "      <button class=\"colab-df-quickchart\" onclick=\"quickchart('df-e17d0982-d71d-4c7f-aad8-41a3192f6d7c')\"\n",
              "              title=\"Suggest charts.\"\n",
              "              style=\"display:none;\">\n",
              "\n",
              "<svg xmlns=\"http://www.w3.org/2000/svg\" height=\"24px\"viewBox=\"0 0 24 24\"\n",
              "     width=\"24px\">\n",
              "    <g>\n",
              "        <path d=\"M19 3H5c-1.1 0-2 .9-2 2v14c0 1.1.9 2 2 2h14c1.1 0 2-.9 2-2V5c0-1.1-.9-2-2-2zM9 17H7v-7h2v7zm4 0h-2V7h2v10zm4 0h-2v-4h2v4z\"/>\n",
              "    </g>\n",
              "</svg>\n",
              "      </button>\n",
              "    </div>\n",
              "\n",
              "<style>\n",
              "  .colab-df-quickchart {\n",
              "    background-color: #E8F0FE;\n",
              "    border: none;\n",
              "    border-radius: 50%;\n",
              "    cursor: pointer;\n",
              "    display: none;\n",
              "    fill: #1967D2;\n",
              "    height: 32px;\n",
              "    padding: 0 0 0 0;\n",
              "    width: 32px;\n",
              "  }\n",
              "\n",
              "  .colab-df-quickchart:hover {\n",
              "    background-color: #E2EBFA;\n",
              "    box-shadow: 0px 1px 2px rgba(60, 64, 67, 0.3), 0px 1px 3px 1px rgba(60, 64, 67, 0.15);\n",
              "    fill: #174EA6;\n",
              "  }\n",
              "\n",
              "  [theme=dark] .colab-df-quickchart {\n",
              "    background-color: #3B4455;\n",
              "    fill: #D2E3FC;\n",
              "  }\n",
              "\n",
              "  [theme=dark] .colab-df-quickchart:hover {\n",
              "    background-color: #434B5C;\n",
              "    box-shadow: 0px 1px 3px 1px rgba(0, 0, 0, 0.15);\n",
              "    filter: drop-shadow(0px 1px 2px rgba(0, 0, 0, 0.3));\n",
              "    fill: #FFFFFF;\n",
              "  }\n",
              "</style>\n",
              "\n",
              "    <script>\n",
              "      async function quickchart(key) {\n",
              "        const containerElement = document.querySelector('#' + key);\n",
              "        const charts = await google.colab.kernel.invokeFunction(\n",
              "            'suggestCharts', [key], {});\n",
              "      }\n",
              "    </script>\n",
              "\n",
              "      <script>\n",
              "\n",
              "function displayQuickchartButton(domScope) {\n",
              "  let quickchartButtonEl =\n",
              "    domScope.querySelector('#df-e17d0982-d71d-4c7f-aad8-41a3192f6d7c button.colab-df-quickchart');\n",
              "  quickchartButtonEl.style.display =\n",
              "    google.colab.kernel.accessAllowed ? 'block' : 'none';\n",
              "}\n",
              "\n",
              "        displayQuickchartButton(document);\n",
              "      </script>\n",
              "      <style>\n",
              "    .colab-df-container {\n",
              "      display:flex;\n",
              "      flex-wrap:wrap;\n",
              "      gap: 12px;\n",
              "    }\n",
              "\n",
              "    .colab-df-convert {\n",
              "      background-color: #E8F0FE;\n",
              "      border: none;\n",
              "      border-radius: 50%;\n",
              "      cursor: pointer;\n",
              "      display: none;\n",
              "      fill: #1967D2;\n",
              "      height: 32px;\n",
              "      padding: 0 0 0 0;\n",
              "      width: 32px;\n",
              "    }\n",
              "\n",
              "    .colab-df-convert:hover {\n",
              "      background-color: #E2EBFA;\n",
              "      box-shadow: 0px 1px 2px rgba(60, 64, 67, 0.3), 0px 1px 3px 1px rgba(60, 64, 67, 0.15);\n",
              "      fill: #174EA6;\n",
              "    }\n",
              "\n",
              "    [theme=dark] .colab-df-convert {\n",
              "      background-color: #3B4455;\n",
              "      fill: #D2E3FC;\n",
              "    }\n",
              "\n",
              "    [theme=dark] .colab-df-convert:hover {\n",
              "      background-color: #434B5C;\n",
              "      box-shadow: 0px 1px 3px 1px rgba(0, 0, 0, 0.15);\n",
              "      filter: drop-shadow(0px 1px 2px rgba(0, 0, 0, 0.3));\n",
              "      fill: #FFFFFF;\n",
              "    }\n",
              "  </style>\n",
              "\n",
              "      <script>\n",
              "        const buttonEl =\n",
              "          document.querySelector('#df-f3a3d223-a074-4d42-90bc-e04f8846aee7 button.colab-df-convert');\n",
              "        buttonEl.style.display =\n",
              "          google.colab.kernel.accessAllowed ? 'block' : 'none';\n",
              "\n",
              "        async function convertToInteractive(key) {\n",
              "          const element = document.querySelector('#df-f3a3d223-a074-4d42-90bc-e04f8846aee7');\n",
              "          const dataTable =\n",
              "            await google.colab.kernel.invokeFunction('convertToInteractive',\n",
              "                                                     [key], {});\n",
              "          if (!dataTable) return;\n",
              "\n",
              "          const docLinkHtml = 'Like what you see? Visit the ' +\n",
              "            '<a target=\"_blank\" href=https://colab.research.google.com/notebooks/data_table.ipynb>data table notebook</a>'\n",
              "            + ' to learn more about interactive tables.';\n",
              "          element.innerHTML = '';\n",
              "          dataTable['output_type'] = 'display_data';\n",
              "          await google.colab.output.renderOutput(dataTable, element);\n",
              "          const docLink = document.createElement('div');\n",
              "          docLink.innerHTML = docLinkHtml;\n",
              "          element.appendChild(docLink);\n",
              "        }\n",
              "      </script>\n",
              "    </div>\n",
              "  </div>\n"
            ]
          },
          "metadata": {},
          "execution_count": 11
        }
      ]
    },
    {
      "cell_type": "code",
      "source": [
        "# # Function to process texts in batch\n",
        "# def process_texts(data, distil_bert):\n",
        "#     embeddings = []\n",
        "#     data = data['text'].tolist()  # Convert the Series to a list\n",
        "#     for i in tqdm.tqdm(range(0, len(data), distil_bert.batch_size), total=int(len(data) / distil_bert.batch_size), desc='Processing'):\n",
        "#         batch_texts = data[i:i+distil_bert.batch_size]\n",
        "#         batch_embedding = distil_bert.embed(batch_texts)\n",
        "#         embeddings.append(batch_embedding)\n",
        "#     return np.concatenate(embeddings)\n",
        "\n",
        "\n",
        "# data_training_text_only_full_embeddings = process_texts(data_training_text_only_400k, distil_bert)\n",
        "# data_test_fake_df_full_embeddings = process_texts(data_test_fake_df_full, distil_bert)\n",
        "# data_test_genuine_df_full_embeddings = process_texts(data_test_genuine_df_full, distil_bert)\n",
        "\n",
        "# np.save(f'{root_path}/Autoencoder/data_training_text_embeddings_400k.npy', data_training_text_only_full_embeddings)\n",
        "# np.save(f'{root_path}/Autoencoder/data_test_fake_df_full_embeddings.npy', data_test_fake_df_full_embeddings)\n",
        "# np.save(f'{root_path}/Autoencoder/data_test_genuine_df_full_embeddings.npy', data_test_genuine_df_full_embeddings)"
      ],
      "metadata": {
        "id": "yX2UPuna0zNX",
        "colab": {
          "base_uri": "https://localhost:8080/"
        },
        "outputId": "8512271e-0abe-461d-8af9-d793d09d2421"
      },
      "execution_count": null,
      "outputs": [
        {
          "output_type": "stream",
          "name": "stderr",
          "text": [
            "Processing: 100%|██████████| 12500/12500 [14:47<00:00, 14.08it/s]\n",
            "Processing: 11869it [13:52, 14.25it/s]                           \n",
            "Processing: 8834it [09:41, 15.18it/s]                          \n"
          ]
        }
      ]
    },
    {
      "cell_type": "code",
      "source": [
        "chunk_size = 500000 # 0.5 million\n",
        "num_chunks = len(data_training_text_only_full) // chunk_size + 1\n",
        "\n",
        "def process_texts(data, distil_bert):\n",
        "    embeddings = []\n",
        "    data = data['text'].tolist()  # Convert the Series to a list\n",
        "    for i in tqdm.tqdm(range(0, len(data), distil_bert.batch_size), total=int(len(data) / distil_bert.batch_size), desc='Processing'):\n",
        "        batch_texts = data[i:i+distil_bert.batch_size]\n",
        "        batch_embedding = distil_bert.embed(batch_texts)\n",
        "        embeddings.append(batch_embedding)\n",
        "    return np.concatenate(embeddings)\n",
        "\n",
        "for i in range(num_chunks):\n",
        "    start_index = i * chunk_size\n",
        "    end_index = min((i + 1) * chunk_size, len(data_training_text_only_full))\n",
        "    data_chunk = data_training_text_only_full[start_index:end_index]\n",
        "\n",
        "    # Define the path where you want to save the numpy array\n",
        "    npy_path = f'{root_path}/Autoencoder/data_training_text_embeddings_chunk_{i}.npy'\n",
        "\n",
        "    # Check if this chunk has already been processed and saved\n",
        "    if os.path.exists(npy_path):\n",
        "        print(f'Chunk {i} has already been processed.')\n",
        "    else:\n",
        "        # Process this chunk of data\n",
        "        data_chunk_embeddings = process_texts(data_chunk, distil_bert)\n",
        "\n",
        "        # Save the processed data as a numpy array\n",
        "        np.save(npy_path, data_chunk_embeddings)\n"
      ],
      "metadata": {
        "id": "OCilSBUXCKjR"
      },
      "execution_count": null,
      "outputs": []
    },
    {
      "cell_type": "code",
      "source": [
        "data_training_text_embeddings_chunk_0 = np.load(f'{root_path}/Autoencoder/data_training_text_embeddings_chunk_0.npy')\n",
        "data_training_text_embeddings_chunk_1 = np.load(f'{root_path}/Autoencoder/data_training_text_embeddings_chunk_1.npy')"
      ],
      "metadata": {
        "id": "Lhp6ftZhPXhT"
      },
      "execution_count": null,
      "outputs": []
    },
    {
      "cell_type": "code",
      "source": [
        "data_training_text_embeddings_chunk_0_n_1 = np.concatenate((data_training_text_embeddings_chunk_0,data_training_text_embeddings_chunk_1), axis=0)\n",
        "np.random.shuffle(data_training_text_embeddings_chunk_0_n_1)\n",
        "data_training_text_embeddings_500k = data_training_text_embeddings_chunk_0_n_1[:500000]\n",
        "np.save(f'{root_path}/Autoencoder/data_training_text_embeddings_500k.npy', data_training_text_embeddings_500k)"
      ],
      "metadata": {
        "id": "wJOtEY0NPi6i"
      },
      "execution_count": null,
      "outputs": []
    },
    {
      "cell_type": "markdown",
      "source": [
        "### Autoencoder impl"
      ],
      "metadata": {
        "id": "j5ybYbrJRdvn"
      }
    },
    {
      "cell_type": "code",
      "source": [
        "from tensorflow.keras.layers import Input, Conv2D, ReLU, LeakyReLU, BatchNormalization, \\\n",
        "     Flatten, Dense, Reshape, Conv2DTranspose, Activation, Lambda, Dropout\n",
        "import tensorflow as tf\n",
        "from tensorflow.keras.layers import Input, Dense, Lambda\n",
        "from tensorflow.keras.models import Model\n",
        "from tensorflow.keras.optimizers import Adam\n",
        "from tensorflow.keras import backend as K\n",
        "from tensorflow.keras.losses import mse\n",
        "from tensorflow.python.framework.ops import disable_eager_execution\n",
        "import numpy as np"
      ],
      "metadata": {
        "id": "lhs6lH9tEgnJ"
      },
      "execution_count": null,
      "outputs": []
    },
    {
      "cell_type": "code",
      "source": [
        "class KLDivergenceLayer(tf.keras.layers.Layer):\n",
        "    \"\"\" Layer to add KL divergence to the model loss. \"\"\"\n",
        "    def __init__(self, *args, **kwargs):\n",
        "        super(KLDivergenceLayer, self).__init__(*args, **kwargs)\n",
        "\n",
        "    def call(self, inputs):\n",
        "        mu, log_variance = inputs\n",
        "        kl_loss = -0.5 * K.mean(K.sum(1 + log_variance - K.square(mu) - K.exp(log_variance), axis=-1))\n",
        "        self.add_loss(kl_loss)\n",
        "        return inputs\n",
        "\n",
        "class VAE_:\n",
        "    \"\"\" VAE represents a Deep Variational Autoencoder architecture with mirrored encoder and decoder components. \"\"\"\n",
        "    def __init__(self, input_shape, intermediate_dim, latent_space_dim, dropout_rate=0.3):\n",
        "        self.input_shape = input_shape  # (768,)\n",
        "        self.intermediate_dim = intermediate_dim  # e.g., 256\n",
        "        self.latent_space_dim = latent_space_dim  # e.g., 2\n",
        "        self.dropout_rate = dropout_rate\n",
        "\n",
        "        self.encoder = None\n",
        "        self.decoder = None\n",
        "        self.model = None\n",
        "\n",
        "        self._build()\n",
        "\n",
        "    def _build(self):\n",
        "        self._build_encoder()\n",
        "        self._build_decoder()\n",
        "        self._build_autoencoder()\n",
        "\n",
        "    def _build_encoder(self):\n",
        "        encoder_input = Input(shape=self.input_shape, name=\"encoder_input\")\n",
        "        x = Dense(self.intermediate_dim, activation='relu')(encoder_input)\n",
        "        x = BatchNormalization()(x)\n",
        "        x = Dropout(self.dropout_rate)(x)\n",
        "        # x = Dense(self.intermediate_dim // 2, activation='relu')(x)  # Additional layer\n",
        "        # x = BatchNormalization()(x)\n",
        "        # x = Dropout(self.dropout_rate)(x)\n",
        "\n",
        "        mu = Dense(self.latent_space_dim, name=\"mu\")(x)\n",
        "        log_variance = Dense(self.latent_space_dim, name=\"log_variance\")(x)\n",
        "\n",
        "        kl_layer = KLDivergenceLayer()([mu, log_variance])\n",
        "\n",
        "        def sample_point_from_normal_distribution(args):\n",
        "            mu, log_variance = args\n",
        "            epsilon = K.random_normal(shape=K.shape(mu), mean=0., stddev=1.)\n",
        "            sampled_point = mu + K.exp(log_variance / 2) * epsilon\n",
        "            return sampled_point\n",
        "\n",
        "        sampled_point = Lambda(sample_point_from_normal_distribution, name=\"encoder_output\")(kl_layer)\n",
        "\n",
        "        self.encoder = Model(encoder_input, sampled_point, name=\"encoder\")\n",
        "\n",
        "    def _build_decoder(self):\n",
        "        decoder_input = Input(shape=(self.latent_space_dim,), name=\"decoder_input\")\n",
        "        x = Dense(self.intermediate_dim, activation='relu')(decoder_input)\n",
        "        x = BatchNormalization()(x)\n",
        "        x = Dropout(self.dropout_rate)(x)\n",
        "        # x = Dense(self.intermediate_dim, activation='relu')(x)\n",
        "        # x = BatchNormalization()(x)\n",
        "        # x = Dropout(self.dropout_rate)(x)\n",
        "        decoder_output = Dense(np.prod(self.input_shape), activation='sigmoid')(x)\n",
        "\n",
        "        self.decoder = Model(decoder_input, decoder_output, name=\"decoder\")\n",
        "\n",
        "    def _build_autoencoder(self):\n",
        "        autoencoder_input = Input(shape=self.input_shape, name=\"autoencoder_input\")\n",
        "        encoded_img = self.encoder(autoencoder_input)\n",
        "        decoded_img = self.decoder(encoded_img)\n",
        "        self.model = Model(autoencoder_input, decoded_img, name=\"autoencoder\")\n",
        "\n",
        "    def compile(self, learning_rate=0.0001):\n",
        "        self.model.compile(optimizer=Adam(learning_rate=learning_rate), loss='mse')\n",
        "\n",
        "    def train(self, x_train, batch_size, num_epochs):\n",
        "        self.model.fit(x_train, x_train, batch_size=batch_size, epochs=num_epochs, shuffle=True)\n",
        "\n",
        "    def summary(self):\n",
        "        self.encoder.summary()\n",
        "        self.decoder.summary()\n",
        "        self.model.summary()\n"
      ],
      "metadata": {
        "id": "wEfqqhtbzxCR"
      },
      "execution_count": null,
      "outputs": []
    },
    {
      "cell_type": "code",
      "source": [
        "# # disable_eager_execution()\n",
        "\n",
        "# # Doesn't have to be a method\n",
        "# def _calculate_reconstruction_loss(y_target, y_predicted):\n",
        "#     reconstruction_loss = mse(y_target, y_predicted)\n",
        "#     return reconstruction_loss\n",
        "\n",
        "# #Change properly\n",
        "# def calculate_kl_loss(model):\n",
        "#     # wrap `_calculate_kl_loss` such that it takes the model as an argument,\n",
        "#     # returns a function which can take arbitrary number of arguments\n",
        "#     # (for compatibility with `metrics` and utility in the loss function)\n",
        "#     # and returns the kl loss\n",
        "#     def _calculate_kl_loss(*args):\n",
        "#         kl_loss = -0.5 * K.sum(1 + model.log_variance - K.square(model.mu) -\n",
        "#                               K.exp(model.log_variance), axis=1)\n",
        "#         return kl_loss\n",
        "#     return _calculate_kl_loss\n",
        "\n",
        "# class VAE:\n",
        "#     \"\"\"\n",
        "#     VAE represents a Deep Variational Autoencoder architecture with mirrored encoder and decoder components.\n",
        "#     \"\"\"\n",
        "\n",
        "#     def __init__(self, input_shape, intermediate_dim, latent_space_dim):\n",
        "#         self.input_shape = input_shape  # (768,)\n",
        "#         self.intermediate_dim = intermediate_dim  # e.g., 256\n",
        "#         self.latent_space_dim = latent_space_dim  # e.g., 10\n",
        "\n",
        "#         self.encoder = None\n",
        "#         self.decoder = None\n",
        "#         self.model = None\n",
        "\n",
        "#         self.mu = None  # Mean\n",
        "#         self.log_variance = None  # Variance\n",
        "\n",
        "#         self._build()\n",
        "\n",
        "#     def _build(self):\n",
        "#         self._build_encoder()\n",
        "#         self._build_decoder()\n",
        "#         self._build_autoencoder()\n",
        "\n",
        "#     def _build_encoder(self):\n",
        "#         encoder_input = Input(shape=self.input_shape, name=\"encoder_input\")\n",
        "#         x = Dense(self.intermediate_dim, activation='relu')(encoder_input)\n",
        "\n",
        "#         self.mu = Dense(self.latent_space_dim, name=\"mu\")(x)\n",
        "#         self.log_variance = Dense(self.latent_space_dim, name=\"log_variance\")(x)\n",
        "\n",
        "#         def sample_point_from_normal_distribution(args):\n",
        "#             mu, log_variance = args\n",
        "#             epsilon = K.random_normal(shape=K.shape(mu), mean=0., stddev=1.)\n",
        "#             sampled_point = mu + K.exp(log_variance / 2) * epsilon\n",
        "#             return sampled_point\n",
        "\n",
        "#         encoder_output = Lambda(sample_point_from_normal_distribution, name=\"encoder_output\")([self.mu, self.log_variance])\n",
        "\n",
        "#         self.encoder = Model(encoder_input, encoder_output, name=\"encoder\")\n",
        "\n",
        "#     def _build_decoder(self):\n",
        "#         decoder_input = Input(shape=(self.latent_space_dim,), name=\"decoder_input\")\n",
        "#         x = Dense(self.intermediate_dim, activation='relu')(decoder_input)\n",
        "#         decoder_output = Dense(np.prod(self.input_shape), activation='sigmoid')(x)\n",
        "\n",
        "#         self.decoder = Model(decoder_input, decoder_output, name=\"decoder\")\n",
        "\n",
        "#     def _build_autoencoder(self):\n",
        "#         autoencoder_input = Input(shape=self.input_shape, name=\"autoencoder_input\")\n",
        "#         encoded_img = self.encoder(autoencoder_input)\n",
        "#         decoded_img = self.decoder(encoded_img)\n",
        "#         self.model = Model(autoencoder_input, decoded_img, name=\"autoencoder\")\n",
        "\n",
        "#     def compile(self, learning_rate=0.0001):\n",
        "#         # optimizer = Adam(learning_rate=learning_rate)\n",
        "#         self.model.compile(tf.keras.optimizers.legacy.Adam(learning_rate=learning_rate),\n",
        "#                            loss=self._calculate_combined_loss,\n",
        "#                            metrics=[_calculate_reconstruction_loss,\n",
        "#                                     calculate_kl_loss(self)])\n",
        "\n",
        "#     def _calculate_combined_loss(self, y_target, y_predicted):\n",
        "#         reconstruction_loss = _calculate_reconstruction_loss(y_target, y_predicted)\n",
        "#         kl_loss = calculate_kl_loss(self)()\n",
        "#         combined_loss = reconstruction_loss + kl_loss\n",
        "#         return combined_loss\n",
        "\n",
        "#     def train(self, x_train, batch_size, num_epochs):\n",
        "#         self.model.fit(x_train, x_train, batch_size=batch_size, epochs=num_epochs, shuffle=True)\n",
        "\n",
        "#     def summary(self):\n",
        "#         self.encoder.summary()\n",
        "#         self.decoder.summary()\n",
        "#         self.model.summary()"
      ],
      "metadata": {
        "id": "K0JGfcI2Sugh"
      },
      "execution_count": null,
      "outputs": []
    },
    {
      "cell_type": "code",
      "source": [
        "\n",
        "# autoencoder = VAE(\n",
        "#     input_shape = 768,\n",
        "#     intermediate_dim = 128,  # e.g., 128\n",
        "#     latent_space_dim = 3  # e.g., 3\n",
        "# )\n",
        "# autoencoder.summary()"
      ],
      "metadata": {
        "id": "G7ssSvb-4uE6"
      },
      "execution_count": null,
      "outputs": []
    },
    {
      "cell_type": "code",
      "source": [
        "INPUT_SHAPE = (768,)\n",
        "INTERMEDIATE_DIM = 256\n",
        "LATENT_SPACE_DIM = 10\n",
        "\n",
        "embeddings_path = f'{root_path}/Autoencoder/data_training_text_embeddings_500k.npy'\n",
        "\n",
        "def load_embeddings(embeddings_path):\n",
        "    embeddings = np.load(embeddings_path)\n",
        "    return embeddings\n",
        "\n",
        "def train(x_train, learning_rate, batch_size, epochs):\n",
        "    autoencoder = VAE_(\n",
        "        input_shape=INPUT_SHAPE,\n",
        "        intermediate_dim=INTERMEDIATE_DIM,\n",
        "        latent_space_dim=LATENT_SPACE_DIM\n",
        "    )\n",
        "    # autoencoder.summary()\n",
        "    autoencoder.compile(learning_rate)\n",
        "    autoencoder.train(x_train, batch_size, epochs)\n",
        "    return autoencoder\n"
      ],
      "metadata": {
        "id": "4bZadZe9kOmr"
      },
      "execution_count": null,
      "outputs": []
    },
    {
      "cell_type": "code",
      "source": [
        "x_train = load_embeddings(embeddings_path)"
      ],
      "metadata": {
        "id": "I0aZYWAI5AmM"
      },
      "execution_count": null,
      "outputs": []
    },
    {
      "cell_type": "code",
      "source": [
        "LEARNING_RATE = 0.0001\n",
        "BATCH_SIZE = 8\n",
        "EPOCHS = 2\n",
        "\n",
        "autoencoder = train(x_train, LEARNING_RATE, BATCH_SIZE, EPOCHS)\n"
      ],
      "metadata": {
        "colab": {
          "base_uri": "https://localhost:8080/"
        },
        "id": "AMKvVZvJLgnN",
        "outputId": "a1bd802b-cf7c-4fc7-e843-c9db63140072"
      },
      "execution_count": null,
      "outputs": [
        {
          "output_type": "stream",
          "name": "stdout",
          "text": [
            "Epoch 1/2\n",
            "62500/62500 [==============================] - 325s 5ms/step - loss: 0.3574\n",
            "Epoch 2/2\n",
            "62500/62500 [==============================] - 326s 5ms/step - loss: 0.2195\n"
          ]
        }
      ]
    },
    {
      "cell_type": "code",
      "source": [
        "# autoencoder.model.save(f'{root_path}/Autoencoder/VAE_model_batch16_epo2.h5')\n",
        "autoencoder.model.save(f'{root_path}/Autoencoder/VAE_model_batch16_epo2_721.h5')"
      ],
      "metadata": {
        "id": "GHmZIzqaLgtT"
      },
      "execution_count": null,
      "outputs": []
    },
    {
      "cell_type": "code",
      "source": [
        "from tensorflow.keras.models import load_model\n",
        "autoencoder = load_model(f'{root_path}/Autoencoder/VAE_model_batch16_epo2_721.h5', custom_objects={'KLDivergenceLayer': KLDivergenceLayer})"
      ],
      "metadata": {
        "id": "QP5AsFY_8T4M"
      },
      "execution_count": null,
      "outputs": []
    },
    {
      "cell_type": "markdown",
      "source": [
        "### Reconstruction\n"
      ],
      "metadata": {
        "id": "tvsjneNSZNu_"
      }
    },
    {
      "cell_type": "code",
      "source": [
        "# data_training_text_embeddings_400k = np.load(f'{root_path}/Autoencoder/data_training_text_embeddings_400k.npy')\n",
        "data_training_text_embeddings_500k = np.load(f'{root_path}/Autoencoder/data_training_text_embeddings_500k.npy')\n"
      ],
      "metadata": {
        "id": "4T56JyE53qla"
      },
      "execution_count": null,
      "outputs": []
    },
    {
      "cell_type": "code",
      "source": [
        "# Reconstruction for training data\n",
        "x_train_pred = autoencoder.predict(data_training_text_embeddings_500k)\n",
        "np.save(f'{root_path}/Autoencoder/data_train_predicted_500k.npy', x_train_pred)"
      ],
      "metadata": {
        "id": "SGRo5hstLgvk",
        "colab": {
          "base_uri": "https://localhost:8080/"
        },
        "outputId": "2a140ff2-d13d-43b7-bfa1-c47394420a3e"
      },
      "execution_count": null,
      "outputs": [
        {
          "output_type": "stream",
          "name": "stdout",
          "text": [
            "15625/15625 [==============================] - 43s 2ms/step\n"
          ]
        }
      ]
    },
    {
      "cell_type": "code",
      "source": [
        "mae_vector = np.mean(np.power(x_train_pred - data_training_text_embeddings_500k, 2), axis=1)\n",
        "error_thresh = np.quantile(mae_vector, 0.99)\n",
        "error_thresh"
      ],
      "metadata": {
        "colab": {
          "base_uri": "https://localhost:8080/"
        },
        "id": "K08wHr23l-Bp",
        "outputId": "5aed727f-0407-4234-b203-7855f16c7a4b"
      },
      "execution_count": null,
      "outputs": [
        {
          "output_type": "execute_result",
          "data": {
            "text/plain": [
              "0.23986363545060158"
            ]
          },
          "metadata": {},
          "execution_count": 10
        }
      ]
    },
    {
      "cell_type": "code",
      "source": [
        "def get_error_term(pred, actual):\n",
        "    \"\"\"Calculate the Mean Squared Error between predicted and actual values\"\"\"\n",
        "    mae = np.mean(np.power(pred - actual, 2), axis=1)\n",
        "    return mae"
      ],
      "metadata": {
        "id": "_ap-p3MtoOJj"
      },
      "execution_count": null,
      "outputs": []
    },
    {
      "cell_type": "code",
      "source": [
        "data_test_fake_df_full_embeddings = np.load(f'{root_path}/Autoencoder/data_test_fake_df_full_embeddings.npy')\n"
      ],
      "metadata": {
        "id": "kX6Wc7fpnrTn"
      },
      "execution_count": null,
      "outputs": []
    },
    {
      "cell_type": "code",
      "source": [
        "data_test_genuine_df_full_embeddings = np.load(f'{root_path}/Autoencoder/data_test_genuine_df_full_embeddings.npy')"
      ],
      "metadata": {
        "id": "tD2WUIt3nnzb"
      },
      "execution_count": null,
      "outputs": []
    },
    {
      "cell_type": "code",
      "source": [
        "error_thresh = 0.22"
      ],
      "metadata": {
        "id": "aTLMugtgrcA4"
      },
      "execution_count": null,
      "outputs": []
    },
    {
      "cell_type": "code",
      "source": [
        "chunk_size = 100000  # Adjust this to fit your memory constraints\n",
        "num_anomalies = 0\n",
        "for i in range(0, len(data_test_fake_df_full_embeddings), chunk_size):\n",
        "    chunk = data_test_fake_df_full_embeddings[i:i+chunk_size]\n",
        "    chunk_pred = autoencoder.predict(chunk)\n",
        "    mae_chunk = get_error_term(chunk_pred, chunk)\n",
        "    anomalies_chunk = (mae_chunk > error_thresh)\n",
        "    num_anomalies += np.sum(anomalies_chunk)\n",
        "\n",
        "print(f\"Number of anomalies in fake data: {num_anomalies}\")"
      ],
      "metadata": {
        "colab": {
          "base_uri": "https://localhost:8080/"
        },
        "id": "exe1Hn_Knkrh",
        "outputId": "9b3482c8-ad98-44e0-d718-503935e17694"
      },
      "execution_count": null,
      "outputs": [
        {
          "output_type": "stream",
          "name": "stdout",
          "text": [
            "3125/3125 [==============================] - 11s 4ms/step\n",
            "3125/3125 [==============================] - 8s 2ms/step\n",
            "3125/3125 [==============================] - 8s 3ms/step\n",
            "2494/2494 [==============================] - 5s 2ms/step\n",
            "Number of anomalies in fake data: 169197\n"
          ]
        }
      ]
    },
    {
      "cell_type": "code",
      "source": [
        "chunk_size = 100000  # Adjust this to fit your memory constraints\n",
        "num_anomalies = 0\n",
        "for i in range(0, len(data_test_genuine_df_full_embeddings), chunk_size):\n",
        "    chunk = data_test_genuine_df_full_embeddings[i:i+chunk_size]\n",
        "    chunk_pred = autoencoder.predict(chunk)\n",
        "    mae_chunk = get_error_term(chunk_pred, chunk)\n",
        "    anomalies_chunk = (mae_chunk > error_thresh)\n",
        "    num_anomalies += np.sum(anomalies_chunk)\n",
        "\n",
        "print(f\"Number of anomalies in genuine data: {num_anomalies}\")"
      ],
      "metadata": {
        "colab": {
          "base_uri": "https://localhost:8080/"
        },
        "id": "UmEv9SdkpkeG",
        "outputId": "f42a1929-a33b-4db6-d156-80fa3b1d7be1"
      },
      "execution_count": null,
      "outputs": [
        {
          "output_type": "stream",
          "name": "stdout",
          "text": [
            "3125/3125 [==============================] - 6s 2ms/step\n",
            "3125/3125 [==============================] - 10s 3ms/step\n",
            "2584/2584 [==============================] - 6s 2ms/step\n",
            "Number of anomalies in genuine data: 80713\n"
          ]
        }
      ]
    },
    {
      "cell_type": "code",
      "source": [
        "from sklearn.decomposition import\n",
        "\n",
        "PCAX_encoded = encoder.predict(X_test)\n",
        "pca = PCA(n_components=2)\n",
        "X_transform = pca.fit_transform(X_encoded)"
      ],
      "metadata": {
        "id": "EszAfMeDyXvE"
      },
      "execution_count": null,
      "outputs": []
    }
  ]
}