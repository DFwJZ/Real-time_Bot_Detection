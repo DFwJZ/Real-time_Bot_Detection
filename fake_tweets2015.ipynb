{
  "nbformat": 4,
  "nbformat_minor": 0,
  "metadata": {
    "colab": {
      "provenance": [],
      "gpuType": "T4",
      "include_colab_link": true
    },
    "kernelspec": {
      "name": "python3",
      "display_name": "Python 3"
    },
    "language_info": {
      "name": "python"
    },
    "accelerator": "GPU"
  },
  "cells": [
    {
      "cell_type": "markdown",
      "metadata": {
        "id": "view-in-github",
        "colab_type": "text"
      },
      "source": [
        "<a href=\"https://colab.research.google.com/github/DFwJZ/Real-time_Bot_Detection/blob/main/fake_tweets2015.ipynb\" target=\"_parent\"><img src=\"https://colab.research.google.com/assets/colab-badge.svg\" alt=\"Open In Colab\"/></a>"
      ]
    },
    {
      "cell_type": "code",
      "execution_count": null,
      "metadata": {
        "id": "I64CtYDlBeZB"
      },
      "outputs": [],
      "source": [
        "import re\n",
        "import pandas as pd\n",
        "from tqdm import tqdm\n",
        "from datetime import datetime\n",
        "from collections import Counter\n",
        "\n",
        "tqdm.pandas()"
      ]
    },
    {
      "cell_type": "code",
      "source": [
        "from google.colab import drive\n",
        "drive.mount('/content/drive')"
      ],
      "metadata": {
        "colab": {
          "base_uri": "https://localhost:8080/"
        },
        "id": "VfRWR5US1s5F",
        "outputId": "b20bdff3-9c33-41ba-e8ec-cbe4b9efcf0b"
      },
      "execution_count": null,
      "outputs": [
        {
          "output_type": "stream",
          "name": "stdout",
          "text": [
            "Mounted at /content/drive\n"
          ]
        }
      ]
    },
    {
      "cell_type": "code",
      "source": [
        "root_path = '/content/drive/MyDrive/Bot_detection/cresci tweets/cresci 2015'"
      ],
      "metadata": {
        "id": "QCCD0Flc2Btf"
      },
      "execution_count": null,
      "outputs": []
    },
    {
      "cell_type": "code",
      "source": [
        "#fake tweets\n",
        "FSF = pd.read_csv(f\"{root_path}/FSF_tweets.csv\", encoding = 'latin_1')\n",
        "INT = pd.read_csv(f\"{root_path}/INT_tweets.csv\", encoding = 'latin_1')\n",
        "TWT = pd.read_csv(f\"{root_path}/TWT_tweets.csv\", encoding = 'latin_1')"
      ],
      "metadata": {
        "colab": {
          "base_uri": "https://localhost:8080/"
        },
        "id": "kHT-vstIBuNS",
        "outputId": "399a5317-ccb5-464c-86cc-a88c1fdedb8a"
      },
      "execution_count": null,
      "outputs": [
        {
          "output_type": "stream",
          "name": "stderr",
          "text": [
            "<ipython-input-4-8601b5d5b802>:3: DtypeWarning: Columns (8) have mixed types. Specify dtype option on import or set low_memory=False.\n",
            "  INT = pd.read_csv(f\"{root_path}/INT_tweets.csv\", encoding = 'latin_1')\n"
          ]
        }
      ]
    },
    {
      "cell_type": "code",
      "source": [
        "# human tweets\n",
        "TFP = pd.read_csv(f\"{root_path}/TFP_tweets.csv\", encoding = 'latin_1')\n",
        "E13 = pd.read_csv(f\"{root_path}/E13_tweets.csv\", encoding = 'latin_1')"
      ],
      "metadata": {
        "id": "EhCBUaBD1dLP"
      },
      "execution_count": null,
      "outputs": []
    },
    {
      "cell_type": "code",
      "source": [
        "FSF.shape, INT.shape, TWT.shape, TFP.shape, E13.shape"
      ],
      "metadata": {
        "colab": {
          "base_uri": "https://localhost:8080/"
        },
        "id": "4yb2YIaa2jMQ",
        "outputId": "a8d2bffd-b398-4831-eba5-cea4fc2b90e3"
      },
      "execution_count": null,
      "outputs": [
        {
          "output_type": "execute_result",
          "data": {
            "text/plain": [
              "((22910, 19), (58925, 19), (114192, 19), (563693, 19), (2068037, 19))"
            ]
          },
          "metadata": {},
          "execution_count": 6
        }
      ]
    },
    {
      "cell_type": "code",
      "source": [
        "df_fake = pd.concat([FSF, INT, TWT])\n",
        "df_genuine = pd.concat([TFP, E13])\n",
        "\n",
        "df_fake.shape, df_genuine.shape"
      ],
      "metadata": {
        "colab": {
          "base_uri": "https://localhost:8080/"
        },
        "id": "q_vTmqyj2vLJ",
        "outputId": "aab79aaa-80f7-4ebe-c539-941876ae99d9"
      },
      "execution_count": null,
      "outputs": [
        {
          "output_type": "execute_result",
          "data": {
            "text/plain": [
              "((196027, 19), (2631730, 19))"
            ]
          },
          "metadata": {},
          "execution_count": 7
        }
      ]
    },
    {
      "cell_type": "code",
      "source": [
        "unique_fake_accounts = len(df_fake['user_id'].unique())\n",
        "unique_genuine_accounts = len(df_genuine['user_id'].unique())\n",
        "print(f'unique fake accounts: {unique_fake_accounts}\\nunique genuine accounts: {unique_genuine_accounts}')"
      ],
      "metadata": {
        "colab": {
          "base_uri": "https://localhost:8080/"
        },
        "id": "lC1VRCGV3Lnb",
        "outputId": "c7254db6-393d-447e-daeb-fc70d744d289"
      },
      "execution_count": null,
      "outputs": [
        {
          "output_type": "stream",
          "name": "stdout",
          "text": [
            "unique fake accounts: 3202\n",
            "unique genuine accounts: 1946\n"
          ]
        }
      ]
    },
    {
      "cell_type": "code",
      "source": [
        "df_fake.tail()"
      ],
      "metadata": {
        "id": "0AUFOZHO7b1s"
      },
      "execution_count": null,
      "outputs": []
    },
    {
      "cell_type": "code",
      "source": [
        "df_genuine.head(20)"
      ],
      "metadata": {
        "id": "_6lZzUGp3QyQ"
      },
      "execution_count": null,
      "outputs": []
    },
    {
      "cell_type": "markdown",
      "source": [
        "### Aggregates all tweets to the account they belong to"
      ],
      "metadata": {
        "id": "QN8q9Qv56TIC"
      }
    },
    {
      "cell_type": "code",
      "source": [
        "df_genuine['text'] = df_genuine['text'].astype(str)\n",
        "df_genuine_aggregated_tweets = df_genuine.groupby('user_id')['text'].progress_apply(' '.join).reset_index()"
      ],
      "metadata": {
        "colab": {
          "base_uri": "https://localhost:8080/"
        },
        "id": "qaXlzGicBsCW",
        "outputId": "6199a0d2-1a6d-404f-def8-fd2b323964a1"
      },
      "execution_count": null,
      "outputs": [
        {
          "output_type": "stream",
          "name": "stderr",
          "text": [
            "100%|██████████| 1946/1946 [00:00<00:00, 3049.34it/s]\n"
          ]
        }
      ]
    },
    {
      "cell_type": "code",
      "source": [
        "df_fake['text'] = df_fake['text'].astype(str)\n",
        "df_fake_aggregated_tweets = df_fake.groupby('user_id')['text'].progress_apply(' '.join).reset_index()"
      ],
      "metadata": {
        "colab": {
          "base_uri": "https://localhost:8080/"
        },
        "id": "_LiLtKeV2lDD",
        "outputId": "a14b6cc6-e9fa-4108-e7c4-fd31a3e44300"
      },
      "execution_count": null,
      "outputs": [
        {
          "output_type": "stream",
          "name": "stderr",
          "text": [
            "100%|██████████| 3202/3202 [00:00<00:00, 38756.91it/s]\n"
          ]
        }
      ]
    },
    {
      "cell_type": "code",
      "source": [
        "df_fake_aggregated_tweets.shape, df_genuine_aggregated_tweets.shape"
      ],
      "metadata": {
        "colab": {
          "base_uri": "https://localhost:8080/"
        },
        "id": "1-l4jMZQ2qGw",
        "outputId": "71f7bc25-054b-4d22-e1c4-7a123e5f507e"
      },
      "execution_count": null,
      "outputs": [
        {
          "output_type": "execute_result",
          "data": {
            "text/plain": [
              "((3202, 18), (1946, 18))"
            ]
          },
          "metadata": {},
          "execution_count": 24
        }
      ]
    },
    {
      "cell_type": "markdown",
      "source": [
        "## Feature Engineering"
      ],
      "metadata": {
        "id": "R8zc3ocE6cVB"
      }
    },
    {
      "cell_type": "code",
      "source": [
        "# df_fake_aggregated_tweets['tweet_length'] = df_fake_aggregated_tweets['text'].apply(len)\n",
        "# df_genuine_aggregated_tweets['tweet_length'] = df_genuine_aggregated_tweets['text'].apply(len)\n",
        "\n",
        "# avg_length_df_fake_aggregated_tweets = df_fake_aggregated_tweets['tweet_length'].mean()\n",
        "# avg_length_df_genuine_aggregated_tweets = df_genuine_aggregated_tweets['tweet_length'].mean()\n",
        "\n",
        "# avg_length_df_fake_aggregated_tweets, avg_length_df_genuine_aggregated_tweets"
      ],
      "metadata": {
        "id": "3wf8ZAzmCBx5"
      },
      "execution_count": null,
      "outputs": []
    },
    {
      "cell_type": "code",
      "source": [
        "# df_fake_aggregated_tweets.head()"
      ],
      "metadata": {
        "id": "Jj84zXVl3AqD"
      },
      "execution_count": null,
      "outputs": []
    },
    {
      "cell_type": "code",
      "source": [
        "def get_word_frequencies(tweet_text):\n",
        "    words = re.findall(r'\\b\\w+\\b', tweet_text.lower())\n",
        "    word_frequency = dict(Counter(words))\n",
        "\n",
        "    # Filter out words with frequency less than 2\n",
        "    filtered_frequency = {word: freq for word, freq in word_frequency.items() if freq > 2}\n",
        "\n",
        "    # Sort by frequency in descending order\n",
        "    sorted_frequency = dict(sorted(filtered_frequency.items(), key=lambda item: item[1], reverse=True))\n",
        "    return sorted_frequency"
      ],
      "metadata": {
        "id": "EGZkKics3At_"
      },
      "execution_count": null,
      "outputs": []
    },
    {
      "cell_type": "code",
      "source": [
        "# df_fake_aggregated_tweets['word_frequencies'] = df_fake_aggregated_tweets['text'].progress_apply(get_word_frequencies)\n",
        "# df_genuine_aggregated_tweets['word_frequencies'] = df_genuine_aggregated_tweets['text'].progress_apply(get_word_frequencies)"
      ],
      "metadata": {
        "colab": {
          "base_uri": "https://localhost:8080/"
        },
        "id": "wvxsuPdd3AwN",
        "outputId": "95b01295-61f0-4ef6-d6f4-285aab7c124b"
      },
      "execution_count": null,
      "outputs": [
        {
          "output_type": "stream",
          "name": "stderr",
          "text": [
            "100%|██████████| 3202/3202 [00:02<00:00, 1421.16it/s]\n",
            "100%|██████████| 1946/1946 [00:24<00:00, 79.47it/s] \n"
          ]
        }
      ]
    },
    {
      "cell_type": "code",
      "source": [
        "# df_fake_aggregated_tweets.head()"
      ],
      "metadata": {
        "id": "1JvmL1643yia"
      },
      "execution_count": null,
      "outputs": []
    },
    {
      "cell_type": "code",
      "source": [
        "def convert_timestamp_to_features(timestamp_str):\n",
        "    try:\n",
        "        if timestamp_str[-1] == 'L' and timestamp_str[:-1].isdigit():\n",
        "            timestamp_str = timestamp_str[:-1]  # Remove the 'L' suffix\n",
        "            timestamp_str = int(timestamp_str) / 1000\n",
        "            dt = pd.to_datetime(timestamp_str, unit='s')\n",
        "        else:\n",
        "            dt = pd.to_datetime(timestamp_str, format=\"%a %b %d %H:%M:%S %z %Y\")\n",
        "\n",
        "        return dt\n",
        "\n",
        "    except ValueError:\n",
        "        print(f\"ValueError for timestamp: {timestamp_str}\")\n",
        "        return None, None, None"
      ],
      "metadata": {
        "id": "Ndd4sxn83ylB"
      },
      "execution_count": null,
      "outputs": []
    },
    {
      "cell_type": "code",
      "source": [
        "# # Apply the conversion function to each timestamp\n",
        "# df_fake['datetime'] = df_fake['created_at'].progress_apply(convert_timestamp_to_features)\n",
        "\n",
        "# df_fake['hour_of_day'] = df_fake['datetime'].dt.hour\n",
        "# df_fake['day_of_week'] = df_fake['datetime'].dt.dayofweek\n",
        "# df_fake['month'] = df_fake['datetime'].dt.month"
      ],
      "metadata": {
        "id": "LFEOL-3dAzNZ"
      },
      "execution_count": null,
      "outputs": []
    },
    {
      "cell_type": "code",
      "source": [
        "# df_fake_aggregated_tweets.head()"
      ],
      "metadata": {
        "id": "ZX5iFwu_MZre"
      },
      "execution_count": null,
      "outputs": []
    },
    {
      "cell_type": "code",
      "source": [
        "# # Time between tweets(how frequenty)\n",
        "\n",
        "# # Calculate time between consecutive tweets for each user\n",
        "# df_fake['time_between_tweets'] = df_fake.groupby('user_id')['datetime'].diff().dt.total_seconds()\n",
        "\n",
        "# # Calculate average time between tweets for each user\n",
        "# average_time_between_tweets = df_fake.groupby('user_id')['time_between_tweets'].mean()\n",
        "# df_fake_aggregated_tweets = df_fake_aggregated_tweets.merge(average_time_between_tweets, how='left', left_on='user_id', right_index=True)\n"
      ],
      "metadata": {
        "id": "KP3FFN-JJOrz"
      },
      "execution_count": null,
      "outputs": []
    },
    {
      "cell_type": "code",
      "source": [
        "# # Mmost active period of the day for each user\n",
        "\n",
        "# df_fake['period_of_day'] = pd.cut(df_fake['hour_of_day'], bins=[0, 6, 12, 18, 24], labels=['Night', 'Morning', 'Afternoon', 'Evening'], right=False)\n",
        "# most_active_period_of_day = df_fake.groupby('user_id')['period_of_day'].agg(lambda x: x.value_counts().index[0])\n",
        "# df_fake_aggregated_tweets = df_fake_aggregated_tweets.merge(most_active_period_of_day, how='left', left_on='user_id', right_index=True)"
      ],
      "metadata": {
        "id": "bQBokbDEJUT5"
      },
      "execution_count": null,
      "outputs": []
    },
    {
      "cell_type": "code",
      "source": [
        "# # Proportion of tweets made on weekdays or weekends for each user\n",
        "\n",
        "# df_fake['is_weekday'] = df_fake['day_of_week'] < 5\n",
        "# weekday_tweet_proportion = df_fake.groupby('user_id')['is_weekday'].mean()\n",
        "# df_fake_aggregated_tweets = df_fake_aggregated_tweets.merge(weekday_tweet_proportion, how='left', left_on='user_id', right_index=True)\n"
      ],
      "metadata": {
        "id": "ho6gjDxwJXR3"
      },
      "execution_count": null,
      "outputs": []
    },
    {
      "cell_type": "code",
      "source": [
        "# # Group by user_id and calculate features\n",
        "# # !!!!average hour of the day tells us the a continuous numerical information, eg. user tweets between 3-9 pm would have a average value of 6pm!!!\n",
        "\n",
        "# df_fake_grouped = df_fake.groupby('user_id').agg({'hour_of_day': 'mean',\n",
        "#                                                   'day_of_week': lambda x:x.value_counts().index[0],\n",
        "#                                                   'month': lambda x:x.value_counts().index[0],\n",
        "#                                                   'retweet_count': ['mean', 'sum'],\n",
        "#                                                   'reply_count': ['mean', 'sum'],\n",
        "#                                                   'favorite_count': ['mean', 'sum'],\n",
        "#                                                   'num_hashtags': ['mean', 'sum'],\n",
        "#                                                   'num_urls': ['mean', 'sum'],\n",
        "#                                                   'num_mentions': ['mean', 'sum']})\n",
        "\n",
        "# # Flatten the multi-index columns\n",
        "# df_fake_grouped.columns = ['_'.join(col).rstrip('_') for col in df_fake_grouped.columns.values]\n",
        "\n",
        "# # Merge the timestamp-based features into df_fake_aggregated_tweets\n",
        "# df_fake_aggregated_tweets = df_fake_aggregated_tweets.merge(df_fake_grouped, how='left', left_on='user_id', right_index=True)\n"
      ],
      "metadata": {
        "id": "_4FsvIhZNiVb"
      },
      "execution_count": null,
      "outputs": []
    },
    {
      "cell_type": "code",
      "source": [
        "# df_fake_aggregated_tweets.head()"
      ],
      "metadata": {
        "id": "ctmE7l0LHtJF"
      },
      "execution_count": null,
      "outputs": []
    },
    {
      "cell_type": "code",
      "source": [
        "# Generic feature extraction\n",
        "def tweet_data_feature_extraction(df):\n",
        "    # Word frequencies\n",
        "    df['word_frequencies'] = df['text'].progress_apply(get_word_frequencies)\n",
        "\n",
        "    # Tweet length\n",
        "    df['tweet_length'] = df['text'].apply(len)\n",
        "\n",
        "    # Usage Acitivity\n",
        "    df['datetime'] = df['created_at'].progress_apply(convert_timestamp_to_features)\n",
        "    df['hour_of_day'] = df['datetime'].dt.hour\n",
        "    df['day_of_week'] = df['datetime'].dt.dayofweek\n",
        "    df['month'] = df['datetime'].dt.month\n",
        "\n",
        "    df['time_between_tweets'] = df.groupby('user_id')['datetime'].diff().dt.total_seconds()\n",
        "\n",
        "    df['period_of_day'] = pd.cut(df['hour_of_day'], # Night: 0, Morning: 1, Afternoon: 2, Evening: 3\n",
        "                                 bins=[0, 6, 12, 18, 24],\n",
        "                                 labels=['0', '1', '2', '3'],\n",
        "                                 right=False)\n",
        "\n",
        "    df['is_weekday'] = df['day_of_week'] < 5\n",
        "\n",
        "    df_grouped = df.groupby('user_id').agg({\n",
        "        'text': ' '.join,\n",
        "        'hour_of_day': 'mean',\n",
        "        'day_of_week': lambda x:x.value_counts().index[0],\n",
        "        'month': lambda x:x.value_counts().index[0],\n",
        "        'retweet_count': ['mean', 'sum'],\n",
        "        'reply_count': ['mean', 'sum'],\n",
        "        'favorite_count': ['mean', 'sum'],\n",
        "        'num_hashtags': ['mean', 'sum'],\n",
        "        'num_urls': ['mean', 'sum'],\n",
        "        'num_mentions': ['mean', 'sum'],\n",
        "        'time_between_tweets': 'mean',\n",
        "        'period_of_day': lambda x: x.value_counts().index[0],\n",
        "        'is_weekday': 'mean'\n",
        "    })\n",
        "\n",
        "    # Flatten the multi-index columns\n",
        "    df_grouped.columns = ['_'.join(col).rstrip('_') for col in df_grouped.columns.values]\n",
        "\n",
        "    return df_grouped"
      ],
      "metadata": {
        "id": "8TjPvs8xSumE"
      },
      "execution_count": null,
      "outputs": []
    },
    {
      "cell_type": "code",
      "source": [
        "df_genuine_aggregated_tweets_total = tweet_data_feature_extraction(df_genuine)\n",
        "df_fake_aggregated_tweets_total = tweet_data_feature_extraction(df_fake)\n"
      ],
      "metadata": {
        "colab": {
          "base_uri": "https://localhost:8080/"
        },
        "id": "pCeF3kmbUqA_",
        "outputId": "18d41cfc-bc8f-4d52-c2da-1b5d736b9f8f"
      },
      "execution_count": null,
      "outputs": [
        {
          "output_type": "stream",
          "name": "stderr",
          "text": [
            "100%|██████████| 2631730/2631730 [00:35<00:00, 74453.95it/s]\n",
            "100%|██████████| 2631730/2631730 [16:10<00:00, 2711.84it/s]\n",
            "100%|██████████| 196027/196027 [00:02<00:00, 77100.72it/s]\n",
            "100%|██████████| 196027/196027 [01:10<00:00, 2761.08it/s]\n"
          ]
        }
      ]
    },
    {
      "cell_type": "code",
      "source": [
        "df_genuine_aggregated_tweets_total.columns = df_genuine_aggregated_tweets_total.columns.str.replace('_<lambda>', '')\n",
        "df_fake_aggregated_tweets_total.columns = df_fake_aggregated_tweets_total.columns.str.replace('_<lambda>', '')\n"
      ],
      "metadata": {
        "id": "_ws8CMZreSdV"
      },
      "execution_count": null,
      "outputs": []
    },
    {
      "cell_type": "code",
      "source": [
        "df_fake_aggregated_tweets_total.to_pickle(f\"{root_path}/fake_tweets_df.pkl\")\n",
        "df_genuine_aggregated_tweets_total.to_pickle(f\"{root_path}/genuine_tweets_df.pkl\")"
      ],
      "metadata": {
        "id": "npY1A1UZVgs9"
      },
      "execution_count": null,
      "outputs": []
    },
    {
      "cell_type": "code",
      "source": [
        "df_fake_aggregated_tweets_total = pd.read_pickle(f\"{root_path}/fake_tweets_df.pkl\")\n",
        "df_genuine_aggregated_tweets_total = pd.read_pickle(f\"{root_path}/genuine_tweets_df.pkl\")\n"
      ],
      "metadata": {
        "id": "fEjyL4SDVrHS"
      },
      "execution_count": null,
      "outputs": []
    },
    {
      "cell_type": "code",
      "source": [
        "df_fake_aggregated_tweets_total.shape, df_genuine_aggregated_tweets_total.shape"
      ],
      "metadata": {
        "colab": {
          "base_uri": "https://localhost:8080/"
        },
        "id": "akzl55vCcK-4",
        "outputId": "41648006-2fc3-400b-a918-758d58b707fc"
      },
      "execution_count": null,
      "outputs": [
        {
          "output_type": "execute_result",
          "data": {
            "text/plain": [
              "((3202, 20), (1946, 20))"
            ]
          },
          "metadata": {},
          "execution_count": 66
        }
      ]
    },
    {
      "cell_type": "code",
      "source": [
        "df_fake_aggregated_tweets_total.head()"
      ],
      "metadata": {
        "id": "5GtI7v2Vfql9",
        "outputId": "127cd5e1-d250-43a7-c8d2-3771d387f834",
        "colab": {
          "base_uri": "https://localhost:8080/",
          "height": 479
        }
      },
      "execution_count": null,
      "outputs": [
        {
          "output_type": "execute_result",
          "data": {
            "text/plain": [
              "    user_id  hour_of_day_mean  day_of_week  month  retweet_count_mean  \\\n",
              "0  10935572         16.190647            4      8           14.879496   \n",
              "1  16119337          7.104225            0     12         1844.036620   \n",
              "2  16753788         14.566667            2      4            0.000000   \n",
              "3  17640121         12.250000            2     10           52.600000   \n",
              "4  17656600         12.228758            3      1           55.398693   \n",
              "\n",
              "   retweet_count_sum  reply_count_mean  reply_count_sum  favorite_count_mean  \\\n",
              "0               8273          1.910072             1062             0.942446   \n",
              "1             654633          0.016901                6             0.019718   \n",
              "2                  0          0.033333                1             0.000000   \n",
              "3               1052          0.800000               16             5.100000   \n",
              "4              16952          2.395425              733             4.794118   \n",
              "\n",
              "   favorite_count_sum  num_hashtags_mean  num_hashtags_sum  num_urls_mean  \\\n",
              "0                 524           0.048561                27       0.183453   \n",
              "1                   7           1.000000               355       0.033803   \n",
              "2                   0           0.233333                 7       0.266667   \n",
              "3                 102           0.250000                 5       0.050000   \n",
              "4                1467           0.352941               108       0.349673   \n",
              "\n",
              "   num_urls_sum  num_mentions_mean  num_mentions_sum  \\\n",
              "0           102           0.352518               196   \n",
              "1            12           0.140845                50   \n",
              "2             8           0.300000                 9   \n",
              "3             1           0.650000                13   \n",
              "4           107           1.225490               375   \n",
              "\n",
              "   time_between_tweets_mean  period_of_day  is_weekday_mean  \\\n",
              "0              9.777748e+02              3         0.679856   \n",
              "1             -4.881397e+04              0         0.983099   \n",
              "2             -4.717938e+06              3         0.833333   \n",
              "3             -6.130340e+06              0         0.750000   \n",
              "4             -4.257927e+05              3         0.800654   \n",
              "\n",
              "                                                text  \n",
              "0  https://t.co/iocNIgHxXH. @LovesOfaLDNgirl  her...  \n",
              "1  RT @ARTEM_KLYUSHIN: - Ð¯ ÑÑÑ Ð² ÐÐµÑÐ»Ð¸Ð...  \n",
              "2  After failed trials, J&amp;J pivots to early-s...  \n",
              "3  RT @Paravosperra_: #NoGarpa que se viva enojan...  \n",
              "4  I just donated to @NextStepLa for his bday and...  "
            ],
            "text/html": [
              "\n",
              "\n",
              "  <div id=\"df-d01cbc38-0147-4712-8f30-3e7a08d098ac\">\n",
              "    <div class=\"colab-df-container\">\n",
              "      <div>\n",
              "<style scoped>\n",
              "    .dataframe tbody tr th:only-of-type {\n",
              "        vertical-align: middle;\n",
              "    }\n",
              "\n",
              "    .dataframe tbody tr th {\n",
              "        vertical-align: top;\n",
              "    }\n",
              "\n",
              "    .dataframe thead th {\n",
              "        text-align: right;\n",
              "    }\n",
              "</style>\n",
              "<table border=\"1\" class=\"dataframe\">\n",
              "  <thead>\n",
              "    <tr style=\"text-align: right;\">\n",
              "      <th></th>\n",
              "      <th>user_id</th>\n",
              "      <th>hour_of_day_mean</th>\n",
              "      <th>day_of_week</th>\n",
              "      <th>month</th>\n",
              "      <th>retweet_count_mean</th>\n",
              "      <th>retweet_count_sum</th>\n",
              "      <th>reply_count_mean</th>\n",
              "      <th>reply_count_sum</th>\n",
              "      <th>favorite_count_mean</th>\n",
              "      <th>favorite_count_sum</th>\n",
              "      <th>num_hashtags_mean</th>\n",
              "      <th>num_hashtags_sum</th>\n",
              "      <th>num_urls_mean</th>\n",
              "      <th>num_urls_sum</th>\n",
              "      <th>num_mentions_mean</th>\n",
              "      <th>num_mentions_sum</th>\n",
              "      <th>time_between_tweets_mean</th>\n",
              "      <th>period_of_day</th>\n",
              "      <th>is_weekday_mean</th>\n",
              "      <th>text</th>\n",
              "    </tr>\n",
              "  </thead>\n",
              "  <tbody>\n",
              "    <tr>\n",
              "      <th>0</th>\n",
              "      <td>10935572</td>\n",
              "      <td>16.190647</td>\n",
              "      <td>4</td>\n",
              "      <td>8</td>\n",
              "      <td>14.879496</td>\n",
              "      <td>8273</td>\n",
              "      <td>1.910072</td>\n",
              "      <td>1062</td>\n",
              "      <td>0.942446</td>\n",
              "      <td>524</td>\n",
              "      <td>0.048561</td>\n",
              "      <td>27</td>\n",
              "      <td>0.183453</td>\n",
              "      <td>102</td>\n",
              "      <td>0.352518</td>\n",
              "      <td>196</td>\n",
              "      <td>9.777748e+02</td>\n",
              "      <td>3</td>\n",
              "      <td>0.679856</td>\n",
              "      <td>https://t.co/iocNIgHxXH. @LovesOfaLDNgirl  her...</td>\n",
              "    </tr>\n",
              "    <tr>\n",
              "      <th>1</th>\n",
              "      <td>16119337</td>\n",
              "      <td>7.104225</td>\n",
              "      <td>0</td>\n",
              "      <td>12</td>\n",
              "      <td>1844.036620</td>\n",
              "      <td>654633</td>\n",
              "      <td>0.016901</td>\n",
              "      <td>6</td>\n",
              "      <td>0.019718</td>\n",
              "      <td>7</td>\n",
              "      <td>1.000000</td>\n",
              "      <td>355</td>\n",
              "      <td>0.033803</td>\n",
              "      <td>12</td>\n",
              "      <td>0.140845</td>\n",
              "      <td>50</td>\n",
              "      <td>-4.881397e+04</td>\n",
              "      <td>0</td>\n",
              "      <td>0.983099</td>\n",
              "      <td>RT @ARTEM_KLYUSHIN: - Ð¯ ÑÑÑ Ð² ÐÐµÑÐ»Ð¸Ð...</td>\n",
              "    </tr>\n",
              "    <tr>\n",
              "      <th>2</th>\n",
              "      <td>16753788</td>\n",
              "      <td>14.566667</td>\n",
              "      <td>2</td>\n",
              "      <td>4</td>\n",
              "      <td>0.000000</td>\n",
              "      <td>0</td>\n",
              "      <td>0.033333</td>\n",
              "      <td>1</td>\n",
              "      <td>0.000000</td>\n",
              "      <td>0</td>\n",
              "      <td>0.233333</td>\n",
              "      <td>7</td>\n",
              "      <td>0.266667</td>\n",
              "      <td>8</td>\n",
              "      <td>0.300000</td>\n",
              "      <td>9</td>\n",
              "      <td>-4.717938e+06</td>\n",
              "      <td>3</td>\n",
              "      <td>0.833333</td>\n",
              "      <td>After failed trials, J&amp;amp;J pivots to early-s...</td>\n",
              "    </tr>\n",
              "    <tr>\n",
              "      <th>3</th>\n",
              "      <td>17640121</td>\n",
              "      <td>12.250000</td>\n",
              "      <td>2</td>\n",
              "      <td>10</td>\n",
              "      <td>52.600000</td>\n",
              "      <td>1052</td>\n",
              "      <td>0.800000</td>\n",
              "      <td>16</td>\n",
              "      <td>5.100000</td>\n",
              "      <td>102</td>\n",
              "      <td>0.250000</td>\n",
              "      <td>5</td>\n",
              "      <td>0.050000</td>\n",
              "      <td>1</td>\n",
              "      <td>0.650000</td>\n",
              "      <td>13</td>\n",
              "      <td>-6.130340e+06</td>\n",
              "      <td>0</td>\n",
              "      <td>0.750000</td>\n",
              "      <td>RT @Paravosperra_: #NoGarpa que se viva enojan...</td>\n",
              "    </tr>\n",
              "    <tr>\n",
              "      <th>4</th>\n",
              "      <td>17656600</td>\n",
              "      <td>12.228758</td>\n",
              "      <td>3</td>\n",
              "      <td>1</td>\n",
              "      <td>55.398693</td>\n",
              "      <td>16952</td>\n",
              "      <td>2.395425</td>\n",
              "      <td>733</td>\n",
              "      <td>4.794118</td>\n",
              "      <td>1467</td>\n",
              "      <td>0.352941</td>\n",
              "      <td>108</td>\n",
              "      <td>0.349673</td>\n",
              "      <td>107</td>\n",
              "      <td>1.225490</td>\n",
              "      <td>375</td>\n",
              "      <td>-4.257927e+05</td>\n",
              "      <td>3</td>\n",
              "      <td>0.800654</td>\n",
              "      <td>I just donated to @NextStepLa for his bday and...</td>\n",
              "    </tr>\n",
              "  </tbody>\n",
              "</table>\n",
              "</div>\n",
              "      <button class=\"colab-df-convert\" onclick=\"convertToInteractive('df-d01cbc38-0147-4712-8f30-3e7a08d098ac')\"\n",
              "              title=\"Convert this dataframe to an interactive table.\"\n",
              "              style=\"display:none;\">\n",
              "\n",
              "  <svg xmlns=\"http://www.w3.org/2000/svg\" height=\"24px\"viewBox=\"0 0 24 24\"\n",
              "       width=\"24px\">\n",
              "    <path d=\"M0 0h24v24H0V0z\" fill=\"none\"/>\n",
              "    <path d=\"M18.56 5.44l.94 2.06.94-2.06 2.06-.94-2.06-.94-.94-2.06-.94 2.06-2.06.94zm-11 1L8.5 8.5l.94-2.06 2.06-.94-2.06-.94L8.5 2.5l-.94 2.06-2.06.94zm10 10l.94 2.06.94-2.06 2.06-.94-2.06-.94-.94-2.06-.94 2.06-2.06.94z\"/><path d=\"M17.41 7.96l-1.37-1.37c-.4-.4-.92-.59-1.43-.59-.52 0-1.04.2-1.43.59L10.3 9.45l-7.72 7.72c-.78.78-.78 2.05 0 2.83L4 21.41c.39.39.9.59 1.41.59.51 0 1.02-.2 1.41-.59l7.78-7.78 2.81-2.81c.8-.78.8-2.07 0-2.86zM5.41 20L4 18.59l7.72-7.72 1.47 1.35L5.41 20z\"/>\n",
              "  </svg>\n",
              "      </button>\n",
              "\n",
              "\n",
              "\n",
              "    <div id=\"df-ca923d77-2b00-4948-9696-04373dc3b3c7\">\n",
              "      <button class=\"colab-df-quickchart\" onclick=\"quickchart('df-ca923d77-2b00-4948-9696-04373dc3b3c7')\"\n",
              "              title=\"Suggest charts.\"\n",
              "              style=\"display:none;\">\n",
              "\n",
              "<svg xmlns=\"http://www.w3.org/2000/svg\" height=\"24px\"viewBox=\"0 0 24 24\"\n",
              "     width=\"24px\">\n",
              "    <g>\n",
              "        <path d=\"M19 3H5c-1.1 0-2 .9-2 2v14c0 1.1.9 2 2 2h14c1.1 0 2-.9 2-2V5c0-1.1-.9-2-2-2zM9 17H7v-7h2v7zm4 0h-2V7h2v10zm4 0h-2v-4h2v4z\"/>\n",
              "    </g>\n",
              "</svg>\n",
              "      </button>\n",
              "    </div>\n",
              "\n",
              "<style>\n",
              "  .colab-df-quickchart {\n",
              "    background-color: #E8F0FE;\n",
              "    border: none;\n",
              "    border-radius: 50%;\n",
              "    cursor: pointer;\n",
              "    display: none;\n",
              "    fill: #1967D2;\n",
              "    height: 32px;\n",
              "    padding: 0 0 0 0;\n",
              "    width: 32px;\n",
              "  }\n",
              "\n",
              "  .colab-df-quickchart:hover {\n",
              "    background-color: #E2EBFA;\n",
              "    box-shadow: 0px 1px 2px rgba(60, 64, 67, 0.3), 0px 1px 3px 1px rgba(60, 64, 67, 0.15);\n",
              "    fill: #174EA6;\n",
              "  }\n",
              "\n",
              "  [theme=dark] .colab-df-quickchart {\n",
              "    background-color: #3B4455;\n",
              "    fill: #D2E3FC;\n",
              "  }\n",
              "\n",
              "  [theme=dark] .colab-df-quickchart:hover {\n",
              "    background-color: #434B5C;\n",
              "    box-shadow: 0px 1px 3px 1px rgba(0, 0, 0, 0.15);\n",
              "    filter: drop-shadow(0px 1px 2px rgba(0, 0, 0, 0.3));\n",
              "    fill: #FFFFFF;\n",
              "  }\n",
              "</style>\n",
              "\n",
              "    <script>\n",
              "      async function quickchart(key) {\n",
              "        const containerElement = document.querySelector('#' + key);\n",
              "        const charts = await google.colab.kernel.invokeFunction(\n",
              "            'suggestCharts', [key], {});\n",
              "      }\n",
              "    </script>\n",
              "\n",
              "      <script>\n",
              "\n",
              "function displayQuickchartButton(domScope) {\n",
              "  let quickchartButtonEl =\n",
              "    domScope.querySelector('#df-ca923d77-2b00-4948-9696-04373dc3b3c7 button.colab-df-quickchart');\n",
              "  quickchartButtonEl.style.display =\n",
              "    google.colab.kernel.accessAllowed ? 'block' : 'none';\n",
              "}\n",
              "\n",
              "        displayQuickchartButton(document);\n",
              "      </script>\n",
              "      <style>\n",
              "    .colab-df-container {\n",
              "      display:flex;\n",
              "      flex-wrap:wrap;\n",
              "      gap: 12px;\n",
              "    }\n",
              "\n",
              "    .colab-df-convert {\n",
              "      background-color: #E8F0FE;\n",
              "      border: none;\n",
              "      border-radius: 50%;\n",
              "      cursor: pointer;\n",
              "      display: none;\n",
              "      fill: #1967D2;\n",
              "      height: 32px;\n",
              "      padding: 0 0 0 0;\n",
              "      width: 32px;\n",
              "    }\n",
              "\n",
              "    .colab-df-convert:hover {\n",
              "      background-color: #E2EBFA;\n",
              "      box-shadow: 0px 1px 2px rgba(60, 64, 67, 0.3), 0px 1px 3px 1px rgba(60, 64, 67, 0.15);\n",
              "      fill: #174EA6;\n",
              "    }\n",
              "\n",
              "    [theme=dark] .colab-df-convert {\n",
              "      background-color: #3B4455;\n",
              "      fill: #D2E3FC;\n",
              "    }\n",
              "\n",
              "    [theme=dark] .colab-df-convert:hover {\n",
              "      background-color: #434B5C;\n",
              "      box-shadow: 0px 1px 3px 1px rgba(0, 0, 0, 0.15);\n",
              "      filter: drop-shadow(0px 1px 2px rgba(0, 0, 0, 0.3));\n",
              "      fill: #FFFFFF;\n",
              "    }\n",
              "  </style>\n",
              "\n",
              "      <script>\n",
              "        const buttonEl =\n",
              "          document.querySelector('#df-d01cbc38-0147-4712-8f30-3e7a08d098ac button.colab-df-convert');\n",
              "        buttonEl.style.display =\n",
              "          google.colab.kernel.accessAllowed ? 'block' : 'none';\n",
              "\n",
              "        async function convertToInteractive(key) {\n",
              "          const element = document.querySelector('#df-d01cbc38-0147-4712-8f30-3e7a08d098ac');\n",
              "          const dataTable =\n",
              "            await google.colab.kernel.invokeFunction('convertToInteractive',\n",
              "                                                     [key], {});\n",
              "          if (!dataTable) return;\n",
              "\n",
              "          const docLinkHtml = 'Like what you see? Visit the ' +\n",
              "            '<a target=\"_blank\" href=https://colab.research.google.com/notebooks/data_table.ipynb>data table notebook</a>'\n",
              "            + ' to learn more about interactive tables.';\n",
              "          element.innerHTML = '';\n",
              "          dataTable['output_type'] = 'display_data';\n",
              "          await google.colab.output.renderOutput(dataTable, element);\n",
              "          const docLink = document.createElement('div');\n",
              "          docLink.innerHTML = docLinkHtml;\n",
              "          element.appendChild(docLink);\n",
              "        }\n",
              "      </script>\n",
              "    </div>\n",
              "  </div>\n"
            ]
          },
          "metadata": {},
          "execution_count": 67
        }
      ]
    },
    {
      "cell_type": "code",
      "source": [],
      "metadata": {
        "id": "DS2XiKUIfrwo"
      },
      "execution_count": null,
      "outputs": []
    }
  ]
}