{
  "cells": [
    {
      "cell_type": "markdown",
      "metadata": {
        "id": "view-in-github",
        "colab_type": "text"
      },
      "source": [
        "<a href=\"https://colab.research.google.com/github/DFwJZ/Real-time_Bot_Detection/blob/main/Cresci2015_OCSVM.ipynb\" target=\"_parent\"><img src=\"https://colab.research.google.com/assets/colab-badge.svg\" alt=\"Open In Colab\"/></a>"
      ]
    },
    {
      "cell_type": "code",
      "execution_count": null,
      "metadata": {
        "id": "y1ehKRM0bE3j"
      },
      "outputs": [],
      "source": [
        "import os\n",
        "import csv\n",
        "import pickle\n",
        "from tqdm import tqdm\n",
        "import numpy as np\n",
        "import pandas as pd\n",
        "import seaborn as sns\n",
        "import matplotlib.pyplot as plt"
      ]
    },
    {
      "cell_type": "code",
      "execution_count": null,
      "metadata": {
        "id": "XZ7HFd7GTurn"
      },
      "outputs": [],
      "source": [
        "# Jason's file path\n",
        "root_path = \"notebooks/data\""
      ]
    },
    {
      "cell_type": "code",
      "execution_count": null,
      "metadata": {
        "id": "zbqMgCGhZQbS",
        "outputId": "d82c47b9-b399-498f-8d1c-b0c039b0d778"
      },
      "outputs": [
        {
          "name": "stdout",
          "output_type": "stream",
          "text": [
            "/notebooks/notebooks\n"
          ]
        }
      ],
      "source": [
        "!pwd"
      ]
    },
    {
      "cell_type": "code",
      "execution_count": null,
      "metadata": {
        "id": "0VP7qV7UZQbT",
        "outputId": "6040aab6-0dda-417b-efd6-87dbb1f7db7d"
      },
      "outputs": [
        {
          "name": "stdout",
          "output_type": "stream",
          "text": [
            "/notebooks\n"
          ]
        }
      ],
      "source": [
        "%cd .."
      ]
    },
    {
      "cell_type": "code",
      "execution_count": null,
      "metadata": {
        "id": "63din3uNZQbT",
        "outputId": "939f906d-404a-4477-8c5d-a7b144d0e52a"
      },
      "outputs": [
        {
          "name": "stdout",
          "output_type": "stream",
          "text": [
            "CITATION.cff\t    README_hd.md\t     docs\t     setup.py\n",
            "CODE_OF_CONDUCT.md  README_ja.md\t     examples\t     src\n",
            "CONTRIBUTING.md     README_ko.md\t     hubconf.py      templates\n",
            "ISSUES.md\t    README_zh-hans.md\t     model_cards     tests\n",
            "LICENSE\t\t    README_zh-hant.md\t     notebooks\t     utils\n",
            "Makefile\t    awesome-transformers.md  pyproject.toml\n",
            "README.md\t    conftest.py\t\t     scripts\n",
            "README_es.md\t    docker\t\t     setup.cfg\n"
          ]
        }
      ],
      "source": [
        "!ls"
      ]
    },
    {
      "cell_type": "code",
      "execution_count": null,
      "metadata": {
        "id": "S5zuKXsicqDe"
      },
      "outputs": [],
      "source": [
        "with open(f'{root_path}/fake_tweets_df.pkl', 'rb') as f:\n",
        "    df_fake_combined = pickle.load(f)\n",
        "\n",
        "with open(f'{root_path}/genuine_tweets_df.pkl', 'rb') as f:\n",
        "    df_genuine_combined = pickle.load(f)"
      ]
    },
    {
      "cell_type": "code",
      "execution_count": null,
      "metadata": {
        "id": "pZ0ZmdDxZQbU",
        "outputId": "2c1ed705-c9bd-4091-a17e-709a1296e93a"
      },
      "outputs": [
        {
          "data": {
            "text/plain": [
              "((3202, 20), (1946, 20))"
            ]
          },
          "execution_count": 7,
          "metadata": {},
          "output_type": "execute_result"
        }
      ],
      "source": [
        "df_fake_combined.shape, df_genuine_combined.shape"
      ]
    },
    {
      "cell_type": "code",
      "execution_count": null,
      "metadata": {
        "id": "iOAcPO47ZQbU"
      },
      "outputs": [],
      "source": [
        "from sklearn.model_selection import train_test_split\n",
        "\n",
        "# Train_fake_df will be used to train VAE to get baseline model\n",
        "\n",
        "train_fake_df, test_fake_df = train_test_split(df_fake_combined, test_size=0.2, random_state=730)\n",
        "\n",
        "train_genuine_df, test_genuine_df = train_test_split(df_genuine_combined, test_size=0.2, random_state=730)"
      ]
    },
    {
      "cell_type": "code",
      "execution_count": null,
      "metadata": {
        "id": "P2wYuEjLZQbU",
        "outputId": "6bc1e2cc-5e07-46d0-ca7a-b90eec80c229"
      },
      "outputs": [
        {
          "data": {
            "text/plain": [
              "((2561, 20), (641, 20), (1556, 20), (390, 20))"
            ]
          },
          "execution_count": 9,
          "metadata": {},
          "output_type": "execute_result"
        }
      ],
      "source": [
        "train_fake_df.shape, test_fake_df.shape, train_genuine_df.shape, test_genuine_df.shape"
      ]
    },
    {
      "cell_type": "code",
      "execution_count": null,
      "metadata": {
        "id": "9rH3VQeHZQbV"
      },
      "outputs": [],
      "source": [
        "train_fake_df_features_no_text = train_fake_df.iloc[:, :-1]\n",
        "test_fake_df_features_no_text = test_fake_df.iloc[:, :-1]\n",
        "train_genuine_df_features_no_text = train_genuine_df.iloc[:, :-1]\n",
        "test_genuine_df_features_no_text = test_genuine_df.iloc[:, :-1]"
      ]
    },
    {
      "cell_type": "code",
      "execution_count": null,
      "metadata": {
        "id": "qHoztDURZQbV",
        "outputId": "fb2d59f1-9067-4a20-fbbc-3afe31c14691"
      },
      "outputs": [
        {
          "data": {
            "text/plain": [
              "((2561, 19), (641, 19), (1556, 19), (390, 19))"
            ]
          },
          "execution_count": 11,
          "metadata": {},
          "output_type": "execute_result"
        }
      ],
      "source": [
        "train_fake_df_features_no_text.shape, test_fake_df_features_no_text.shape, train_genuine_df_features_no_text.shape, test_genuine_df_features_no_text.shape"
      ]
    },
    {
      "cell_type": "code",
      "execution_count": null,
      "metadata": {
        "id": "ynPeZy4jZQbW",
        "outputId": "8f003ede-f7a7-4161-b3f5-57cdc23ee61d"
      },
      "outputs": [
        {
          "data": {
            "text/plain": [
              "(93, 21, 1104, 277)"
            ]
          },
          "execution_count": 15,
          "metadata": {},
          "output_type": "execute_result"
        }
      ],
      "source": [
        "np.count_nonzero(np.isnan(train_fake_df_features_no_text)), np.count_nonzero(np.isnan(test_fake_df_features_no_text)), np.count_nonzero(np.isnan(train_genuine_df_features_no_text)), np.count_nonzero(np.isnan(test_genuine_df_features_no_text))"
      ]
    },
    {
      "cell_type": "code",
      "execution_count": null,
      "metadata": {
        "id": "CWUqNx44ZQbW"
      },
      "outputs": [],
      "source": [
        "train_fake_df_features_no_text_fill_nan = np.nan_to_num(train_fake_df_features_no_text, nan=0)\n",
        "test_fake_df_features_no_text_fill_nan = np.nan_to_num(test_fake_df_features_no_text, nan=0)\n",
        "train_genuine_df_features_no_text_fill_nan = np.nan_to_num(train_genuine_df_features_no_text, nan=0)\n",
        "test_genuine_df_features_no_text_fill_nan = np.nan_to_num(test_genuine_df_features_no_text, nan=0)"
      ]
    },
    {
      "cell_type": "code",
      "execution_count": null,
      "metadata": {
        "id": "c-d1iby8ZQbW",
        "outputId": "d02f6d9b-ad22-4c79-b21e-93e0a60029be"
      },
      "outputs": [
        {
          "data": {
            "text/plain": [
              "(0, 0, 0, 0)"
            ]
          },
          "execution_count": 18,
          "metadata": {},
          "output_type": "execute_result"
        }
      ],
      "source": [
        "np.count_nonzero(np.isnan(train_fake_df_features_no_text_fill_nan)), np.count_nonzero(np.isnan(test_fake_df_features_no_text_fill_nan)), np.count_nonzero(np.isnan(train_genuine_df_features_no_text_fill_nan)), np.count_nonzero(np.isnan(test_genuine_df_features_no_text_fill_nan))"
      ]
    },
    {
      "cell_type": "code",
      "execution_count": null,
      "metadata": {
        "id": "rrE1yNP1ZQbW"
      },
      "outputs": [],
      "source": [
        "with open(f'{root_path}/train_fake_df_text_embedding_sentiments_xlmt.pkl', 'rb') as f:\n",
        "    train_fake_df_text_embeddings = pickle.load(f)\n",
        "\n",
        "with open(f'{root_path}/train_genuine_df_text_embedding_sentiments_xlmt.pkl', 'rb') as f:\n",
        "    train_genuine_df_text_embeddings = pickle.load(f)\n",
        "\n",
        "with open(f'{root_path}/test_fake_df_text_embeddings_sentiments_xlmt.pkl', 'rb') as f:\n",
        "    test_fake_df_text_embeddings = pickle.load(f)\n",
        "\n",
        "with open(f'{root_path}/test_genuine_df_text_embedding_sentiments_xlmt.pkl', 'rb') as f:\n",
        "    test_genuine_df_text_embeddings = pickle.load(f)"
      ]
    },
    {
      "cell_type": "code",
      "execution_count": null,
      "metadata": {
        "id": "FQfejUtkZQbW",
        "outputId": "50ee7a1a-c158-4814-ee56-a3607d29a06c"
      },
      "outputs": [
        {
          "data": {
            "text/plain": [
              "((2561, 771), (641, 771), (1556, 771), (390, 771))"
            ]
          },
          "execution_count": 50,
          "metadata": {},
          "output_type": "execute_result"
        }
      ],
      "source": [
        "train_fake_df_text_embeddings_avg = np.squeeze(train_fake_df_text_embeddings, axis=1)\n",
        "train_genuine_df_text_embeddings_avg = np.squeeze(train_genuine_df_text_embeddings, axis=1)\n",
        "test_fake_df_text_embeddings_avg = np.squeeze(test_fake_df_text_embeddings, axis=1)\n",
        "test_genuine_df_text_embeddings_avg = np.squeeze(test_genuine_df_text_embeddings, axis=1)\n",
        "\n",
        "train_fake_df_text_embeddings_avg.shape, test_fake_df_text_embeddings_avg.shape, train_genuine_df_text_embeddings_avg.shape, test_genuine_df_text_embeddings_avg.shape"
      ]
    },
    {
      "cell_type": "code",
      "execution_count": null,
      "metadata": {
        "id": "P83n45ojZQbW"
      },
      "outputs": [],
      "source": [
        "df_text = np.concatenate((train_fake_df_text_embeddings_avg, train_genuine_df_text_embeddings_avg), axis=0)\n",
        "df_text_test = np.concatenate((test_fake_df_text_embeddings_avg, test_genuine_df_text_embeddings_avg), axis=0)"
      ]
    },
    {
      "cell_type": "code",
      "execution_count": null,
      "metadata": {
        "id": "uSeKIO1rZQbW"
      },
      "outputs": [],
      "source": [
        "df_non_text = np.concatenate((train_fake_df_features_no_text_fill_nan,train_genuine_df_features_no_text_fill_nan), axis=0)\n",
        "df_non_text_test = np.concatenate((test_fake_df_features_no_text_fill_nan,test_genuine_df_features_no_text_fill_nan), axis=0)"
      ]
    },
    {
      "cell_type": "code",
      "execution_count": null,
      "metadata": {
        "tags": [],
        "id": "JmYyoJvfZQbX"
      },
      "outputs": [],
      "source": [
        "from sklearn.preprocessing import MinMaxScaler\n",
        "\n",
        "# Normalize text embeddings\n",
        "scaler_text = MinMaxScaler()\n",
        "text_embeddings_scaled = scaler_text.fit_transform(df_text)\n",
        "\n",
        "# Normalize non-text features\n",
        "scaler_non_text = MinMaxScaler()\n",
        "non_text_features_scaled = scaler_non_text.fit_transform(df_non_text)\n",
        "\n",
        "# Concatenate\n",
        "final_features = np.concatenate((text_embeddings_scaled, non_text_features_scaled), axis=1)"
      ]
    },
    {
      "cell_type": "code",
      "execution_count": null,
      "metadata": {
        "id": "Jf5LTF7KZQbX"
      },
      "outputs": [],
      "source": [
        "# genuine train\n",
        "from sklearn.preprocessing import MinMaxScaler\n",
        "\n",
        "# Normalize text embeddings\n",
        "scaler_text = MinMaxScaler()\n",
        "genuine_text_embeddings_scaled = scaler_text.fit_transform(train_genuine_df_text_embeddings_avg)\n",
        "\n",
        "# Normalize non-text features\n",
        "scaler_non_text = MinMaxScaler()\n",
        "genuine_non_text_features_scaled = scaler_non_text.fit_transform(train_genuine_df_features_no_text_fill_nan)\n",
        "\n",
        "# Concatenate\n",
        "genuine_train = np.concatenate((genuine_text_embeddings_scaled, genuine_non_text_features_scaled), axis=1)"
      ]
    },
    {
      "cell_type": "code",
      "execution_count": null,
      "metadata": {
        "id": "PZ5Z8VbBZQbX"
      },
      "outputs": [],
      "source": [
        "# fake train\n",
        "from sklearn.preprocessing import MinMaxScaler\n",
        "\n",
        "# Normalize text embeddings\n",
        "scaler_text = MinMaxScaler()\n",
        "fake_text_embeddings_scaled = scaler_text.fit_transform(train_fake_df_text_embeddings_avg)\n",
        "\n",
        "# Normalize non-text features\n",
        "scaler_non_text = MinMaxScaler()\n",
        "fake_non_text_features_scaled = scaler_non_text.fit_transform(train_fake_df_features_no_text_fill_nan)\n",
        "\n",
        "# Concatenate\n",
        "fake_train = np.concatenate((fake_text_embeddings_scaled, fake_non_text_features_scaled), axis=1)\n"
      ]
    },
    {
      "cell_type": "code",
      "execution_count": null,
      "metadata": {
        "id": "8xnszIfAZQbX"
      },
      "outputs": [],
      "source": [
        "# fake test\n",
        "from sklearn.preprocessing import MinMaxScaler\n",
        "\n",
        "\n",
        "# Normalize text embeddings\n",
        "scaler_text = MinMaxScaler()\n",
        "fake_text_embeddings_scaled_test = scaler_text.fit_transform(test_fake_df_text_embeddings_avg)\n",
        "\n",
        "# Normalize non-text features\n",
        "scaler_non_text = MinMaxScaler()\n",
        "fake_non_text_features_scaled_test = scaler_non_text.fit_transform(test_fake_df_features_no_text_fill_nan)\n",
        "\n",
        "# Concatenate\n",
        "fake_test = np.concatenate((fake_text_embeddings_scaled_test, fake_non_text_features_scaled_test), axis=1)\n"
      ]
    },
    {
      "cell_type": "code",
      "execution_count": null,
      "metadata": {
        "id": "F6PjMq81ZQbX"
      },
      "outputs": [],
      "source": [
        "# genuine test\n",
        "from sklearn.preprocessing import MinMaxScaler\n",
        "\n",
        "\n",
        "# Normalize text embeddings\n",
        "scaler_text = MinMaxScaler()\n",
        "genuine_text_embeddings_scaled_test = scaler_text.fit_transform(test_genuine_df_text_embeddings_avg)\n",
        "\n",
        "# Normalize non-text features\n",
        "scaler_non_text = MinMaxScaler()\n",
        "genuine_non_text_features_scaled_test = scaler_non_text.fit_transform(test_genuine_df_features_no_text_fill_nan)\n",
        "\n",
        "# Concatenate\n",
        "genuine_test = np.concatenate((genuine_text_embeddings_scaled_test, genuine_non_text_features_scaled_test), axis=1)\n"
      ]
    },
    {
      "cell_type": "code",
      "execution_count": null,
      "metadata": {
        "id": "4O8wGGipZQbX",
        "outputId": "99889f97-0afa-4325-c5d2-df3328169903"
      },
      "outputs": [
        {
          "data": {
            "text/plain": [
              "((1031, 790), (1031, 790))"
            ]
          },
          "execution_count": 80,
          "metadata": {},
          "output_type": "execute_result"
        }
      ],
      "source": [
        "fake_test.shape, genuine_test.shape"
      ]
    },
    {
      "cell_type": "markdown",
      "metadata": {
        "id": "twjO2Jdo6EMW"
      },
      "source": [
        "train data = 80% of bot tweet\n",
        "\n",
        "- train accuracy determined by 20% of bot tweets (unseen)\n",
        "\n",
        "test accuracy 100% human tweet (accuracy is reversed) (aka we want low)"
      ]
    },
    {
      "cell_type": "markdown",
      "metadata": {
        "id": "Yw705nxfbAz1"
      },
      "source": [
        "### OCSVM Model"
      ]
    },
    {
      "cell_type": "code",
      "execution_count": null,
      "metadata": {
        "id": "l5SQmkgM73Qq"
      },
      "outputs": [],
      "source": [
        "import numpy as np\n",
        "import pandas as pd\n",
        "from sklearn import svm\n",
        "from sklearn.preprocessing import StandardScaler"
      ]
    },
    {
      "cell_type": "code",
      "execution_count": null,
      "metadata": {
        "id": "A2DjySn7ZQbZ"
      },
      "outputs": [],
      "source": [
        "scaler = StandardScaler()\n",
        "genuine_train_scaled = scaler.fit_transform(final_features)"
      ]
    },
    {
      "cell_type": "code",
      "execution_count": null,
      "metadata": {
        "id": "_FK6R1nL7iLM",
        "outputId": "f280ce5a-53a4-4314-c997-bded4f327305"
      },
      "outputs": [
        {
          "data": {
            "text/html": [
              "<style>#sk-container-id-13 {color: black;background-color: white;}#sk-container-id-13 pre{padding: 0;}#sk-container-id-13 div.sk-toggleable {background-color: white;}#sk-container-id-13 label.sk-toggleable__label {cursor: pointer;display: block;width: 100%;margin-bottom: 0;padding: 0.3em;box-sizing: border-box;text-align: center;}#sk-container-id-13 label.sk-toggleable__label-arrow:before {content: \"▸\";float: left;margin-right: 0.25em;color: #696969;}#sk-container-id-13 label.sk-toggleable__label-arrow:hover:before {color: black;}#sk-container-id-13 div.sk-estimator:hover label.sk-toggleable__label-arrow:before {color: black;}#sk-container-id-13 div.sk-toggleable__content {max-height: 0;max-width: 0;overflow: hidden;text-align: left;background-color: #f0f8ff;}#sk-container-id-13 div.sk-toggleable__content pre {margin: 0.2em;color: black;border-radius: 0.25em;background-color: #f0f8ff;}#sk-container-id-13 input.sk-toggleable__control:checked~div.sk-toggleable__content {max-height: 200px;max-width: 100%;overflow: auto;}#sk-container-id-13 input.sk-toggleable__control:checked~label.sk-toggleable__label-arrow:before {content: \"▾\";}#sk-container-id-13 div.sk-estimator input.sk-toggleable__control:checked~label.sk-toggleable__label {background-color: #d4ebff;}#sk-container-id-13 div.sk-label input.sk-toggleable__control:checked~label.sk-toggleable__label {background-color: #d4ebff;}#sk-container-id-13 input.sk-hidden--visually {border: 0;clip: rect(1px 1px 1px 1px);clip: rect(1px, 1px, 1px, 1px);height: 1px;margin: -1px;overflow: hidden;padding: 0;position: absolute;width: 1px;}#sk-container-id-13 div.sk-estimator {font-family: monospace;background-color: #f0f8ff;border: 1px dotted black;border-radius: 0.25em;box-sizing: border-box;margin-bottom: 0.5em;}#sk-container-id-13 div.sk-estimator:hover {background-color: #d4ebff;}#sk-container-id-13 div.sk-parallel-item::after {content: \"\";width: 100%;border-bottom: 1px solid gray;flex-grow: 1;}#sk-container-id-13 div.sk-label:hover label.sk-toggleable__label {background-color: #d4ebff;}#sk-container-id-13 div.sk-serial::before {content: \"\";position: absolute;border-left: 1px solid gray;box-sizing: border-box;top: 0;bottom: 0;left: 50%;z-index: 0;}#sk-container-id-13 div.sk-serial {display: flex;flex-direction: column;align-items: center;background-color: white;padding-right: 0.2em;padding-left: 0.2em;position: relative;}#sk-container-id-13 div.sk-item {position: relative;z-index: 1;}#sk-container-id-13 div.sk-parallel {display: flex;align-items: stretch;justify-content: center;background-color: white;position: relative;}#sk-container-id-13 div.sk-item::before, #sk-container-id-13 div.sk-parallel-item::before {content: \"\";position: absolute;border-left: 1px solid gray;box-sizing: border-box;top: 0;bottom: 0;left: 50%;z-index: -1;}#sk-container-id-13 div.sk-parallel-item {display: flex;flex-direction: column;z-index: 1;position: relative;background-color: white;}#sk-container-id-13 div.sk-parallel-item:first-child::after {align-self: flex-end;width: 50%;}#sk-container-id-13 div.sk-parallel-item:last-child::after {align-self: flex-start;width: 50%;}#sk-container-id-13 div.sk-parallel-item:only-child::after {width: 0;}#sk-container-id-13 div.sk-dashed-wrapped {border: 1px dashed gray;margin: 0 0.4em 0.5em 0.4em;box-sizing: border-box;padding-bottom: 0.4em;background-color: white;}#sk-container-id-13 div.sk-label label {font-family: monospace;font-weight: bold;display: inline-block;line-height: 1.2em;}#sk-container-id-13 div.sk-label-container {text-align: center;}#sk-container-id-13 div.sk-container {/* jupyter's `normalize.less` sets `[hidden] { display: none; }` but bootstrap.min.css set `[hidden] { display: none !important; }` so we also need the `!important` here to be able to override the default hidden behavior on the sphinx rendered scikit-learn.org. See: https://github.com/scikit-learn/scikit-learn/issues/21755 */display: inline-block !important;position: relative;}#sk-container-id-13 div.sk-text-repr-fallback {display: none;}</style><div id=\"sk-container-id-13\" class=\"sk-top-container\"><div class=\"sk-text-repr-fallback\"><pre>OneClassSVM(nu=0.1)</pre><b>In a Jupyter environment, please rerun this cell to show the HTML representation or trust the notebook. <br />On GitHub, the HTML representation is unable to render, please try loading this page with nbviewer.org.</b></div><div class=\"sk-container\" hidden><div class=\"sk-item\"><div class=\"sk-estimator sk-toggleable\"><input class=\"sk-toggleable__control sk-hidden--visually\" id=\"sk-estimator-id-13\" type=\"checkbox\" checked><label for=\"sk-estimator-id-13\" class=\"sk-toggleable__label sk-toggleable__label-arrow\">OneClassSVM</label><div class=\"sk-toggleable__content\"><pre>OneClassSVM(nu=0.1)</pre></div></div></div></div></div>"
            ],
            "text/plain": [
              "OneClassSVM(nu=0.1)"
            ]
          },
          "execution_count": 146,
          "metadata": {},
          "output_type": "execute_result"
        }
      ],
      "source": [
        "ocsvm = svm.OneClassSVM(nu=0.1, kernel='rbf', gamma='scale')\n",
        "\n",
        "# Train the model\n",
        "ocsvm.fit(genuine_train_scaled)\n",
        "# import joblib\n",
        "# # filename = '/content/drive/MyDrive/Bot_detection/cresci tweets/ocsvm_model_jason.joblib'\n",
        "# filename = f'{root_path}/ocsvm_model_jason_727.joblib'\n",
        "# joblib.dump(ocsvm, filename)"
      ]
    },
    {
      "cell_type": "markdown",
      "metadata": {
        "tags": [],
        "id": "WTg7t9GKZQba"
      },
      "source": [
        "### Model test on training set"
      ]
    },
    {
      "cell_type": "code",
      "execution_count": null,
      "metadata": {
        "id": "MtyF2jCyAAsv"
      },
      "outputs": [],
      "source": [
        "# ocsvm = joblib.load(f'{root_path}/ocsvm_model.joblib')"
      ]
    },
    {
      "cell_type": "markdown",
      "metadata": {
        "jp-MarkdownHeadingCollapsed": true,
        "tags": [],
        "id": "nhKa1_S9ZQbc"
      },
      "source": [
        "#### On genuine train"
      ]
    },
    {
      "cell_type": "code",
      "execution_count": null,
      "metadata": {
        "id": "jf8F1CsjkL14",
        "outputId": "12658381-956b-4a23-a89e-f3eb49af70e9"
      },
      "outputs": [
        {
          "name": "stdout",
          "output_type": "stream",
          "text": [
            "Accuracy Score for Train Human Set: 0.9003856041131105\n",
            "Precision Score for Train Human Set: 1.0\n",
            "Recall Score for Train Human Set: 0.9003856041131105\n",
            "F1 Score for Train Human Set: 0.9475820087926953\n"
          ]
        }
      ],
      "source": [
        "genuine_train_labels = np.full(len(genuine_train), 1)\n",
        "\n",
        "# Predict the class of the training data\n",
        "genuine_predictions_train = ocsvm.predict(genuine_train)\n",
        "\n",
        "from sklearn.metrics import accuracy_score\n",
        "from sklearn.metrics import precision_score\n",
        "from sklearn.metrics import recall_score\n",
        "from sklearn.metrics import f1_score\n",
        "\n",
        "print(\"Accuracy Score for Train Human Set:\", accuracy_score(genuine_train_labels, genuine_predictions_train))\n",
        "print(\"Precision Score for Train Human Set:\", precision_score(genuine_train_labels, genuine_predictions_train))\n",
        "print(\"Recall Score for Train Human Set:\", recall_score(genuine_train_labels, genuine_predictions_train))\n",
        "print(\"F1 Score for Train Human Set:\", f1_score(genuine_train_labels, genuine_predictions_train))"
      ]
    },
    {
      "cell_type": "code",
      "execution_count": null,
      "metadata": {
        "id": "e_z9gbD0ZQbd",
        "outputId": "dd2d72fe-21cb-48a3-edef-28f223fd42ea"
      },
      "outputs": [
        {
          "data": {
            "image/png": "[encoded data removed]",
            "text/plain": [
              "<Figure size 600x400 with 2 Axes>"
            ]
          },
          "metadata": {},
          "output_type": "display_data"
        }
      ],
      "source": [
        "import numpy as np\n",
        "import matplotlib.pyplot as plt\n",
        "import seaborn as sns\n",
        "from sklearn.metrics import confusion_matrix\n",
        "conf_matrix = confusion_matrix(genuine_train_labels, genuine_predictions_train)\n",
        "\n",
        "# Define class labels (e.g., 'Positive' and 'Negative')\n",
        "class_labels = ['Bots','Humans']\n",
        "\n",
        "# Create a heatmap for the confusion matrix\n",
        "plt.figure(figsize=(6, 4))\n",
        "sns.heatmap(conf_matrix, annot=True, fmt='d', cmap='Blues', xticklabels=class_labels, yticklabels=class_labels)\n",
        "plt.xlabel('Predicted Labels')\n",
        "plt.ylabel('True Labels')\n",
        "plt.title('Confusion Matrix')\n",
        "plt.show()\n"
      ]
    },
    {
      "cell_type": "markdown",
      "metadata": {
        "jp-MarkdownHeadingCollapsed": true,
        "tags": [],
        "id": "Hjewo_vNZQbe"
      },
      "source": [
        "#### On fake train"
      ]
    },
    {
      "cell_type": "code",
      "execution_count": null,
      "metadata": {
        "colab": {
          "base_uri": "https://localhost:8080/"
        },
        "collapsed": true,
        "id": "Jzfx36-EjmS_",
        "jupyter": {
          "outputs_hidden": true
        },
        "outputId": "121530b2-fbc5-40f0-b7cf-c6df544f884a",
        "tags": []
      },
      "outputs": [
        {
          "ename": "ValueError",
          "evalue": "Found input variables with inconsistent numbers of samples: [2561, 1556]",
          "output_type": "error",
          "traceback": [
            "\u001b[0;31m---------------------------------------------------------------------------\u001b[0m",
            "\u001b[0;31mValueError\u001b[0m                                Traceback (most recent call last)",
            "Cell \u001b[0;32mIn [113], line 8\u001b[0m\n\u001b[1;32m      5\u001b[0m \u001b[38;5;28;01mfrom\u001b[39;00m \u001b[38;5;21;01msklearn\u001b[39;00m\u001b[38;5;21;01m.\u001b[39;00m\u001b[38;5;21;01mmetrics\u001b[39;00m \u001b[38;5;28;01mimport\u001b[39;00m recall_score\n\u001b[1;32m      6\u001b[0m \u001b[38;5;28;01mfrom\u001b[39;00m \u001b[38;5;21;01msklearn\u001b[39;00m\u001b[38;5;21;01m.\u001b[39;00m\u001b[38;5;21;01mmetrics\u001b[39;00m \u001b[38;5;28;01mimport\u001b[39;00m f1_score\n\u001b[0;32m----> 8\u001b[0m \u001b[38;5;28mprint\u001b[39m(\u001b[38;5;124m\"\u001b[39m\u001b[38;5;124mAccuracy Score for Train Bot Set:\u001b[39m\u001b[38;5;124m\"\u001b[39m, \u001b[43maccuracy_score\u001b[49m\u001b[43m(\u001b[49m\u001b[43mfake_train_labels\u001b[49m\u001b[43m,\u001b[49m\u001b[43m \u001b[49m\u001b[43mpredictions_train\u001b[49m\u001b[43m)\u001b[49m)\n\u001b[1;32m      9\u001b[0m \u001b[38;5;28mprint\u001b[39m(\u001b[38;5;124m\"\u001b[39m\u001b[38;5;124mPrecision Score for Train Bot Set:\u001b[39m\u001b[38;5;124m\"\u001b[39m, precision_score(fake_train_labels, predictions_train))\n\u001b[1;32m     10\u001b[0m \u001b[38;5;28mprint\u001b[39m(\u001b[38;5;124m\"\u001b[39m\u001b[38;5;124mRecall Score for Train Bot Set:\u001b[39m\u001b[38;5;124m\"\u001b[39m, recall_score(fake_train_labels, predictions_train))\n",
            "File \u001b[0;32m/usr/local/lib/python3.9/dist-packages/sklearn/metrics/_classification.py:211\u001b[0m, in \u001b[0;36maccuracy_score\u001b[0;34m(y_true, y_pred, normalize, sample_weight)\u001b[0m\n\u001b[1;32m    145\u001b[0m \u001b[38;5;250m\u001b[39m\u001b[38;5;124;03m\"\"\"Accuracy classification score.\u001b[39;00m\n\u001b[1;32m    146\u001b[0m \n\u001b[1;32m    147\u001b[0m \u001b[38;5;124;03mIn multilabel classification, this function computes subset accuracy:\u001b[39;00m\n\u001b[0;32m   (...)\u001b[0m\n\u001b[1;32m    207\u001b[0m \u001b[38;5;124;03m0.5\u001b[39;00m\n\u001b[1;32m    208\u001b[0m \u001b[38;5;124;03m\"\"\"\u001b[39;00m\n\u001b[1;32m    210\u001b[0m \u001b[38;5;66;03m# Compute accuracy for each possible representation\u001b[39;00m\n\u001b[0;32m--> 211\u001b[0m y_type, y_true, y_pred \u001b[38;5;241m=\u001b[39m \u001b[43m_check_targets\u001b[49m\u001b[43m(\u001b[49m\u001b[43my_true\u001b[49m\u001b[43m,\u001b[49m\u001b[43m \u001b[49m\u001b[43my_pred\u001b[49m\u001b[43m)\u001b[49m\n\u001b[1;32m    212\u001b[0m check_consistent_length(y_true, y_pred, sample_weight)\n\u001b[1;32m    213\u001b[0m \u001b[38;5;28;01mif\u001b[39;00m y_type\u001b[38;5;241m.\u001b[39mstartswith(\u001b[38;5;124m\"\u001b[39m\u001b[38;5;124mmultilabel\u001b[39m\u001b[38;5;124m\"\u001b[39m):\n",
            "File \u001b[0;32m/usr/local/lib/python3.9/dist-packages/sklearn/metrics/_classification.py:84\u001b[0m, in \u001b[0;36m_check_targets\u001b[0;34m(y_true, y_pred)\u001b[0m\n\u001b[1;32m     57\u001b[0m \u001b[38;5;28;01mdef\u001b[39;00m \u001b[38;5;21m_check_targets\u001b[39m(y_true, y_pred):\n\u001b[1;32m     58\u001b[0m \u001b[38;5;250m    \u001b[39m\u001b[38;5;124;03m\"\"\"Check that y_true and y_pred belong to the same classification task.\u001b[39;00m\n\u001b[1;32m     59\u001b[0m \n\u001b[1;32m     60\u001b[0m \u001b[38;5;124;03m    This converts multiclass or binary types to a common shape, and raises a\u001b[39;00m\n\u001b[0;32m   (...)\u001b[0m\n\u001b[1;32m     82\u001b[0m \u001b[38;5;124;03m    y_pred : array or indicator matrix\u001b[39;00m\n\u001b[1;32m     83\u001b[0m \u001b[38;5;124;03m    \"\"\"\u001b[39;00m\n\u001b[0;32m---> 84\u001b[0m     \u001b[43mcheck_consistent_length\u001b[49m\u001b[43m(\u001b[49m\u001b[43my_true\u001b[49m\u001b[43m,\u001b[49m\u001b[43m \u001b[49m\u001b[43my_pred\u001b[49m\u001b[43m)\u001b[49m\n\u001b[1;32m     85\u001b[0m     type_true \u001b[38;5;241m=\u001b[39m type_of_target(y_true, input_name\u001b[38;5;241m=\u001b[39m\u001b[38;5;124m\"\u001b[39m\u001b[38;5;124my_true\u001b[39m\u001b[38;5;124m\"\u001b[39m)\n\u001b[1;32m     86\u001b[0m     type_pred \u001b[38;5;241m=\u001b[39m type_of_target(y_pred, input_name\u001b[38;5;241m=\u001b[39m\u001b[38;5;124m\"\u001b[39m\u001b[38;5;124my_pred\u001b[39m\u001b[38;5;124m\"\u001b[39m)\n",
            "File \u001b[0;32m/usr/local/lib/python3.9/dist-packages/sklearn/utils/validation.py:387\u001b[0m, in \u001b[0;36mcheck_consistent_length\u001b[0;34m(*arrays)\u001b[0m\n\u001b[1;32m    385\u001b[0m uniques \u001b[38;5;241m=\u001b[39m np\u001b[38;5;241m.\u001b[39munique(lengths)\n\u001b[1;32m    386\u001b[0m \u001b[38;5;28;01mif\u001b[39;00m \u001b[38;5;28mlen\u001b[39m(uniques) \u001b[38;5;241m>\u001b[39m \u001b[38;5;241m1\u001b[39m:\n\u001b[0;32m--> 387\u001b[0m     \u001b[38;5;28;01mraise\u001b[39;00m \u001b[38;5;167;01mValueError\u001b[39;00m(\n\u001b[1;32m    388\u001b[0m         \u001b[38;5;124m\"\u001b[39m\u001b[38;5;124mFound input variables with inconsistent numbers of samples: \u001b[39m\u001b[38;5;132;01m%r\u001b[39;00m\u001b[38;5;124m\"\u001b[39m\n\u001b[1;32m    389\u001b[0m         \u001b[38;5;241m%\u001b[39m [\u001b[38;5;28mint\u001b[39m(l) \u001b[38;5;28;01mfor\u001b[39;00m l \u001b[38;5;129;01min\u001b[39;00m lengths]\n\u001b[1;32m    390\u001b[0m     )\n",
            "\u001b[0;31mValueError\u001b[0m: Found input variables with inconsistent numbers of samples: [2561, 1556]"
          ]
        }
      ],
      "source": [
        "fake_train_labels = np.full(len(fake_train), 1)\n",
        "\n",
        "# Predict the class of the training data\n",
        "predictions_train = ocsvm.predict(genuine_train)\n",
        "\n",
        "from sklearn.metrics import accuracy_score\n",
        "from sklearn.metrics import precision_score\n",
        "from sklearn.metrics import recall_score\n",
        "from sklearn.metrics import f1_score\n",
        "\n",
        "print(\"Accuracy Score for Train Bot Set:\", accuracy_score(fake_train_labels, predictions_train))\n",
        "print(\"Precision Score for Train Bot Set:\", precision_score(fake_train_labels, predictions_train))\n",
        "print(\"Recall Score for Train Bot Set:\", recall_score(fake_train_labels, predictions_train))\n",
        "print(\"F1 Score for Train Bot Set:\", f1_score(fake_train_labels, predictions_train))"
      ]
    },
    {
      "cell_type": "code",
      "execution_count": null,
      "metadata": {
        "id": "KJ0N6hrYZQbe",
        "outputId": "f3f2a162-d586-4f80-a86b-05291d6e0b3e"
      },
      "outputs": [
        {
          "data": {
            "image/png": "[encoded data removed]",
            "text/plain": [
              "<Figure size 600x400 with 2 Axes>"
            ]
          },
          "metadata": {},
          "output_type": "display_data"
        }
      ],
      "source": [
        "import numpy as np\n",
        "import matplotlib.pyplot as plt\n",
        "import seaborn as sns\n",
        "from sklearn.metrics import confusion_matrix\n",
        "conf_matrix = confusion_matrix(fake_train_labels, predictions_train)\n",
        "\n",
        "# Define class labels (e.g., 'Positive' and 'Negative')\n",
        "class_labels = ['Humans', 'Bots']\n",
        "\n",
        "# Create a heatmap for the confusion matrix\n",
        "plt.figure(figsize=(6, 4))\n",
        "sns.heatmap(conf_matrix, annot=True, fmt='d', cmap='Blues', xticklabels=class_labels, yticklabels=class_labels)\n",
        "plt.xlabel('Predicted Labels')\n",
        "plt.ylabel('True Labels')\n",
        "plt.title('Confusion Matrix')\n",
        "plt.show()"
      ]
    },
    {
      "cell_type": "markdown",
      "metadata": {
        "id": "GIwC3Z2VZQbe"
      },
      "source": [
        "### Model on bot test set"
      ]
    },
    {
      "cell_type": "code",
      "execution_count": null,
      "metadata": {
        "colab": {
          "base_uri": "https://localhost:8080/"
        },
        "id": "A2Is4HK4pKoi",
        "outputId": "841ae419-57f3-4880-a964-3f1115701603"
      },
      "outputs": [
        {
          "name": "stdout",
          "output_type": "stream",
          "text": [
            "Accuracy Score for Test Bot Set: 1.0\n",
            "Precision Score for Test Bot Set: 1.0\n",
            "Recall Score for Test Bot Set: 1.0\n",
            "F1 Score for Test Bot Set: 1.0\n"
          ]
        }
      ],
      "source": [
        "#Accuracy on Bot Tweets Test Set\n",
        "fake_test_labels = np.full(len(fake_test), 1)\n",
        "\n",
        "# Predict anomaly scores (-1 for anomalies, 1 for normal data points)\n",
        "prediction_fake_test = ocsvm.predict(fake_test)\n",
        "\n",
        "print(\"Accuracy Score for Test Bot Set:\", accuracy_score(fake_test_labels, prediction_fake_test))\n",
        "print(\"Precision Score for Test Bot Set:\", precision_score(fake_test_labels, prediction_fake_test))\n",
        "print(\"Recall Score for Test Bot Set:\", recall_score(fake_test_labels, prediction_fake_test))\n",
        "print(\"F1 Score for Test Bot Set:\", f1_score(fake_test_labels, prediction_fake_test))"
      ]
    },
    {
      "cell_type": "code",
      "execution_count": null,
      "metadata": {
        "id": "tE75knaxZQbf",
        "outputId": "8e8358ea-0f36-41cb-c86a-f72964a7e3c8"
      },
      "outputs": [
        {
          "data": {
            "image/png": "[encoded data removed]",
            "text/plain": [
              "<Figure size 600x400 with 2 Axes>"
            ]
          },
          "metadata": {},
          "output_type": "display_data"
        }
      ],
      "source": [
        "import numpy as np\n",
        "import matplotlib.pyplot as plt\n",
        "import seaborn as sns\n",
        "from sklearn.metrics import confusion_matrix\n",
        "# Define class labels based on your understanding of inliers and outliers\n",
        "class_labels = ['Humans', 'Bots']\n",
        "\n",
        "# Compute the confusion matrix\n",
        "conf_matrix = confusion_matrix(fake_test_labels, prediction_fake_test)\n",
        "\n",
        "# Create a heatmap for the confusion matrix\n",
        "plt.figure(figsize=(6, 4))\n",
        "sns.heatmap(conf_matrix, annot=True, fmt='d', cmap='Blues', xticklabels=class_labels, yticklabels=class_labels)\n",
        "plt.xlabel('Predicted Labels')\n",
        "plt.ylabel('True Labels')\n",
        "plt.title('Confusion Matrix')\n",
        "plt.show()\n"
      ]
    },
    {
      "cell_type": "code",
      "execution_count": null,
      "metadata": {
        "id": "FC8qeKpRZQbf",
        "outputId": "1fad0f0d-2834-44e5-b2a0-573546e96843"
      },
      "outputs": [
        {
          "name": "stdout",
          "output_type": "stream",
          "text": [
            "Accuracy Score for Test Human Set: 0.0\n",
            "Precision Score for Test Human Set: 0.0\n",
            "Recall Score for Test Human Set: 0.0\n",
            "F1 Score for Test Human Set: 0.0\n"
          ]
        },
        {
          "name": "stderr",
          "output_type": "stream",
          "text": [
            "/usr/local/lib/python3.9/dist-packages/sklearn/metrics/_classification.py:1334: UndefinedMetricWarning: Recall is ill-defined and being set to 0.0 due to no true samples. Use `zero_division` parameter to control this behavior.\n",
            "  _warn_prf(average, modifier, msg_start, len(result))\n"
          ]
        }
      ],
      "source": [
        "#Accuracy on Bot Tweets Test Set\n",
        "genuine_test_labels = np.full(len(genuine_test), -1)\n",
        "\n",
        "# Predict anomaly scores (-1 for anomalies, 1 for normal data points)\n",
        "prediction_genuine_test = ocsvm.predict(genuine_test)\n",
        "\n",
        "print(\"Accuracy Score for Test Human Set:\", accuracy_score(genuine_test_labels, prediction_genuine_test))\n",
        "print(\"Precision Score for Test Human Set:\", precision_score(genuine_test_labels, prediction_genuine_test))\n",
        "print(\"Recall Score for Test Human Set:\", recall_score(genuine_test_labels, prediction_genuine_test))\n",
        "print(\"F1 Score for Test Human Set:\", f1_score(genuine_test_labels, prediction_genuine_test))"
      ]
    },
    {
      "cell_type": "code",
      "execution_count": null,
      "metadata": {
        "colab": {
          "base_uri": "https://localhost:8080/",
          "height": 410
        },
        "id": "FF5RUpwr8-aT",
        "outputId": "3a346730-c497-4f96-d15c-579cccd871a1",
        "tags": []
      },
      "outputs": [
        {
          "data": {
            "image/png": "[encoded data removed]",
            "text/plain": [
              "<Figure size 600x400 with 2 Axes>"
            ]
          },
          "metadata": {},
          "output_type": "display_data"
        }
      ],
      "source": [
        "import numpy as np\n",
        "import matplotlib.pyplot as plt\n",
        "import seaborn as sns\n",
        "from sklearn.metrics import confusion_matrix\n",
        "conf_matrix = confusion_matrix(genuine_test_labels, prediction_genuine_test)\n",
        "\n",
        "# Define class labels (e.g., 'Positive' and 'Negative')\n",
        "class_labels = ['Humans', 'Bots']\n",
        "\n",
        "# Create a heatmap for the confusion matrix\n",
        "plt.figure(figsize=(6, 4))\n",
        "sns.heatmap(conf_matrix, annot=True, fmt='d', cmap='Blues', xticklabels=class_labels, yticklabels=class_labels)\n",
        "plt.xlabel('Predicted Labels')\n",
        "plt.ylabel('True Labels')\n",
        "plt.title('Confusion Matrix')\n",
        "plt.show()"
      ]
    },
    {
      "cell_type": "code",
      "execution_count": null,
      "metadata": {
        "id": "X6aghh-oZQbg"
      },
      "outputs": [],
      "source": []
    }
  ],
  "metadata": {
    "colab": {
      "provenance": [],
      "include_colab_link": true
    },
    "kernelspec": {
      "display_name": "Python 3 (ipykernel)",
      "language": "python",
      "name": "python3"
    },
    "language_info": {
      "codemirror_mode": {
        "name": "ipython",
        "version": 3
      },
      "file_extension": ".py",
      "mimetype": "text/x-python",
      "name": "python",
      "nbconvert_exporter": "python",
      "pygments_lexer": "ipython3",
      "version": "3.9.16"
    }
  },
  "nbformat": 4,
  "nbformat_minor": 0
}