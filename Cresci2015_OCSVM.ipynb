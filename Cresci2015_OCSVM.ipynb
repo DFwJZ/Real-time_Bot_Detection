{
  "cells": [
    {
      "cell_type": "markdown",
      "metadata": {
        "id": "view-in-github",
        "colab_type": "text"
      },
      "source": [
        "<a href=\"https://colab.research.google.com/github/DFwJZ/Real-time_Bot_Detection/blob/main/Cresci2015_OCSVM.ipynb\" target=\"_parent\"><img src=\"https://colab.research.google.com/assets/colab-badge.svg\" alt=\"Open In Colab\"/></a>"
      ]
    },
    {
      "cell_type": "code",
      "execution_count": null,
      "metadata": {
        "id": "y1ehKRM0bE3j"
      },
      "outputs": [],
      "source": [
        "import pandas as pd\n",
        "import numpy as np"
      ]
    },
    {
      "cell_type": "code",
      "execution_count": null,
      "metadata": {
        "id": "XZ7HFd7GTurn"
      },
      "outputs": [],
      "source": [
        "# root_path = \"/content/drive/MyDrive/Bot_detection/cresÍci tweets/cresci 2015\"\n",
        "\n",
        "# Jason's file path\n",
        "root_path = \"notebooks/data\""
      ]
    },
    {
      "cell_type": "code",
      "execution_count": null,
      "metadata": {
        "id": "jZMzBowSYnlN",
        "outputId": "03b6179c-eff9-4abf-f15d-cd52169c90ca"
      },
      "outputs": [
        {
          "name": "stdout",
          "output_type": "stream",
          "text": [
            "/notebooks/notebooks\n"
          ]
        }
      ],
      "source": [
        "!pwd"
      ]
    },
    {
      "cell_type": "code",
      "execution_count": null,
      "metadata": {
        "id": "X2ymp9AWYnlP",
        "outputId": "417e8e99-65f9-49a8-8863-d5f275187529"
      },
      "outputs": [
        {
          "name": "stdout",
          "output_type": "stream",
          "text": [
            "/notebooks\n"
          ]
        }
      ],
      "source": [
        "%cd .."
      ]
    },
    {
      "cell_type": "code",
      "execution_count": null,
      "metadata": {
        "id": "NEbTU8nEYnlR",
        "outputId": "cc6fadac-2699-413d-f8ec-5e536a627ab2"
      },
      "outputs": [
        {
          "name": "stdout",
          "output_type": "stream",
          "text": [
            "CITATION.cff\t    README_hd.md\t     docs\t     setup.py\n",
            "CODE_OF_CONDUCT.md  README_ja.md\t     examples\t     src\n",
            "CONTRIBUTING.md     README_ko.md\t     hubconf.py      templates\n",
            "ISSUES.md\t    README_zh-hans.md\t     model_cards     tests\n",
            "LICENSE\t\t    README_zh-hant.md\t     notebooks\t     utils\n",
            "Makefile\t    awesome-transformers.md  pyproject.toml\n",
            "README.md\t    conftest.py\t\t     scripts\n",
            "README_es.md\t    docker\t\t     setup.cfg\n"
          ]
        }
      ],
      "source": [
        "!ls"
      ]
    },
    {
      "cell_type": "code",
      "execution_count": null,
      "metadata": {
        "id": "S5zuKXsicqDe"
      },
      "outputs": [],
      "source": [
        "# df_total_fake = np.load('/content/drive/MyDrive/Bot_detection/cresci tweets/cresci 2015/fake_embeddings_combined_400k.npy')\n",
        "# df_total_genuine = np.load('/content/drive/MyDrive/Bot_detection/cresci tweets/cresci 2015/genuine_embeddings_combined_400k.npy')\n",
        "df_total_fake = np.load(f'{root_path}/fake_embeddings_combined_400k.npy')\n",
        "df_total_genuine = np.load(f'{root_path}/genuine_embeddings_combined_400k.npy')"
      ]
    },
    {
      "cell_type": "code",
      "execution_count": null,
      "metadata": {
        "colab": {
          "base_uri": "https://localhost:8080/"
        },
        "id": "bjUqK_0rLW7_",
        "outputId": "10c9c12d-89d0-4a5a-9a57-f6a1452f2578"
      },
      "outputs": [
        {
          "name": "stdout",
          "output_type": "stream",
          "text": [
            "Total bots: 395987\n",
            "Total Humans: 399321\n"
          ]
        }
      ],
      "source": [
        "print(\"Total bots:\",len(df_total_fake))\n",
        "print(\"Total Humans:\",len(df_total_genuine))"
      ]
    },
    {
      "cell_type": "code",
      "execution_count": null,
      "metadata": {
        "colab": {
          "base_uri": "https://localhost:8080/"
        },
        "id": "g9hQEnWdbH97",
        "outputId": "ccab23a2-2a1e-42af-abe6-323909b2e281"
      },
      "outputs": [
        {
          "name": "stdout",
          "output_type": "stream",
          "text": [
            "bot train count: 316789\n",
            "bot test count: 79198\n"
          ]
        }
      ],
      "source": [
        "# This is the feature vector that goes to the neural net\n",
        "  #The whole array goes in\n",
        "\n",
        "\n",
        "from sklearn.model_selection import train_test_split\n",
        "\n",
        "fake_train, fake_test = train_test_split(\n",
        "        df_total_fake, test_size=0.2, random_state=42)\n",
        "\n",
        "print(f\"bot train count: {len(fake_train)}\")\n",
        "print(f\"bot test count: {len(fake_test)}\")"
      ]
    },
    {
      "cell_type": "markdown",
      "metadata": {
        "id": "twjO2Jdo6EMW"
      },
      "source": [
        "train data = 80% of bot tweet\n",
        "\n",
        "- train accuracy determined by 20% of bot tweets (unseen)\n",
        "\n",
        "test accuracy 100% human tweet (accuracy is reversed) (aka we want low)"
      ]
    },
    {
      "cell_type": "markdown",
      "metadata": {
        "id": "Yw705nxfbAz1"
      },
      "source": [
        "###OCSVM Model"
      ]
    },
    {
      "cell_type": "code",
      "execution_count": null,
      "metadata": {
        "id": "l5SQmkgM73Qq"
      },
      "outputs": [],
      "source": [
        "import numpy as np\n",
        "import pandas as pd\n",
        "from sklearn import svm\n",
        "from sklearn.preprocessing import StandardScaler"
      ]
    },
    {
      "cell_type": "code",
      "execution_count": null,
      "metadata": {
        "colab": {
          "base_uri": "https://localhost:8080/"
        },
        "id": "3cBVbzHPZ3t0",
        "outputId": "fd498d94-3e2a-436b-c2da-148157e11e6a"
      },
      "outputs": [
        {
          "data": {
            "text/plain": [
              "array([[ 0.42161375,  0.24456975, -0.12698323, ..., -0.03110121,\n",
              "         0.27584806,  0.05251782],\n",
              "       [ 0.33703452,  0.05036569, -0.05794121, ..., -0.17393969,\n",
              "         0.29939273,  0.20818993],\n",
              "       [ 0.3787974 ,  0.01040361, -0.09097986, ..., -0.09276678,\n",
              "         0.40695712,  0.16251756],\n",
              "       ...,\n",
              "       [ 0.30567703,  0.19183443, -0.04613812, ...,  0.04690658,\n",
              "         0.30151853,  0.15685706],\n",
              "       [ 0.36703116,  0.14140385,  0.04873623, ...,  0.05519304,\n",
              "         0.3806806 ,  0.16041802],\n",
              "       [ 0.30986986,  0.15214097, -0.12487481, ..., -0.23122038,\n",
              "         0.28825495,  0.12712464]], dtype=float32)"
            ]
          },
          "execution_count": 10,
          "metadata": {},
          "output_type": "execute_result"
        }
      ],
      "source": [
        "fake_train"
      ]
    },
    {
      "cell_type": "code",
      "execution_count": null,
      "metadata": {
        "id": "_FK6R1nL7iLM"
      },
      "outputs": [],
      "source": [
        "ocsvm = svm.OneClassSVM(nu=0.1, kernel='rbf', gamma='scale')\n",
        "\n",
        "# Train the model\n",
        "ocsvm.fit(fake_train)\n",
        "import joblib\n",
        "# filename = '/content/drive/MyDrive/Bot_detection/cresci tweets/ocsvm_model_jason.joblib'\n",
        "filename = f'{root_path}/ocsvm_model_jason_727.joblib'\n",
        "joblib.dump(ocsvm, filename)"
      ]
    },
    {
      "cell_type": "code",
      "execution_count": null,
      "metadata": {
        "id": "MtyF2jCyAAsv"
      },
      "outputs": [],
      "source": [
        "ocsvm = joblib.load(f'{root_path}/ocsvm_model.joblib')"
      ]
    },
    {
      "cell_type": "code",
      "execution_count": null,
      "metadata": {
        "id": "jf8F1CsjkL14"
      },
      "outputs": [],
      "source": [
        "# Predict the class of the training data\n",
        "predictions_train = ocsvm.predict(fake_train_test)"
      ]
    },
    {
      "cell_type": "code",
      "execution_count": null,
      "metadata": {
        "colab": {
          "base_uri": "https://localhost:8080/"
        },
        "id": "Jzfx36-EjmS_",
        "outputId": "121530b2-fbc5-40f0-b7cf-c6df544f884a"
      },
      "outputs": [
        {
          "name": "stdout",
          "output_type": "stream",
          "text": [
            "Accuracy Score for Train Bot Set: 0.89997\n",
            "Precision Score for Train Bot Set: 1.0\n",
            "Recall Score for Train Bot Set: 0.89997\n",
            "F1 Score for Train Bot Set: 0.9473518002915835\n"
          ]
        }
      ],
      "source": [
        "fake_train_labels = np.full(len(fake_train_test), 1)\n",
        "\n",
        "from sklearn.metrics import accuracy_score\n",
        "from sklearn.metrics import precision_score\n",
        "from sklearn.metrics import recall_score\n",
        "from sklearn.metrics import f1_score\n",
        "\n",
        "print(\"Accuracy Score for Train Bot Set:\", accuracy_score(fake_train_labels, predictions_train))\n",
        "print(\"Precision Score for Train Bot Set:\", precision_score(fake_train_labels, predictions_train))\n",
        "print(\"Recall Score for Train Bot Set:\", recall_score(fake_train_labels, predictions_train))\n",
        "print(\"F1 Score for Train Bot Set:\", f1_score(fake_train_labels, predictions_train))"
      ]
    },
    {
      "cell_type": "code",
      "execution_count": null,
      "metadata": {
        "colab": {
          "base_uri": "https://localhost:8080/"
        },
        "id": "A2Is4HK4pKoi",
        "outputId": "841ae419-57f3-4880-a964-3f1115701603"
      },
      "outputs": [
        {
          "name": "stdout",
          "output_type": "stream",
          "text": [
            "Accuracy Score for Test Bot Set: 0.8987221899542918\n",
            "Precision Score for Test Bot Set: 1.0\n",
            "Recall Score for Test Bot Set: 0.8987221899542918\n",
            "F1 Score for Test Bot Set: 0.9466600166251039\n"
          ]
        }
      ],
      "source": [
        "#Accuracy on Bot Tweets Test Set\n",
        "fake_test_labels = np.full(len(fake_test), 1)\n",
        "\n",
        "# Predict anomaly scores (-1 for anomalies, 1 for normal data points)\n",
        "prediction_fake_test = ocsvm.predict(fake_test)\n",
        "\n",
        "print(\"Accuracy Score for Test Bot Set:\", accuracy_score(fake_test_labels, prediction_fake_test))\n",
        "print(\"Precision Score for Test Bot Set:\", precision_score(fake_test_labels, prediction_fake_test))\n",
        "print(\"Recall Score for Test Bot Set:\", recall_score(fake_test_labels, prediction_fake_test))\n",
        "print(\"F1 Score for Test Bot Set:\", f1_score(fake_test_labels, prediction_fake_test))"
      ]
    },
    {
      "cell_type": "code",
      "execution_count": null,
      "metadata": {
        "colab": {
          "base_uri": "https://localhost:8080/"
        },
        "id": "2MSC-QiclCAv",
        "outputId": "ec9aebce-2d73-44df-96a1-1ac20fe96e81"
      },
      "outputs": [
        {
          "name": "stdout",
          "output_type": "stream",
          "text": [
            "Accuracy Score for Human Set: 0.9439\n"
          ]
        }
      ],
      "source": [
        "#Accuracy on Human Tweets\n",
        "genuine_test = df_total_genuine[:10000]\n",
        "\n",
        "predictions_new = ocsvm.predict(genuine_test)\n",
        "\n",
        "genuine_train_labels = np.full(len(genuine_test), -1)\n",
        "\n",
        "print(\"Accuracy Score for Human Set:\", accuracy_score(genuine_train_labels, predictions_new))"
      ]
    },
    {
      "cell_type": "code",
      "execution_count": null,
      "metadata": {
        "colab": {
          "base_uri": "https://localhost:8080/"
        },
        "id": "aN7qothr8-aS",
        "outputId": "9358c264-bc2c-45e7-dfdc-926ff6207db5"
      },
      "outputs": [
        {
          "name": "stdout",
          "output_type": "stream",
          "text": [
            "9439\n"
          ]
        }
      ],
      "source": [
        "bot = 0\n",
        "for pre in predictions_new:\n",
        "  if pre == 1:\n",
        "    bot+=1\n",
        "\n",
        "print(bot)"
      ]
    },
    {
      "cell_type": "code",
      "execution_count": null,
      "metadata": {
        "colab": {
          "base_uri": "https://localhost:8080/",
          "height": 410
        },
        "id": "FF5RUpwr8-aT",
        "outputId": "3a346730-c497-4f96-d15c-579cccd871a1"
      },
      "outputs": [
        {
          "data": {
            "image/png": "[encoded data removed]",
            "text/plain": [
              "<Figure size 600x400 with 2 Axes>"
            ]
          },
          "metadata": {},
          "output_type": "display_data"
        }
      ],
      "source": [
        "import numpy as np\n",
        "import matplotlib.pyplot as plt\n",
        "import seaborn as sns\n",
        "from sklearn.metrics import confusion_matrix\n",
        "conf_matrix = confusion_matrix(genuine_train_labels, predictions_new)\n",
        "\n",
        "# Define class labels (e.g., 'Positive' and 'Negative')\n",
        "class_labels = ['Humans', 'Bots']\n",
        "\n",
        "# Create a heatmap for the confusion matrix\n",
        "plt.figure(figsize=(6, 4))\n",
        "sns.heatmap(conf_matrix, annot=True, fmt='d', cmap='Blues', xticklabels=class_labels, yticklabels=class_labels)\n",
        "plt.xlabel('Predicted Labels')\n",
        "plt.ylabel('True Labels')\n",
        "plt.title('Confusion Matrix')\n",
        "plt.show()"
      ]
    }
  ],
  "metadata": {
    "colab": {
      "provenance": [],
      "include_colab_link": true
    },
    "kernelspec": {
      "display_name": "Python 3 (ipykernel)",
      "language": "python",
      "name": "python3"
    },
    "language_info": {
      "codemirror_mode": {
        "name": "ipython",
        "version": 3
      },
      "file_extension": ".py",
      "mimetype": "text/x-python",
      "name": "python",
      "nbconvert_exporter": "python",
      "pygments_lexer": "ipython3",
      "version": "3.9.16"
    }
  },
  "nbformat": 4,
  "nbformat_minor": 0
}